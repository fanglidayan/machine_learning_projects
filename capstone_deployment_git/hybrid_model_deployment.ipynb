{
 "cells": [
  {
   "cell_type": "code",
   "execution_count": 1,
   "id": "80cd25e3",
   "metadata": {},
   "outputs": [
    {
     "name": "stdout",
     "output_type": "stream",
     "text": [
      "INFO:tensorflow:Enabling eager execution\n",
      "INFO:tensorflow:Enabling v2 tensorshape\n",
      "INFO:tensorflow:Enabling resource variables\n",
      "INFO:tensorflow:Enabling tensor equality\n",
      "INFO:tensorflow:Enabling control flow v2\n"
     ]
    }
   ],
   "source": [
    "import random\n",
    "import time\n",
    "import sys\n",
    "import gc\n",
    "import pickle\n",
    "import pandas as pd\n",
    "import numpy as np\n",
    "import matplotlib.pyplot as plt\n",
    "import seaborn as sns\n",
    "from sklearn.metrics import mean_squared_error, mean_absolute_error\n",
    "from sklearn.metrics.pairwise import cosine_similarity\n",
    "import tensorflow as tf\n",
    "from tensorflow.keras.layers import Input, Embedding, Reshape, Dot, Concatenate, Dense, Dropout\n",
    "from tensorflow.keras.models import Model\n",
    "import pickle\n",
    "from tqdm import tqdm"
   ]
  },
  {
   "cell_type": "markdown",
   "id": "bad96b03",
   "metadata": {
    "gradient": {
     "editing": false,
     "id": "bad96b03",
     "kernelId": ""
    }
   },
   "source": [
    "**re-create rank_dic for the hybrid model**"
   ]
  },
  {
   "cell_type": "code",
   "execution_count": 2,
   "id": "3e8aa70a",
   "metadata": {
    "gradient": {
     "editing": false,
     "id": "3e8aa70a",
     "kernelId": ""
    }
   },
   "outputs": [],
   "source": [
    "# df_train_filtered=pd.read_pickle('df_train_filtered.pkl')\n",
    "\n",
    "# # Mean rating for all movies\n",
    "# C = df_train_filtered['Rating'].mean()\n",
    "\n",
    "# # Mean rating for all movies separately\n",
    "# R = df_train_filtered.groupby(['Movie']).mean()['Rating'].values\n",
    "\n",
    "# # Rating freqency for all movies separately\n",
    "# v = df_train_filtered.groupby(['Movie']).count()['Rating'].values\n",
    "\n",
    "# # Number of minimum votes to be considered\n",
    "# m = v.min()\n",
    "\n",
    "# # Weighted formula to compute the weighted rating\n",
    "# weighted_score = pd.DataFrame(v/(v+m)*R+m/(v+m)*C, columns=['weighted_score'])\n",
    "# weighted_score.set_index(np.sort(df_train_filtered['Movie'].unique()), inplace=True)\n",
    "# weighted_score.sort_values(by='weighted_score', ascending=False, inplace=True)\n",
    "\n",
    "# from collections import OrderedDict\n",
    "\n",
    "# rank_dic=OrderedDict()\n",
    "\n",
    "# for i in range(weighted_score.shape[0]):\n",
    "#     rank_dic[weighted_score.index[i]]=weighted_score.iloc[i,0]\n",
    "\n",
    "# del df_train_filtered, C, R, v, m, weighted_score"
   ]
  },
  {
   "cell_type": "markdown",
   "id": "8fa6ff34",
   "metadata": {},
   "source": [
    "**save the re-created rank_dic for the hybrid model**"
   ]
  },
  {
   "cell_type": "code",
   "execution_count": 3,
   "id": "0db402a4",
   "metadata": {},
   "outputs": [],
   "source": [
    "# filtered_rank_dic_list=[]\n",
    "# for key in rank_dic:\n",
    "#     filtered_rank_dic_list.append([key, rank_dic[key]])\n",
    "    \n",
    "# with open('filtered_rank_dic_list.txt', 'wb') as fp:\n",
    "#     pickle.dump(filtered_rank_dic_list, fp)"
   ]
  },
  {
   "cell_type": "markdown",
   "id": "63f32009",
   "metadata": {},
   "source": [
    "**load dictionaries for the hybrid model**"
   ]
  },
  {
   "cell_type": "code",
   "execution_count": 4,
   "id": "36358e1d",
   "metadata": {},
   "outputs": [],
   "source": [
    "with open('filtered_user_id_mapping_list.txt', 'rb') as fp:\n",
    "    filtered_user_id_mapping_list=pickle.load(fp)\n",
    "    \n",
    "with open('filtered_movie_id_mapping_list.txt', 'rb') as fp:\n",
    "    filtered_movie_id_mapping_list=pickle.load(fp)\n",
    "    \n",
    "with open('filtered_rank_dic_list.txt', 'rb') as fp:\n",
    "    filtered_rank_dic_list=pickle.load(fp)\n",
    "    \n",
    "with open('bert_dic_list.txt', 'rb') as fp:\n",
    "    bert_dic_list=pickle.load(fp)\n",
    "    \n",
    "\n",
    "filtered_user_id_mapping={}\n",
    "\n",
    "filtered_movie_id_mapping={}\n",
    "\n",
    "filtered_rank_dic={}\n",
    "\n",
    "bert_dic={}\n",
    "\n",
    "for ele in filtered_user_id_mapping_list:\n",
    "    filtered_user_id_mapping[ele[0]]=ele[1]\n",
    "    \n",
    "for ele in filtered_movie_id_mapping_list:\n",
    "    filtered_movie_id_mapping[ele[0]]=ele[1]\n",
    "    \n",
    "for ele in filtered_rank_dic_list:\n",
    "    filtered_rank_dic[ele[0]]=ele[1]\n",
    "    \n",
    "for ele in bert_dic_list:\n",
    "    bert_dic[ele[0]]=ele[1]\n",
    "    \n",
    "del filtered_user_id_mapping_list, filtered_movie_id_mapping_list, filtered_rank_dic_list, bert_dic_list"
   ]
  },
  {
   "cell_type": "markdown",
   "id": "d07c14f2",
   "metadata": {
    "gradient": {
     "editing": false,
     "id": "d07c14f2",
     "kernelId": ""
    }
   },
   "source": [
    "**load models**"
   ]
  },
  {
   "cell_type": "code",
   "execution_count": 5,
   "id": "e08991f1",
   "metadata": {
    "gradient": {
     "editing": false,
     "id": "e08991f1",
     "kernelId": ""
    }
   },
   "outputs": [
    {
     "name": "stderr",
     "output_type": "stream",
     "text": [
      "2022-03-16 17:48:31.222829: I tensorflow/core/platform/cpu_feature_guard.cc:142] This TensorFlow binary is optimized with oneAPI Deep Neural Network Library (oneDNN) to use the following CPU instructions in performance-critical operations:  AVX2 FMA\n",
      "To enable them in other operations, rebuild TensorFlow with the appropriate compiler flags.\n"
     ]
    }
   ],
   "source": [
    "hybrid_model = tf.keras.models.load_model('./hybrid.h5')"
   ]
  },
  {
   "cell_type": "markdown",
   "id": "b09e2a80",
   "metadata": {
    "gradient": {
     "editing": false,
     "id": "b09e2a80",
     "kernelId": ""
    }
   },
   "source": [
    "**define a function that makes prediction**"
   ]
  },
  {
   "cell_type": "code",
   "execution_count": 6,
   "id": "8f1b5953",
   "metadata": {
    "gradient": {
     "editing": false,
     "id": "8f1b5953",
     "kernelId": ""
    }
   },
   "outputs": [],
   "source": [
    "def hybrid_pred(user_id, movie_id, filtered_user_id_mapping,\\\n",
    "              filtered_movie_id_mapping, filtered_rank_dic, hybrid_model):\n",
    "\n",
    "    user=filtered_user_id_mapping[user_id]  \n",
    "    movie=filtered_movie_id_mapping[movie_id]\n",
    "    overview=bert_dic[movie_id]\n",
    "    pred=hybrid_model.predict([np.array([user]), np.array([movie])\\\n",
    "                       ,np.array([overview])\\\n",
    "                       ])[0,0]+filtered_rank_dic[movie_id]\n",
    "    \n",
    "    if pred<1: pred=1\n",
    "    elif pred>5: pred=5\n",
    "    return pred"
   ]
  },
  {
   "cell_type": "markdown",
   "id": "4569a62b",
   "metadata": {},
   "source": [
    "**try to make a prediction**"
   ]
  },
  {
   "cell_type": "code",
   "execution_count": 7,
   "id": "4eaa23e5",
   "metadata": {
    "gradient": {
     "id": "4eaa23e5",
     "kernelId": ""
    }
   },
   "outputs": [],
   "source": [
    "hybrid_users=list(filtered_user_id_mapping.keys())\n",
    "hybrid_movies=list(filtered_movie_id_mapping.keys())"
   ]
  },
  {
   "cell_type": "code",
   "execution_count": 8,
   "id": "36364972",
   "metadata": {},
   "outputs": [
    {
     "data": {
      "text/plain": [
       "150245"
      ]
     },
     "execution_count": 8,
     "metadata": {},
     "output_type": "execute_result"
    }
   ],
   "source": [
    "len(hybrid_users)"
   ]
  },
  {
   "cell_type": "code",
   "execution_count": 9,
   "id": "89dcf7d6",
   "metadata": {
    "gradient": {
     "id": "89dcf7d6",
     "kernelId": ""
    }
   },
   "outputs": [
    {
     "name": "stderr",
     "output_type": "stream",
     "text": [
      "2022-03-16 17:48:32.712143: I tensorflow/compiler/mlir/mlir_graph_optimization_pass.cc:176] None of the MLIR Optimization Passes are enabled (registered 2)\n"
     ]
    },
    {
     "data": {
      "text/plain": [
       "(1.6041499213309378, 2.300797505769262)"
      ]
     },
     "execution_count": 9,
     "metadata": {},
     "output_type": "execute_result"
    }
   ],
   "source": [
    "user_id=hybrid_users[1130]\n",
    "movie_id=hybrid_movies[1701]\n",
    "hybrid_pred(user_id, movie_id, filtered_user_id_mapping, filtered_movie_id_mapping,\\\n",
    "            filtered_rank_dic, hybrid_model),\\\n",
    "filtered_rank_dic[movie_id]"
   ]
  },
  {
   "cell_type": "code",
   "execution_count": 10,
   "id": "420fb4fa",
   "metadata": {
    "gradient": {
     "id": "420fb4fa",
     "kernelId": ""
    }
   },
   "outputs": [
    {
     "name": "stdout",
     "output_type": "stream",
     "text": [
      "0\n",
      "<tensorflow.python.keras.engine.input_layer.InputLayer object at 0x7f990ae50c10>\n",
      "True\n",
      "1\n",
      "<tensorflow.python.keras.engine.input_layer.InputLayer object at 0x7f990b000a60>\n",
      "True\n",
      "2\n",
      "<tensorflow.python.keras.layers.embeddings.Embedding object at 0x7f990b00d790>\n",
      "True\n",
      "3\n",
      "<tensorflow.python.keras.layers.embeddings.Embedding object at 0x7f990b00d2e0>\n",
      "True\n",
      "4\n",
      "<tensorflow.python.keras.layers.embeddings.Embedding object at 0x7f990b00d1f0>\n",
      "True\n",
      "5\n",
      "<tensorflow.python.keras.engine.input_layer.InputLayer object at 0x7f990b00d4c0>\n",
      "True\n",
      "6\n",
      "<tensorflow.python.keras.layers.core.Reshape object at 0x7f990b00d8b0>\n",
      "True\n",
      "7\n",
      "<tensorflow.python.keras.layers.core.Reshape object at 0x7f99027107c0>\n",
      "True\n",
      "8\n",
      "<tensorflow.python.keras.layers.core.Reshape object at 0x7f990ae50bb0>\n",
      "True\n",
      "9\n",
      "<tensorflow.python.keras.layers.core.Dense object at 0x7f990b00d970>\n",
      "True\n",
      "10\n",
      "<tensorflow.python.keras.layers.merge.Dot object at 0x7f99027755e0>\n",
      "True\n",
      "11\n",
      "<tensorflow.python.keras.layers.merge.Dot object at 0x7f99027aac70>\n",
      "True\n",
      "12\n",
      "<tensorflow.python.keras.layers.merge.Concatenate object at 0x7f99025bfac0>\n",
      "True\n",
      "13\n",
      "<tensorflow.python.keras.layers.core.Dense object at 0x7f990ae50c40>\n",
      "True\n",
      "14\n",
      "<tensorflow.python.keras.layers.core.Dense object at 0x7f98fbe2b700>\n",
      "True\n",
      "15\n",
      "<tensorflow.python.keras.layers.core.Dense object at 0x7f98fbe2ba60>\n",
      "True\n"
     ]
    }
   ],
   "source": [
    "layers=hybrid_model.layers\n",
    "for i in range(len(layers)):\n",
    "    print(i)\n",
    "    print(layers[i])\n",
    "    print(layers[i].trainable)"
   ]
  },
  {
   "cell_type": "code",
   "execution_count": 11,
   "id": "b9b429c3",
   "metadata": {},
   "outputs": [
    {
     "name": "stdout",
     "output_type": "stream",
     "text": [
      "Model: \"model_1\"\n",
      "__________________________________________________________________________________________________\n",
      "Layer (type)                    Output Shape         Param #     Connected to                     \n",
      "==================================================================================================\n",
      "user (InputLayer)               [(None, 1)]          0                                            \n",
      "__________________________________________________________________________________________________\n",
      "movie (InputLayer)              [(None, 1)]          0                                            \n",
      "__________________________________________________________________________________________________\n",
      "embedding (Embedding)           (None, 1, 128)       19244160    user[0][0]                       \n",
      "__________________________________________________________________________________________________\n",
      "embedding_2 (Embedding)         (None, 1, 128)       542592      movie[0][0]                      \n",
      "__________________________________________________________________________________________________\n",
      "embedding_1 (Embedding)         (None, 1, 128)       19244160    user[0][0]                       \n",
      "__________________________________________________________________________________________________\n",
      "bert (InputLayer)               [(None, 768)]        0                                            \n",
      "__________________________________________________________________________________________________\n",
      "reshape (Reshape)               (None, 128)          0           embedding[0][0]                  \n",
      "__________________________________________________________________________________________________\n",
      "reshape_2 (Reshape)             (None, 128)          0           embedding_2[0][0]                \n",
      "__________________________________________________________________________________________________\n",
      "reshape_1 (Reshape)             (None, 128)          0           embedding_1[0][0]                \n",
      "__________________________________________________________________________________________________\n",
      "dense (Dense)                   (None, 128)          98432       bert[0][0]                       \n",
      "__________________________________________________________________________________________________\n",
      "dot (Dot)                       (None, 1)            0           reshape[0][0]                    \n",
      "                                                                 reshape_2[0][0]                  \n",
      "__________________________________________________________________________________________________\n",
      "dot_1 (Dot)                     (None, 1)            0           reshape_1[0][0]                  \n",
      "                                                                 dense[0][0]                      \n",
      "__________________________________________________________________________________________________\n",
      "concatenate (Concatenate)       (None, 2)            0           dot[0][0]                        \n",
      "                                                                 dot_1[0][0]                      \n",
      "__________________________________________________________________________________________________\n",
      "dense_1 (Dense)                 (None, 10)           30          concatenate[0][0]                \n",
      "__________________________________________________________________________________________________\n",
      "dense_2 (Dense)                 (None, 10)           110         dense_1[0][0]                    \n",
      "__________________________________________________________________________________________________\n",
      "dense_3 (Dense)                 (None, 1)            11          dense_2[0][0]                    \n",
      "==================================================================================================\n",
      "Total params: 39,129,495\n",
      "Trainable params: 39,129,495\n",
      "Non-trainable params: 0\n",
      "__________________________________________________________________________________________________\n"
     ]
    }
   ],
   "source": [
    "hybrid_model.summary()"
   ]
  },
  {
   "cell_type": "markdown",
   "id": "e3f255fd",
   "metadata": {},
   "source": [
    "**freeze all the dense layers and the movie embedding layer**"
   ]
  },
  {
   "cell_type": "code",
   "execution_count": 12,
   "id": "8cccc719",
   "metadata": {},
   "outputs": [],
   "source": [
    "layers=hybrid_model.layers\n",
    "layers[3].trainable=False\n",
    "layers[9].trainable=False\n",
    "layers[13].trainable=False\n",
    "layers[14].trainable=False\n",
    "layers[15].trainable=False"
   ]
  },
  {
   "cell_type": "markdown",
   "id": "993c366c",
   "metadata": {},
   "source": [
    "**try make a movie recommendation for a user that hasn't rated any movie yet**"
   ]
  },
  {
   "cell_type": "code",
   "execution_count": 13,
   "id": "bf793e32",
   "metadata": {},
   "outputs": [
    {
     "data": {
      "text/plain": [
       "1007"
      ]
     },
     "execution_count": 13,
     "metadata": {},
     "output_type": "execute_result"
    }
   ],
   "source": [
    "user=len(hybrid_users)+0\n",
    "\n",
    "aaa=list(filtered_rank_dic.keys())\n",
    "\n",
    "# map movie ids to movie vocabulary number\n",
    "X_bert=np.array(pd.Series(np.array(aaa)).map(bert_dic).tolist())\n",
    "# map user ids to user vocabulary number\n",
    "X_user=np.array([user for i in range(X_bert.shape[0])])\n",
    "\n",
    "Y=hybrid_model.predict([X_user, pd.Series(aaa).map(filtered_movie_id_mapping).values\\\n",
    "                 ,X_bert\\\n",
    "                ])\n",
    "Y=Y[:,0]\n",
    "Y=list(Y)\n",
    "\n",
    "pred=[]\n",
    "for iii, y in enumerate(Y):\n",
    "    pred.append([aaa[iii], y+filtered_rank_dic[aaa[iii]]])\n",
    "\n",
    "# sort by score from high to low\n",
    "pred.sort(key=lambda x : x[1], reverse=True)\n",
    "pred=np.array(pred)\n",
    "pred=pred[:,0]\n",
    "pred=list(pred)\n",
    "\n",
    "for i in range(len(pred)):\n",
    "    pred[i]=int(pred[i])\n",
    "\n",
    "tot=0\n",
    "for i in range(len(pred)):\n",
    "    if pred[i]!=aaa[i]:\n",
    "        tot+=1\n",
    "tot"
   ]
  },
  {
   "cell_type": "code",
   "execution_count": 14,
   "id": "1dbc8b5a",
   "metadata": {},
   "outputs": [
    {
     "data": {
      "text/plain": [
       "4231"
      ]
     },
     "execution_count": 14,
     "metadata": {},
     "output_type": "execute_result"
    }
   ],
   "source": [
    "user=len(hybrid_users)-1\n",
    "\n",
    "aaa=list(filtered_rank_dic.keys())\n",
    "\n",
    "# map movie ids to movie vocabulary number\n",
    "X_bert=np.array(pd.Series(np.array(aaa)).map(bert_dic).tolist())\n",
    "# map user ids to user vocabulary number\n",
    "X_user=np.array([user for i in range(X_bert.shape[0])])\n",
    "\n",
    "Y=hybrid_model.predict([X_user, pd.Series(aaa).map(filtered_movie_id_mapping).values, X_bert])\n",
    "Y=Y[:,0]\n",
    "Y=list(Y)\n",
    "\n",
    "pred=[]\n",
    "for iii, y in enumerate(Y):\n",
    "    pred.append([aaa[iii], y+filtered_rank_dic[aaa[iii]]])\n",
    "\n",
    "# sort by score from high to low\n",
    "pred.sort(key=lambda x : x[1], reverse=True)\n",
    "pred=np.array(pred)\n",
    "pred=pred[:,0]\n",
    "pred=list(pred)\n",
    "\n",
    "for i in range(len(pred)):\n",
    "    pred[i]=int(pred[i])\n",
    "\n",
    "tot=0\n",
    "for i in range(len(pred)):\n",
    "    if pred[i]!=aaa[i]:\n",
    "        tot+=1\n",
    "tot"
   ]
  },
  {
   "cell_type": "markdown",
   "id": "dcabfb7d",
   "metadata": {},
   "source": [
    "**as we see from the result above, for a user who hasn't rated any movie, our movie recommendation largely align with the rank_dic. The difference is assumed to be due to the fact that although we have set L2 regularization terms for the user embedding, the actual user embeddings for the last 100 users are still not perfectly zero.**"
   ]
  },
  {
   "cell_type": "markdown",
   "id": "6ec739b1",
   "metadata": {},
   "source": [
    "**now retrain the model with a few arbitrary user-movie ratings**"
   ]
  },
  {
   "cell_type": "code",
   "execution_count": 15,
   "id": "7a6dab2a",
   "metadata": {},
   "outputs": [],
   "source": [
    "# len(hybrid_movies)"
   ]
  },
  {
   "cell_type": "code",
   "execution_count": 16,
   "id": "97e8088f",
   "metadata": {},
   "outputs": [],
   "source": [
    "hybrid_model = tf.keras.models.load_model('./hybrid.h5')\n",
    "layers=hybrid_model.layers\n",
    "layers[3].trainable=False\n",
    "layers[9].trainable=False\n",
    "layers[13].trainable=False\n",
    "layers[14].trainable=False\n",
    "layers[15].trainable=False"
   ]
  },
  {
   "cell_type": "code",
   "execution_count": 17,
   "id": "9b86d675",
   "metadata": {},
   "outputs": [
    {
     "name": "stdout",
     "output_type": "stream",
     "text": [
      "Epoch 1/3\n",
      "1/1 [==============================] - 1s 1s/step - loss: 15.3202\n",
      "Epoch 2/3\n",
      "1/1 [==============================] - 0s 270ms/step - loss: 15.1087\n",
      "Epoch 3/3\n",
      "1/1 [==============================] - 0s 244ms/step - loss: 14.8241\n"
     ]
    },
    {
     "data": {
      "text/plain": [
       "<tensorflow.python.keras.callbacks.History at 0x7f98d4807f40>"
      ]
     },
     "execution_count": 17,
     "metadata": {},
     "output_type": "execute_result"
    }
   ],
   "source": [
    "user=len(hybrid_users)+0\n",
    "\n",
    "aaa=[7, 7**2, 7**3, 7**4, 100, 103]\n",
    "for i in range(len(aaa)):\n",
    "    aaa[i]=hybrid_movies[aaa[i]]\n",
    "    \n",
    "bbb=np.array([3,5,2,1,5,4])\n",
    "\n",
    "# map movie ids to movie vocabulary number\n",
    "X_bert=np.array(pd.Series(np.array(aaa)).map(bert_dic).tolist())\n",
    "# map user ids to user vocabulary number\n",
    "X_user=np.array([user for i in range(X_bert.shape[0])])\n",
    "\n",
    "# 3 epochs because the model was trained with 3 epochs during the training phase\n",
    "hybrid_model.fit([X_user, pd.Series(aaa).map(filtered_movie_id_mapping).values, X_bert], bbb, epochs=3)"
   ]
  },
  {
   "cell_type": "markdown",
   "id": "07c5025c",
   "metadata": {},
   "source": [
    "**make a prediciton again for one of the last 100 users, we see that this time the recommendation is vastly different from the rank_dic**"
   ]
  },
  {
   "cell_type": "code",
   "execution_count": 18,
   "id": "86fbffe4",
   "metadata": {},
   "outputs": [
    {
     "data": {
      "text/plain": [
       "4173"
      ]
     },
     "execution_count": 18,
     "metadata": {},
     "output_type": "execute_result"
    }
   ],
   "source": [
    "user=len(hybrid_users)+0\n",
    "\n",
    "aaa=list(filtered_rank_dic.keys())\n",
    "\n",
    "# map movie ids to movie vocabulary number\n",
    "X_bert=np.array(pd.Series(np.array(aaa)).map(bert_dic).tolist())\n",
    "# map user ids to user vocabulary number\n",
    "X_user=np.array([user for i in range(X_bert.shape[0])])\n",
    "\n",
    "Y=hybrid_model.predict([X_user, pd.Series(aaa).map(filtered_movie_id_mapping).values\\\n",
    "                 ,X_bert\\\n",
    "                ])\n",
    "Y=Y[:,0]\n",
    "Y=list(Y)\n",
    "\n",
    "pred=[]\n",
    "for iii, y in enumerate(Y):\n",
    "    pred.append([aaa[iii], y+filtered_rank_dic[aaa[iii]]])\n",
    "\n",
    "# sort by score from high to low\n",
    "pred.sort(key=lambda x : x[1], reverse=True)\n",
    "pred=np.array(pred)\n",
    "pred=pred[:,0]\n",
    "pred=list(pred)\n",
    "\n",
    "for i in range(len(pred)):\n",
    "    pred[i]=int(pred[i])\n",
    "\n",
    "tot=0\n",
    "for i in range(len(pred)):\n",
    "    if pred[i]!=aaa[i]:\n",
    "        tot+=1\n",
    "tot"
   ]
  },
  {
   "cell_type": "markdown",
   "id": "988731f9",
   "metadata": {},
   "source": [
    "**for users that are already in the training set, let's make predictions**"
   ]
  },
  {
   "cell_type": "code",
   "execution_count": 19,
   "id": "11e92e86",
   "metadata": {},
   "outputs": [
    {
     "data": {
      "text/plain": [
       "4230"
      ]
     },
     "execution_count": 19,
     "metadata": {},
     "output_type": "execute_result"
    }
   ],
   "source": [
    "user=len(hybrid_users)-1\n",
    "\n",
    "aaa=list(filtered_rank_dic.keys())\n",
    "\n",
    "# map movie ids to movie vocabulary number\n",
    "X_bert=np.array(pd.Series(np.array(aaa)).map(bert_dic).tolist())\n",
    "# map user ids to user vocabulary number\n",
    "X_user=np.array([user for i in range(X_bert.shape[0])])\n",
    "\n",
    "Y=hybrid_model.predict([X_user, pd.Series(aaa).map(filtered_movie_id_mapping).values, X_bert])\n",
    "Y=Y[:,0]\n",
    "Y=list(Y)\n",
    "\n",
    "pred=[]\n",
    "for iii, y in enumerate(Y):\n",
    "    pred.append([aaa[iii], y+filtered_rank_dic[aaa[iii]]])\n",
    "\n",
    "# sort by score from high to low\n",
    "pred.sort(key=lambda x : x[1], reverse=True)\n",
    "pred=np.array(pred)\n",
    "pred=pred[:,0]\n",
    "pred=list(pred)\n",
    "\n",
    "for i in range(len(pred)):\n",
    "    pred[i]=int(pred[i])\n",
    "\n",
    "tot=0\n",
    "for i in range(len(pred)):\n",
    "    if pred[i]!=aaa[i]:\n",
    "        tot+=1\n",
    "tot"
   ]
  },
  {
   "cell_type": "markdown",
   "id": "0e00dc80",
   "metadata": {},
   "source": [
    "**notice the result is slightly different from the one above because of the regularization of the user embeddings**"
   ]
  },
  {
   "cell_type": "code",
   "execution_count": 20,
   "id": "d92e8a2c",
   "metadata": {},
   "outputs": [],
   "source": [
    "with open('movie_id_vs_movie_title_list.txt', 'rb') as fp:\n",
    "    movie_id_vs_movie_title_list=pickle.load(fp)\n",
    "\n",
    "movie_id_title_dic={}\n",
    "for ele in movie_id_vs_movie_title_list:\n",
    "    movie_id_title_dic[ele[0]]=ele[1]\n",
    "del movie_id_vs_movie_title_list"
   ]
  },
  {
   "cell_type": "code",
   "execution_count": 25,
   "id": "0a2a75c9",
   "metadata": {},
   "outputs": [],
   "source": [
    "a=10\n",
    "a += 1"
   ]
  },
  {
   "cell_type": "code",
   "execution_count": 26,
   "id": "346fd33a",
   "metadata": {},
   "outputs": [
    {
     "data": {
      "text/plain": [
       "11"
      ]
     },
     "execution_count": 26,
     "metadata": {},
     "output_type": "execute_result"
    }
   ],
   "source": [
    "a"
   ]
  },
  {
   "cell_type": "code",
   "execution_count": 27,
   "id": "e465e8a1",
   "metadata": {},
   "outputs": [
    {
     "data": {
      "text/plain": [
       "True"
      ]
     },
     "execution_count": 27,
     "metadata": {},
     "output_type": "execute_result"
    }
   ],
   "source": [
    "5 >= 5"
   ]
  },
  {
   "cell_type": "code",
   "execution_count": null,
   "id": "d6a0930f",
   "metadata": {},
   "outputs": [],
   "source": [
    "rank_dic_copy = filtered_rank_dic.copy()\n",
    "\n",
    "# list of movies already rated in train set\n",
    "already = filtered_train_movie_id_dic[user]\n",
    "\n",
    "# remove movies that are already in the train set\n",
    "for ele in already:\n",
    "    rank_dic_copy.pop(ele)\n",
    "\n",
    "# save a copy of movie ids\n",
    "aaa = list(rank_dic_copy.keys())\n",
    "\n",
    "# map movie ids to movie vocabulary number\n",
    "X_bert = np.array(pd.Series(np.array(aaa)).map(bert_dic).tolist())\n",
    "# map user ids to user vocabulary number\n",
    "X_user = np.array([user for i in range(X_bert.shape[0])])\n",
    "\n",
    "Y=model.predict([X_user, pd.Series(aaa).map(movie_id_mapping).values, X_bert])\n",
    "Y=Y[:,0]\n",
    "Y=list(Y)\n",
    "\n",
    "pred=[]\n",
    "for iii, y in enumerate(Y):\n",
    "    pred.append([aaa[iii], y+filtered_rank_dic[aaa[iii]]])\n",
    "\n",
    "# sort by score from high to low\n",
    "pred.sort(key=lambda x : x[1], reverse=True)\n",
    "pred=np.array(pred)\n",
    "pred=pred[:10,0]\n",
    "predictions=pd.Series(pred).map(movie_id_title_dic).tolist()\n",
    "\n",
    "result1.append(average_precision_at_k(rel, pred, 100000))\n",
    "\n",
    "result2.append(average_precision_at_k(rel, aaa, 100000))"
   ]
  },
  {
   "cell_type": "code",
   "execution_count": 32,
   "id": "2d4cf7d7",
   "metadata": {},
   "outputs": [
    {
     "data": {
      "text/plain": [
       "['a', 'b', 'c']"
      ]
     },
     "execution_count": 32,
     "metadata": {},
     "output_type": "execute_result"
    }
   ],
   "source": [
    "aaa=pd.Series(np.array([1,2,3])).map({1:'a',2:'b', 3:'c'}).tolist()\n",
    "aaa"
   ]
  },
  {
   "cell_type": "code",
   "execution_count": 4,
   "id": "3d7a2cec",
   "metadata": {},
   "outputs": [],
   "source": [
    "import pickle\n",
    "filtered_train_movie_id_dic={}\n",
    "with open('filtered_train_movie_ids_list.txt', 'rb') as fp:\n",
    "    filtered_train_movie_ids_list = pickle.load(fp)\n",
    "    for ele in filtered_train_movie_ids_list:\n",
    "        filtered_train_movie_id_dic[ele[0]] = ele[1]"
   ]
  },
  {
   "cell_type": "code",
   "execution_count": 6,
   "id": "303c0c8a",
   "metadata": {},
   "outputs": [],
   "source": [
    "reversed_filtered_user_id_mapping_dic={}\n",
    "with open('filtered_user_id_mapping_list.txt', 'rb') as fp:\n",
    "    filtered_user_id_mapping_list = pickle.load(fp)\n",
    "    for ele in filtered_user_id_mapping_list:\n",
    "        reversed_filtered_user_id_mapping_dic[ele[1]] = ele[0]"
   ]
  },
  {
   "cell_type": "code",
   "execution_count": 9,
   "id": "bcca7041",
   "metadata": {},
   "outputs": [
    {
     "data": {
      "text/plain": [
       "'1437978'"
      ]
     },
     "execution_count": 9,
     "metadata": {},
     "output_type": "execute_result"
    }
   ],
   "source": [
    "reversed_filtered_user_id_mapping_dic[1]"
   ]
  },
  {
   "cell_type": "code",
   "execution_count": 22,
   "id": "c12f2a14",
   "metadata": {},
   "outputs": [
    {
     "data": {
      "text/plain": [
       "150245"
      ]
     },
     "execution_count": 22,
     "metadata": {},
     "output_type": "execute_result"
    }
   ],
   "source": [
    "len(reversed_filtered_user_id_mapping_dic)"
   ]
  },
  {
   "cell_type": "code",
   "execution_count": 23,
   "id": "b8b2218f",
   "metadata": {},
   "outputs": [
    {
     "data": {
      "text/plain": [
       "57069"
      ]
     },
     "execution_count": 23,
     "metadata": {},
     "output_type": "execute_result"
    }
   ],
   "source": [
    "len(filtered_train_movie_id_dic)"
   ]
  },
  {
   "cell_type": "code",
   "execution_count": 21,
   "id": "a2b31329",
   "metadata": {},
   "outputs": [
    {
     "data": {
      "text/plain": [
       "[2680,\n",
       " 8954,\n",
       " 14545,\n",
       " 16922,\n",
       " 10170,\n",
       " 6206,\n",
       " 15532,\n",
       " 14646,\n",
       " 8467,\n",
       " 3825,\n",
       " 2782,\n",
       " 15151,\n",
       " 4590,\n",
       " 9378,\n",
       " 2495,\n",
       " 12238,\n",
       " 4801,\n",
       " 14312,\n",
       " 5897,\n",
       " 3350,\n",
       " 10024,\n",
       " 12470,\n",
       " 11398,\n",
       " 7544,\n",
       " 15078,\n",
       " 3638,\n",
       " 5997,\n",
       " 16384,\n",
       " 13458,\n",
       " 16181,\n",
       " 14109,\n",
       " 8989,\n",
       " 5434,\n",
       " 15105,\n",
       " 14970,\n",
       " 9645,\n",
       " 12034,\n",
       " 4520,\n",
       " 8437,\n",
       " 15674,\n",
       " 5318,\n",
       " 4043,\n",
       " 11677,\n",
       " 14527,\n",
       " 12355,\n",
       " 7483,\n",
       " 9442,\n",
       " 8372,\n",
       " 10240,\n",
       " 15285,\n",
       " 5695,\n",
       " 1138,\n",
       " 5317,\n",
       " 1558,\n",
       " 3085,\n",
       " 3466,\n",
       " 1661,\n",
       " 12918,\n",
       " 8387,\n",
       " 118,\n",
       " 14454,\n",
       " 2254,\n",
       " 16641,\n",
       " 10607,\n",
       " 16825,\n",
       " 2391,\n",
       " 4159,\n",
       " 305,\n",
       " 11337,\n",
       " 2376,\n",
       " 7745,\n",
       " 17703,\n",
       " 16552,\n",
       " 8086,\n",
       " 15473,\n",
       " 6972,\n",
       " 3475,\n",
       " 13993,\n",
       " 10359,\n",
       " 16879,\n",
       " 5472,\n",
       " 4829,\n",
       " 4951,\n",
       " 12207,\n",
       " 17053,\n",
       " 12542,\n",
       " 6119,\n",
       " 12945,\n",
       " 9156,\n",
       " 1854,\n",
       " 9756,\n",
       " 17079,\n",
       " 6042,\n",
       " 2139,\n",
       " 7617,\n",
       " 14480,\n",
       " 12047,\n",
       " 1220,\n",
       " 4380,\n",
       " 9049,\n",
       " 6350,\n",
       " 658,\n",
       " 11929,\n",
       " 14313,\n",
       " 2400,\n",
       " 4583,\n",
       " 16930,\n",
       " 15063,\n",
       " 6609,\n",
       " 9780,\n",
       " 4127,\n",
       " 12570,\n",
       " 5345,\n",
       " 17513,\n",
       " 2612,\n",
       " 12934,\n",
       " 11139,\n",
       " 16438,\n",
       " 13923,\n",
       " 15048,\n",
       " 2675,\n",
       " 11254,\n",
       " 7381,\n",
       " 13440,\n",
       " 14457,\n",
       " 6760,\n",
       " 15755,\n",
       " 6386,\n",
       " 13002,\n",
       " 16912,\n",
       " 13728,\n",
       " 16698,\n",
       " 9768,\n",
       " 13748,\n",
       " 17622,\n",
       " 15205,\n",
       " 4612,\n",
       " 4661,\n",
       " 77,\n",
       " 5477,\n",
       " 13555,\n",
       " 14209,\n",
       " 9550,\n",
       " 15394,\n",
       " 9189,\n",
       " 5293,\n",
       " 2136,\n",
       " 14660,\n",
       " 15582,\n",
       " 10981,\n",
       " 4705,\n",
       " 5560,\n",
       " 819,\n",
       " 5787,\n",
       " 14248,\n",
       " 1174,\n",
       " 14382,\n",
       " 13081,\n",
       " 1289,\n",
       " 4841,\n",
       " 3938,\n",
       " 4227,\n",
       " 2135,\n",
       " 3418,\n",
       " 5401,\n",
       " 15887,\n",
       " 10256,\n",
       " 14737,\n",
       " 16242,\n",
       " 15712,\n",
       " 12497,\n",
       " 16954,\n",
       " 7234,\n",
       " 6523,\n",
       " 6555,\n",
       " 3626,\n",
       " 7032,\n",
       " 6771,\n",
       " 5686,\n",
       " 5054,\n",
       " 10527,\n",
       " 2112,\n",
       " 5106,\n",
       " 1096,\n",
       " 15375,\n",
       " 10625,\n",
       " 6497,\n",
       " 11065,\n",
       " 14531,\n",
       " 15988,\n",
       " 5939,\n",
       " 4686,\n",
       " 17134,\n",
       " 4216,\n",
       " 12221,\n",
       " 5448,\n",
       " 629,\n",
       " 16565,\n",
       " 3182,\n",
       " 15818,\n",
       " 10596,\n",
       " 6844,\n",
       " 17589,\n",
       " 13462,\n",
       " 15158,\n",
       " 11323,\n",
       " 14909,\n",
       " 4064,\n",
       " 3903,\n",
       " 9593,\n",
       " 15099,\n",
       " 1905,\n",
       " 4384,\n",
       " 2337,\n",
       " 1578,\n",
       " 9960,\n",
       " 13501,\n",
       " 14667,\n",
       " 7563,\n",
       " 12305,\n",
       " 15953,\n",
       " 5121,\n",
       " 1819,\n",
       " 8846,\n",
       " 10503,\n",
       " 9051,\n",
       " 8316,\n",
       " 2173,\n",
       " 3181,\n",
       " 3414,\n",
       " 638,\n",
       " 4306,\n",
       " 17129,\n",
       " 11985,\n",
       " 6552,\n",
       " 5571,\n",
       " 7240,\n",
       " 17330,\n",
       " 12317,\n",
       " 17479,\n",
       " 11315,\n",
       " 14606,\n",
       " 2705,\n",
       " 12493,\n",
       " 16768,\n",
       " 2580,\n",
       " 14367,\n",
       " 10042,\n",
       " 2200,\n",
       " 11209,\n",
       " 17558,\n",
       " 5191,\n",
       " 15309,\n",
       " 13433,\n",
       " 15952,\n",
       " 2897,\n",
       " 3715,\n",
       " 2095,\n",
       " 11283,\n",
       " 16604,\n",
       " 4432,\n",
       " 9565,\n",
       " 10109,\n",
       " 4262,\n",
       " 6673,\n",
       " 3192,\n",
       " 11999,\n",
       " 15393,\n",
       " 10673,\n",
       " 9591,\n",
       " 15107,\n",
       " 11687,\n",
       " 6347,\n",
       " 1962,\n",
       " 3526,\n",
       " 14296,\n",
       " 1406,\n",
       " 8644,\n",
       " 17135,\n",
       " 3923,\n",
       " 14822,\n",
       " 5628,\n",
       " 17321,\n",
       " 15853,\n",
       " 5255,\n",
       " 5056,\n",
       " 4389,\n",
       " 7624,\n",
       " 13675,\n",
       " 2690,\n",
       " 3988,\n",
       " 2104,\n",
       " 11182,\n",
       " 10835,\n",
       " 3174,\n",
       " 17482,\n",
       " 5926,\n",
       " 14507,\n",
       " 3579,\n",
       " 10123,\n",
       " 17215,\n",
       " 10212,\n",
       " 6134,\n",
       " 7397,\n",
       " 14364,\n",
       " 10436,\n",
       " 564,\n",
       " 6068,\n",
       " 15945,\n",
       " 705,\n",
       " 17308,\n",
       " 11262,\n",
       " 17621,\n",
       " 7371,\n",
       " 758,\n",
       " 6037,\n",
       " 14317,\n",
       " 7009,\n",
       " 13402,\n",
       " 4870,\n",
       " 9459,\n",
       " 14733,\n",
       " 5589,\n",
       " 4341,\n",
       " 12732,\n",
       " 14203,\n",
       " 4693,\n",
       " 15472,\n",
       " 13614,\n",
       " 13217,\n",
       " 5112,\n",
       " 8754,\n",
       " 10906,\n",
       " 12014,\n",
       " 5391,\n",
       " 13074,\n",
       " 12818,\n",
       " 8259,\n",
       " 13582,\n",
       " 5243,\n",
       " 8384,\n",
       " 10928,\n",
       " 12890,\n",
       " 17149,\n",
       " 13651,\n",
       " 5708,\n",
       " 3860,\n",
       " 6692,\n",
       " 7899,\n",
       " 10461,\n",
       " 14407,\n",
       " 3610,\n",
       " 15483,\n",
       " 7509,\n",
       " 7125,\n",
       " 14322,\n",
       " 6196,\n",
       " 6989,\n",
       " 6287,\n",
       " 10159,\n",
       " 12155,\n",
       " 6510,\n",
       " 10344,\n",
       " 1798,\n",
       " 2001,\n",
       " 5545,\n",
       " 17692,\n",
       " 7828,\n",
       " 393,\n",
       " 12843,\n",
       " 5971,\n",
       " 5625,\n",
       " 6842,\n",
       " 16169,\n",
       " 1307,\n",
       " 14618,\n",
       " 15968,\n",
       " 14149,\n",
       " 13391,\n",
       " 8928,\n",
       " 2992,\n",
       " 17343,\n",
       " 15698,\n",
       " 15233,\n",
       " 12741,\n",
       " 17023,\n",
       " 5882,\n",
       " 1027,\n",
       " 4141,\n",
       " 7937,\n",
       " 14538,\n",
       " 16286,\n",
       " 11848,\n",
       " 4056,\n",
       " 9160,\n",
       " 15813,\n",
       " 2734,\n",
       " 1861,\n",
       " 8518,\n",
       " 11775,\n",
       " 3835,\n",
       " 4260,\n",
       " 3624,\n",
       " 483,\n",
       " 15844,\n",
       " 1180,\n",
       " 6994,\n",
       " 10785,\n",
       " 13524,\n",
       " 15062,\n",
       " 8295,\n",
       " 11638,\n",
       " 2862,\n",
       " 12785,\n",
       " 3161,\n",
       " 1267,\n",
       " 13082,\n",
       " 14154,\n",
       " 8277,\n",
       " 7627,\n",
       " 6291,\n",
       " 14759,\n",
       " 4932,\n",
       " 2128,\n",
       " 15057,\n",
       " 4488,\n",
       " 15110,\n",
       " 11663,\n",
       " 1659,\n",
       " 1744,\n",
       " 15829,\n",
       " 3920,\n",
       " 8585,\n",
       " 7928,\n",
       " 8764,\n",
       " 1585,\n",
       " 5363,\n",
       " 9614,\n",
       " 6482,\n",
       " 312,\n",
       " 12191,\n",
       " 3385,\n",
       " 12092,\n",
       " 12435,\n",
       " 16339,\n",
       " 15578,\n",
       " 7991,\n",
       " 13342,\n",
       " 11673,\n",
       " 1918,\n",
       " 189,\n",
       " 329,\n",
       " 8016,\n",
       " 10019,\n",
       " 3966,\n",
       " 4402,\n",
       " 2470,\n",
       " 11110,\n",
       " 8014,\n",
       " 9828,\n",
       " 4883,\n",
       " 9340,\n",
       " 7633,\n",
       " 11013,\n",
       " 571,\n",
       " 285,\n",
       " 14795,\n",
       " 16516,\n",
       " 8099,\n",
       " 313,\n",
       " 13211,\n",
       " 9188,\n",
       " 16390,\n",
       " 12090,\n",
       " 15956,\n",
       " 6971,\n",
       " 2617,\n",
       " 13058,\n",
       " 2152,\n",
       " 330,\n",
       " 2960,\n",
       " 12280,\n",
       " 6931,\n",
       " 13705,\n",
       " 1810,\n",
       " 10429,\n",
       " 3921,\n",
       " 2395,\n",
       " 746,\n",
       " 607,\n",
       " 3427,\n",
       " 13534,\n",
       " 708,\n",
       " 4761,\n",
       " 8544,\n",
       " 1428,\n",
       " 15182,\n",
       " 11149,\n",
       " 3098,\n",
       " 4972,\n",
       " 550,\n",
       " 3433,\n",
       " 14755,\n",
       " 14047,\n",
       " 9288,\n",
       " 4670,\n",
       " 7253,\n",
       " 3106,\n",
       " 5894,\n",
       " 8531,\n",
       " 16139,\n",
       " 2122,\n",
       " 16765,\n",
       " 14978,\n",
       " 17088,\n",
       " 14731,\n",
       " 16872,\n",
       " 17560,\n",
       " 6720,\n",
       " 8243,\n",
       " 2482,\n",
       " 9621,\n",
       " 798,\n",
       " 17004,\n",
       " 2186,\n",
       " 681,\n",
       " 994,\n",
       " 10721,\n",
       " 6687,\n",
       " 13050,\n",
       " 15124,\n",
       " 1532,\n",
       " 13959,\n",
       " 11781,\n",
       " 10921,\n",
       " 1123,\n",
       " 1561,\n",
       " 3879,\n",
       " 4374,\n",
       " 13234,\n",
       " 15815,\n",
       " 8429,\n",
       " 7521,\n",
       " 15549,\n",
       " 12075,\n",
       " 7511,\n",
       " 8743,\n",
       " 13098,\n",
       " 15154,\n",
       " 13824,\n",
       " 12911,\n",
       " 14725,\n",
       " 16901,\n",
       " 14670,\n",
       " 15465,\n",
       " 11376,\n",
       " 3905,\n",
       " 10038,\n",
       " 1975,\n",
       " 1102,\n",
       " 457,\n",
       " 6449,\n",
       " 15373,\n",
       " 6398,\n",
       " 2771,\n",
       " 6859,\n",
       " 11837,\n",
       " 985,\n",
       " 9859,\n",
       " 1983,\n",
       " 9741,\n",
       " 9788,\n",
       " 8181,\n",
       " 12261,\n",
       " 16605,\n",
       " 4745,\n",
       " 8376,\n",
       " 10275,\n",
       " 13636,\n",
       " 8881,\n",
       " 14780,\n",
       " 9900,\n",
       " 14016,\n",
       " 13763,\n",
       " 11639,\n",
       " 11490,\n",
       " 15244,\n",
       " 4698,\n",
       " 12494,\n",
       " 15200,\n",
       " 16008,\n",
       " 15843,\n",
       " 9863,\n",
       " 16997,\n",
       " 4289,\n",
       " 5033,\n",
       " 3858,\n",
       " 12343,\n",
       " 6833,\n",
       " 14410,\n",
       " 8809,\n",
       " 16882,\n",
       " 12546,\n",
       " 15529,\n",
       " 12015,\n",
       " 1145,\n",
       " 14528,\n",
       " 13860,\n",
       " 6073,\n",
       " 14691,\n",
       " 3728,\n",
       " 1518,\n",
       " 10848,\n",
       " 1202,\n",
       " 15223,\n",
       " 8728,\n",
       " 16707,\n",
       " 10378,\n",
       " 2372,\n",
       " 3254,\n",
       " 6329,\n",
       " 10739,\n",
       " 14940]"
      ]
     },
     "execution_count": 21,
     "metadata": {},
     "output_type": "execute_result"
    }
   ],
   "source": [
    "filtered_train_movie_id_dic[reversed_filtered_user_id_mapping_dic[18]]"
   ]
  },
  {
   "cell_type": "code",
   "execution_count": null,
   "id": "625b4bf7",
   "metadata": {},
   "outputs": [],
   "source": [
    "import pandas as pd\n",
    "df_train_filtered=pd.read_pickle('df_train_filtered.pkl')"
   ]
  }
 ],
 "metadata": {
  "kernelspec": {
   "display_name": "Python 3 (ipykernel)",
   "language": "python",
   "name": "python3"
  },
  "language_info": {
   "codemirror_mode": {
    "name": "ipython",
    "version": 3
   },
   "file_extension": ".py",
   "mimetype": "text/x-python",
   "name": "python",
   "nbconvert_exporter": "python",
   "pygments_lexer": "ipython3",
   "version": "3.9.0"
  }
 },
 "nbformat": 4,
 "nbformat_minor": 5
}
