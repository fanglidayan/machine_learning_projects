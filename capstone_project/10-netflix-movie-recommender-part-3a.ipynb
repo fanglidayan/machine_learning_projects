{
 "cells": [
  {
   "cell_type": "markdown",
   "id": "7a18c1f8",
   "metadata": {
    "gradient": {
     "editing": false,
     "id": "7a18c1f8",
     "kernelId": "e516c416-276d-439f-b5d0-8e72cb744a95"
    },
    "papermill": {
     "duration": 0.037517,
     "end_time": "2021-12-29T02:26:27.438616",
     "exception": false,
     "start_time": "2021-12-29T02:26:27.401099",
     "status": "completed"
    },
    "tags": []
   },
   "source": [
    "# In Part 3 of this project, we build a content-based movie recommender. For each movie, input its overview (a short description of the movie) to distilled BERT for document embedding (a 768 dimensional vector). Learn a user-embedding whose dot product with the document embedding yields the predicted movie rating."
   ]
  },
  {
   "cell_type": "markdown",
   "id": "a3872fa4",
   "metadata": {
    "gradient": {
     "editing": false,
     "id": "a3872fa4",
     "kernelId": "e516c416-276d-439f-b5d0-8e72cb744a95"
    },
    "papermill": {
     "duration": 0.034695,
     "end_time": "2021-12-29T02:26:27.508882",
     "exception": false,
     "start_time": "2021-12-29T02:26:27.474187",
     "status": "completed"
    },
    "tags": []
   },
   "source": [
    "## import dependencies"
   ]
  },
  {
   "cell_type": "code",
   "execution_count": null,
   "id": "79cfc854",
   "metadata": {
    "gradient": {
     "editing": false,
     "id": "79cfc854",
     "kernelId": "e516c416-276d-439f-b5d0-8e72cb744a95"
    }
   },
   "outputs": [
    {
     "name": "stdout",
     "output_type": "stream",
     "text": [
      "Requirement already satisfied: transformers in /usr/local/lib/python3.8/dist-packages (4.15.0)\n",
      "Requirement already satisfied: tokenizers<0.11,>=0.10.1 in /usr/local/lib/python3.8/dist-packages (from transformers) (0.10.3)\n",
      "Requirement already satisfied: numpy>=1.17 in /usr/local/lib/python3.8/dist-packages (from transformers) (1.19.4)\n",
      "Requirement already satisfied: regex!=2019.12.17 in /usr/local/lib/python3.8/dist-packages (from transformers) (2021.11.10)\n",
      "Requirement already satisfied: requests in /usr/local/lib/python3.8/dist-packages (from transformers) (2.26.0)\n",
      "Requirement already satisfied: huggingface-hub<1.0,>=0.1.0 in /usr/local/lib/python3.8/dist-packages (from transformers) (0.2.1)\n",
      "Requirement already satisfied: sacremoses in /usr/local/lib/python3.8/dist-packages (from transformers) (0.0.46)\n",
      "Requirement already satisfied: filelock in /usr/local/lib/python3.8/dist-packages (from transformers) (3.4.2)\n",
      "Requirement already satisfied: tqdm>=4.27 in /usr/local/lib/python3.8/dist-packages (from transformers) (4.62.3)\n",
      "Requirement already satisfied: packaging>=20.0 in /usr/local/lib/python3.8/dist-packages (from transformers) (21.0)\n",
      "Requirement already satisfied: pyyaml>=5.1 in /usr/local/lib/python3.8/dist-packages (from transformers) (5.4.1)\n",
      "Requirement already satisfied: typing-extensions>=3.7.4.3 in /usr/local/lib/python3.8/dist-packages (from huggingface-hub<1.0,>=0.1.0->transformers) (3.7.4.3)\n",
      "Requirement already satisfied: pyparsing>=2.0.2 in /usr/local/lib/python3.8/dist-packages (from packaging>=20.0->transformers) (2.4.7)\n",
      "Requirement already satisfied: charset-normalizer~=2.0.0 in /usr/local/lib/python3.8/dist-packages (from requests->transformers) (2.0.6)\n",
      "Requirement already satisfied: idna<4,>=2.5 in /usr/local/lib/python3.8/dist-packages (from requests->transformers) (3.2)\n",
      "Requirement already satisfied: urllib3<1.27,>=1.21.1 in /usr/local/lib/python3.8/dist-packages (from requests->transformers) (1.26.7)\n",
      "Requirement already satisfied: certifi>=2017.4.17 in /usr/local/lib/python3.8/dist-packages (from requests->transformers) (2021.5.30)\n",
      "Requirement already satisfied: click in /usr/local/lib/python3.8/dist-packages (from sacremoses->transformers) (8.0.1)\n",
      "Requirement already satisfied: joblib in /usr/local/lib/python3.8/dist-packages (from sacremoses->transformers) (1.1.0)\n",
      "Requirement already satisfied: six in /usr/local/lib/python3.8/dist-packages (from sacremoses->transformers) (1.15.0)\n",
      "\u001b[33mWARNING: Running pip as the 'root' user can result in broken permissions and conflicting behaviour with the system package manager. It is recommended to use a virtual environment instead: https://pip.pypa.io/warnings/venv\u001b[0m\n",
      "\u001b[33mWARNING: You are using pip version 21.2.4; however, version 21.3.1 is available.\n",
      "You should consider upgrading via the '/usr/bin/python -m pip install --upgrade pip' command.\u001b[0m\n"
     ]
    }
   ],
   "source": [
    "!pip3 install transformers"
   ]
  },
  {
   "cell_type": "code",
   "execution_count": null,
   "id": "8a6276c2",
   "metadata": {
    "execution": {
     "iopub.execute_input": "2021-12-29T02:26:27.588654Z",
     "iopub.status.busy": "2021-12-29T02:26:27.587699Z",
     "iopub.status.idle": "2021-12-29T02:26:35.779297Z",
     "shell.execute_reply": "2021-12-29T02:26:35.778491Z"
    },
    "gradient": {
     "editing": false,
     "id": "8a6276c2",
     "kernelId": "e516c416-276d-439f-b5d0-8e72cb744a95"
    },
    "papermill": {
     "duration": 8.23552,
     "end_time": "2021-12-29T02:26:35.779495",
     "exception": false,
     "start_time": "2021-12-29T02:26:27.543975",
     "status": "completed"
    },
    "tags": []
   },
   "outputs": [],
   "source": [
    "import time\n",
    "import gc\n",
    "import pickle\n",
    "import pandas as pd\n",
    "import numpy as np\n",
    "import matplotlib.pyplot as plt\n",
    "import seaborn as sns\n",
    "from sklearn.metrics import mean_squared_error, mean_absolute_error\n",
    "from sklearn.metrics.pairwise import cosine_similarity\n",
    "import tensorflow as tf\n",
    "import keras\n",
    "from tensorflow.keras.layers import Input, Embedding, Reshape, Dot, Concatenate, Dense, Dropout\n",
    "from tensorflow.keras.models import Model\n",
    "import pickle\n",
    "from tqdm import tqdm\n",
    "import transformers"
   ]
  },
  {
   "cell_type": "code",
   "execution_count": null,
   "id": "8ccd67e8",
   "metadata": {
    "execution": {
     "iopub.execute_input": "2021-12-29T02:26:35.855387Z",
     "iopub.status.busy": "2021-12-29T02:26:35.854739Z",
     "iopub.status.idle": "2021-12-29T02:26:35.858053Z",
     "shell.execute_reply": "2021-12-29T02:26:35.858591Z"
    },
    "gradient": {
     "editing": false,
     "id": "8ccd67e8",
     "kernelId": "e516c416-276d-439f-b5d0-8e72cb744a95"
    },
    "papermill": {
     "duration": 0.041629,
     "end_time": "2021-12-29T02:26:35.858760",
     "exception": false,
     "start_time": "2021-12-29T02:26:35.817131",
     "status": "completed"
    },
    "tags": []
   },
   "outputs": [],
   "source": [
    "# remove unwanted warnings\n",
    "import warnings\n",
    "warnings.filterwarnings('ignore')"
   ]
  },
  {
   "cell_type": "markdown",
   "id": "9f40ce1f",
   "metadata": {
    "gradient": {
     "editing": false,
     "id": "9f40ce1f",
     "kernelId": "e516c416-276d-439f-b5d0-8e72cb744a95"
    },
    "papermill": {
     "duration": 0.035361,
     "end_time": "2021-12-29T02:26:35.929217",
     "exception": false,
     "start_time": "2021-12-29T02:26:35.893856",
     "status": "completed"
    },
    "tags": []
   },
   "source": [
    "## load output of \"Netflix Movie Recommender Part 1\" output"
   ]
  },
  {
   "cell_type": "markdown",
   "id": "045e5f88",
   "metadata": {
    "gradient": {
     "editing": false,
     "id": "045e5f88",
     "kernelId": "e516c416-276d-439f-b5d0-8e72cb744a95"
    },
    "papermill": {
     "duration": 0.035608,
     "end_time": "2021-12-29T02:26:36.000772",
     "exception": false,
     "start_time": "2021-12-29T02:26:35.965164",
     "status": "completed"
    },
    "tags": []
   },
   "source": [
    "### load dataframes"
   ]
  },
  {
   "cell_type": "code",
   "execution_count": null,
   "id": "073e8ea6",
   "metadata": {
    "execution": {
     "iopub.execute_input": "2021-12-29T02:26:36.075705Z",
     "iopub.status.busy": "2021-12-29T02:26:36.075049Z",
     "iopub.status.idle": "2021-12-29T02:26:52.449045Z",
     "shell.execute_reply": "2021-12-29T02:26:52.448335Z"
    },
    "gradient": {
     "editing": false,
     "id": "073e8ea6",
     "kernelId": "e516c416-276d-439f-b5d0-8e72cb744a95"
    },
    "papermill": {
     "duration": 16.412343,
     "end_time": "2021-12-29T02:26:52.449203",
     "exception": false,
     "start_time": "2021-12-29T02:26:36.036860",
     "status": "completed"
    },
    "tags": []
   },
   "outputs": [],
   "source": [
    "df_train=pd.read_pickle(\"df_train.pkl\")\n",
    "df_val=pd.read_pickle(\"df_val.pkl\")\n",
    "df_test=pd.read_pickle(\"df_test.pkl\")"
   ]
  },
  {
   "cell_type": "markdown",
   "id": "5c1e5d1b",
   "metadata": {
    "gradient": {
     "editing": false,
     "id": "5c1e5d1b",
     "kernelId": "e516c416-276d-439f-b5d0-8e72cb744a95"
    },
    "papermill": {
     "duration": 0.034603,
     "end_time": "2021-12-29T02:26:52.519381",
     "exception": false,
     "start_time": "2021-12-29T02:26:52.484778",
     "status": "completed"
    },
    "tags": []
   },
   "source": [
    "### later we need to merge df_metadata and df_movie_titles by movie name"
   ]
  },
  {
   "cell_type": "code",
   "execution_count": null,
   "id": "70be2e69",
   "metadata": {
    "execution": {
     "iopub.execute_input": "2021-12-29T02:26:52.596068Z",
     "iopub.status.busy": "2021-12-29T02:26:52.595440Z",
     "iopub.status.idle": "2021-12-29T02:26:53.778176Z",
     "shell.execute_reply": "2021-12-29T02:26:53.777575Z"
    },
    "gradient": {
     "editing": false,
     "id": "70be2e69",
     "kernelId": "e516c416-276d-439f-b5d0-8e72cb744a95"
    },
    "papermill": {
     "duration": 1.224112,
     "end_time": "2021-12-29T02:26:53.778385",
     "exception": false,
     "start_time": "2021-12-29T02:26:52.554273",
     "status": "completed"
    },
    "tags": []
   },
   "outputs": [],
   "source": [
    "df_metadata=(pd.read_csv('movies_metadata.csv', \n",
    "                              low_memory=False))\n",
    "\n",
    "df_movie_titles = pd.read_csv('movie_titles.csv', \n",
    "                           encoding = 'ISO-8859-1', \n",
    "                           header = None, \n",
    "                           names = ['Id', 'Year', 'Name']).set_index('Id')"
   ]
  },
  {
   "cell_type": "markdown",
   "id": "374b2fcc",
   "metadata": {
    "gradient": {
     "editing": false,
     "id": "374b2fcc",
     "kernelId": "e516c416-276d-439f-b5d0-8e72cb744a95"
    },
    "papermill": {
     "duration": 0.03516,
     "end_time": "2021-12-29T02:26:53.850401",
     "exception": false,
     "start_time": "2021-12-29T02:26:53.815241",
     "status": "completed"
    },
    "tags": []
   },
   "source": [
    "## data wrangling"
   ]
  },
  {
   "cell_type": "markdown",
   "id": "c4ea937d",
   "metadata": {
    "gradient": {
     "editing": false,
     "id": "c4ea937d",
     "kernelId": "e516c416-276d-439f-b5d0-8e72cb744a95"
    },
    "papermill": {
     "duration": 0.03509,
     "end_time": "2021-12-29T02:26:53.921291",
     "exception": false,
     "start_time": "2021-12-29T02:26:53.886201",
     "status": "completed"
    },
    "tags": []
   },
   "source": [
    "### df_movie_titles data wrangling"
   ]
  },
  {
   "cell_type": "markdown",
   "id": "89dcd67a",
   "metadata": {
    "gradient": {
     "editing": false,
     "id": "89dcd67a",
     "kernelId": "e516c416-276d-439f-b5d0-8e72cb744a95"
    },
    "papermill": {
     "duration": 0.036571,
     "end_time": "2021-12-29T02:26:53.993549",
     "exception": false,
     "start_time": "2021-12-29T02:26:53.956978",
     "status": "completed"
    },
    "tags": []
   },
   "source": [
    "**drop rows with missing values**"
   ]
  },
  {
   "cell_type": "code",
   "execution_count": null,
   "id": "2bce124b",
   "metadata": {
    "execution": {
     "iopub.execute_input": "2021-12-29T02:26:54.076958Z",
     "iopub.status.busy": "2021-12-29T02:26:54.075998Z",
     "iopub.status.idle": "2021-12-29T02:26:54.081858Z",
     "shell.execute_reply": "2021-12-29T02:26:54.082433Z"
    },
    "gradient": {
     "editing": false,
     "id": "2bce124b",
     "kernelId": "e516c416-276d-439f-b5d0-8e72cb744a95"
    },
    "papermill": {
     "duration": 0.052878,
     "end_time": "2021-12-29T02:26:54.082629",
     "exception": false,
     "start_time": "2021-12-29T02:26:54.029751",
     "status": "completed"
    },
    "tags": []
   },
   "outputs": [],
   "source": [
    "df_movie_titles.dropna(how='any', inplace=True, axis=0)"
   ]
  },
  {
   "cell_type": "markdown",
   "id": "1d744bb9",
   "metadata": {
    "gradient": {
     "editing": false,
     "id": "1d744bb9",
     "kernelId": "e516c416-276d-439f-b5d0-8e72cb744a95"
    },
    "papermill": {
     "duration": 0.035169,
     "end_time": "2021-12-29T02:26:54.153231",
     "exception": false,
     "start_time": "2021-12-29T02:26:54.118062",
     "status": "completed"
    },
    "tags": []
   },
   "source": [
    "**movie title changed to lower case**"
   ]
  },
  {
   "cell_type": "code",
   "execution_count": null,
   "id": "75ff7d8a",
   "metadata": {
    "execution": {
     "iopub.execute_input": "2021-12-29T02:26:54.232567Z",
     "iopub.status.busy": "2021-12-29T02:26:54.231541Z",
     "iopub.status.idle": "2021-12-29T02:26:54.242637Z",
     "shell.execute_reply": "2021-12-29T02:26:54.243188Z"
    },
    "gradient": {
     "editing": false,
     "id": "75ff7d8a",
     "kernelId": "e516c416-276d-439f-b5d0-8e72cb744a95"
    },
    "papermill": {
     "duration": 0.053758,
     "end_time": "2021-12-29T02:26:54.243389",
     "exception": false,
     "start_time": "2021-12-29T02:26:54.189631",
     "status": "completed"
    },
    "tags": []
   },
   "outputs": [],
   "source": [
    "df_movie_titles['Name']=df_movie_titles['Name'].map(lambda x: x.lower())"
   ]
  },
  {
   "cell_type": "markdown",
   "id": "02d7e03a",
   "metadata": {
    "gradient": {
     "editing": false,
     "id": "02d7e03a",
     "kernelId": "e516c416-276d-439f-b5d0-8e72cb744a95"
    },
    "papermill": {
     "duration": 0.036575,
     "end_time": "2021-12-29T02:26:54.316416",
     "exception": false,
     "start_time": "2021-12-29T02:26:54.279841",
     "status": "completed"
    },
    "tags": []
   },
   "source": [
    "**change year to integers**"
   ]
  },
  {
   "cell_type": "code",
   "execution_count": null,
   "id": "3b985da8",
   "metadata": {
    "execution": {
     "iopub.execute_input": "2021-12-29T02:26:54.393229Z",
     "iopub.status.busy": "2021-12-29T02:26:54.392241Z",
     "iopub.status.idle": "2021-12-29T02:26:54.412891Z",
     "shell.execute_reply": "2021-12-29T02:26:54.412317Z"
    },
    "gradient": {
     "editing": false,
     "id": "3b985da8",
     "kernelId": "e516c416-276d-439f-b5d0-8e72cb744a95"
    },
    "papermill": {
     "duration": 0.05978,
     "end_time": "2021-12-29T02:26:54.413068",
     "exception": false,
     "start_time": "2021-12-29T02:26:54.353288",
     "status": "completed"
    },
    "tags": []
   },
   "outputs": [],
   "source": [
    "df_movie_titles['Year']=df_movie_titles['Year'].map(lambda x: int(x))"
   ]
  },
  {
   "cell_type": "markdown",
   "id": "ef0138b1",
   "metadata": {
    "gradient": {
     "editing": false,
     "id": "ef0138b1",
     "kernelId": "e516c416-276d-439f-b5d0-8e72cb744a95"
    },
    "papermill": {
     "duration": 0.035833,
     "end_time": "2021-12-29T02:26:54.485399",
     "exception": false,
     "start_time": "2021-12-29T02:26:54.449566",
     "status": "completed"
    },
    "tags": []
   },
   "source": [
    "### df_metadata data wrangling"
   ]
  },
  {
   "cell_type": "markdown",
   "id": "465542c7",
   "metadata": {
    "gradient": {
     "editing": false,
     "id": "465542c7",
     "kernelId": "e516c416-276d-439f-b5d0-8e72cb744a95"
    },
    "papermill": {
     "duration": 0.03586,
     "end_time": "2021-12-29T02:26:54.557154",
     "exception": false,
     "start_time": "2021-12-29T02:26:54.521294",
     "status": "completed"
    },
    "tags": []
   },
   "source": [
    "**select columns in metadata**"
   ]
  },
  {
   "cell_type": "code",
   "execution_count": null,
   "id": "ab52be4d",
   "metadata": {
    "gradient": {
     "editing": false,
     "id": "ab52be4d",
     "kernelId": "e516c416-276d-439f-b5d0-8e72cb744a95"
    }
   },
   "outputs": [],
   "source": [
    "df_metadata=df_metadata[['original_title','release_date','overview']]"
   ]
  },
  {
   "cell_type": "markdown",
   "id": "c59128be",
   "metadata": {
    "gradient": {
     "editing": false,
     "id": "c59128be",
     "kernelId": "e516c416-276d-439f-b5d0-8e72cb744a95"
    },
    "papermill": {
     "duration": 0.036264,
     "end_time": "2021-12-29T02:26:54.728844",
     "exception": false,
     "start_time": "2021-12-29T02:26:54.692580",
     "status": "completed"
    },
    "tags": []
   },
   "source": [
    "**drop missing values**"
   ]
  },
  {
   "cell_type": "code",
   "execution_count": null,
   "id": "bf77bb28",
   "metadata": {
    "execution": {
     "iopub.execute_input": "2021-12-29T02:26:54.831291Z",
     "iopub.status.busy": "2021-12-29T02:26:54.830619Z",
     "iopub.status.idle": "2021-12-29T02:26:54.841071Z",
     "shell.execute_reply": "2021-12-29T02:26:54.840440Z"
    },
    "gradient": {
     "editing": false,
     "id": "bf77bb28",
     "kernelId": "e516c416-276d-439f-b5d0-8e72cb744a95"
    },
    "papermill": {
     "duration": 0.076045,
     "end_time": "2021-12-29T02:26:54.841209",
     "exception": false,
     "start_time": "2021-12-29T02:26:54.765164",
     "status": "completed"
    },
    "tags": []
   },
   "outputs": [],
   "source": [
    "df_metadata.dropna(how='any', inplace=True, axis=0)"
   ]
  },
  {
   "cell_type": "markdown",
   "id": "5110bd15",
   "metadata": {
    "gradient": {
     "editing": false,
     "id": "5110bd15",
     "kernelId": "e516c416-276d-439f-b5d0-8e72cb744a95"
    },
    "papermill": {
     "duration": 0.036237,
     "end_time": "2021-12-29T02:26:54.913433",
     "exception": false,
     "start_time": "2021-12-29T02:26:54.877196",
     "status": "completed"
    },
    "tags": []
   },
   "source": [
    "**release date to a four digit integer**"
   ]
  },
  {
   "cell_type": "code",
   "execution_count": null,
   "id": "c6f1d58b",
   "metadata": {
    "execution": {
     "iopub.execute_input": "2021-12-29T02:26:55.032344Z",
     "iopub.status.busy": "2021-12-29T02:26:55.031652Z",
     "iopub.status.idle": "2021-12-29T02:26:55.039671Z",
     "shell.execute_reply": "2021-12-29T02:26:55.039039Z"
    },
    "gradient": {
     "editing": false,
     "id": "c6f1d58b",
     "kernelId": "e516c416-276d-439f-b5d0-8e72cb744a95"
    },
    "papermill": {
     "duration": 0.089861,
     "end_time": "2021-12-29T02:26:55.039807",
     "exception": false,
     "start_time": "2021-12-29T02:26:54.949946",
     "status": "completed"
    },
    "tags": []
   },
   "outputs": [],
   "source": [
    "df_metadata['release_date']=df_metadata['release_date'].map(lambda x : int(x[:4]))"
   ]
  },
  {
   "cell_type": "markdown",
   "id": "e24617bc",
   "metadata": {
    "gradient": {
     "editing": false,
     "id": "e24617bc",
     "kernelId": "e516c416-276d-439f-b5d0-8e72cb744a95"
    },
    "papermill": {
     "duration": 0.035713,
     "end_time": "2021-12-29T02:26:55.111860",
     "exception": false,
     "start_time": "2021-12-29T02:26:55.076147",
     "status": "completed"
    },
    "tags": []
   },
   "source": [
    "**change movie titles to lower case**"
   ]
  },
  {
   "cell_type": "code",
   "execution_count": null,
   "id": "a3baa28f",
   "metadata": {
    "execution": {
     "iopub.execute_input": "2021-12-29T02:26:55.190936Z",
     "iopub.status.busy": "2021-12-29T02:26:55.190265Z",
     "iopub.status.idle": "2021-12-29T02:26:55.211393Z",
     "shell.execute_reply": "2021-12-29T02:26:55.210818Z"
    },
    "gradient": {
     "editing": false,
     "id": "a3baa28f",
     "kernelId": "e516c416-276d-439f-b5d0-8e72cb744a95"
    },
    "papermill": {
     "duration": 0.063722,
     "end_time": "2021-12-29T02:26:55.211534",
     "exception": false,
     "start_time": "2021-12-29T02:26:55.147812",
     "status": "completed"
    },
    "tags": []
   },
   "outputs": [],
   "source": [
    "df_metadata['original_title']=df_metadata['original_title'].map(lambda x : x.lower())"
   ]
  },
  {
   "cell_type": "code",
   "execution_count": null,
   "id": "d027a854",
   "metadata": {
    "gradient": {
     "editing": false,
     "id": "d027a854",
     "kernelId": "e516c416-276d-439f-b5d0-8e72cb744a95"
    }
   },
   "outputs": [],
   "source": [
    "df_metadata.isna().any()"
   ]
  },
  {
   "cell_type": "code",
   "execution_count": null,
   "id": "009cedb8",
   "metadata": {
    "execution": {
     "iopub.execute_input": "2021-12-29T02:26:55.392674Z",
     "iopub.status.busy": "2021-12-29T02:26:55.392032Z",
     "iopub.status.idle": "2021-12-29T02:26:55.405922Z",
     "shell.execute_reply": "2021-12-29T02:26:55.406461Z"
    },
    "gradient": {
     "editing": false,
     "id": "009cedb8",
     "kernelId": "e516c416-276d-439f-b5d0-8e72cb744a95"
    },
    "papermill": {
     "duration": 0.05417,
     "end_time": "2021-12-29T02:26:55.406628",
     "exception": false,
     "start_time": "2021-12-29T02:26:55.352458",
     "status": "completed"
    },
    "tags": []
   },
   "outputs": [
    {
     "data": {
      "text/html": [
       "<div>\n",
       "<style scoped>\n",
       "    .dataframe tbody tr th:only-of-type {\n",
       "        vertical-align: middle;\n",
       "    }\n",
       "\n",
       "    .dataframe tbody tr th {\n",
       "        vertical-align: top;\n",
       "    }\n",
       "\n",
       "    .dataframe thead th {\n",
       "        text-align: right;\n",
       "    }\n",
       "</style>\n",
       "<table border=\"1\" class=\"dataframe\">\n",
       "  <thead>\n",
       "    <tr style=\"text-align: right;\">\n",
       "      <th></th>\n",
       "      <th>original_title</th>\n",
       "      <th>release_date</th>\n",
       "      <th>overview</th>\n",
       "    </tr>\n",
       "  </thead>\n",
       "  <tbody>\n",
       "    <tr>\n",
       "      <th>0</th>\n",
       "      <td>toy story</td>\n",
       "      <td>1995</td>\n",
       "      <td>Led by Woody, Andy's toys live happily in his ...</td>\n",
       "    </tr>\n",
       "  </tbody>\n",
       "</table>\n",
       "</div>"
      ],
      "text/plain": [
       "  original_title  release_date  \\\n",
       "0      toy story          1995   \n",
       "\n",
       "                                            overview  \n",
       "0  Led by Woody, Andy's toys live happily in his ...  "
      ]
     },
     "execution_count": 14,
     "metadata": {},
     "output_type": "execute_result"
    }
   ],
   "source": [
    "df_metadata.head(1)"
   ]
  },
  {
   "cell_type": "markdown",
   "id": "a6d32199",
   "metadata": {
    "gradient": {
     "editing": false,
     "id": "a6d32199",
     "kernelId": "e516c416-276d-439f-b5d0-8e72cb744a95"
    },
    "papermill": {
     "duration": 0.036624,
     "end_time": "2021-12-29T02:26:55.480590",
     "exception": false,
     "start_time": "2021-12-29T02:26:55.443966",
     "status": "completed"
    },
    "tags": []
   },
   "source": [
    "### merge df_metadata and df_movie_titles"
   ]
  },
  {
   "cell_type": "markdown",
   "id": "8added65",
   "metadata": {
    "gradient": {
     "editing": false,
     "id": "8added65",
     "kernelId": "e516c416-276d-439f-b5d0-8e72cb744a95"
    },
    "papermill": {
     "duration": 0.036387,
     "end_time": "2021-12-29T02:26:55.553911",
     "exception": false,
     "start_time": "2021-12-29T02:26:55.517524",
     "status": "completed"
    },
    "tags": []
   },
   "source": [
    "**add a new column called 'overview' to df_movie_titles**"
   ]
  },
  {
   "cell_type": "code",
   "execution_count": null,
   "id": "534d6e34",
   "metadata": {
    "execution": {
     "iopub.execute_input": "2021-12-29T02:26:55.631542Z",
     "iopub.status.busy": "2021-12-29T02:26:55.630934Z",
     "iopub.status.idle": "2021-12-29T02:26:55.635049Z",
     "shell.execute_reply": "2021-12-29T02:26:55.635549Z"
    },
    "gradient": {
     "editing": false,
     "id": "534d6e34",
     "kernelId": "e516c416-276d-439f-b5d0-8e72cb744a95"
    },
    "papermill": {
     "duration": 0.044883,
     "end_time": "2021-12-29T02:26:55.635700",
     "exception": false,
     "start_time": "2021-12-29T02:26:55.590817",
     "status": "completed"
    },
    "tags": []
   },
   "outputs": [],
   "source": [
    "df_movie_titles['overview']=float('nan')"
   ]
  },
  {
   "cell_type": "code",
   "execution_count": null,
   "id": "9b759849",
   "metadata": {
    "execution": {
     "iopub.execute_input": "2021-12-29T02:26:55.713198Z",
     "iopub.status.busy": "2021-12-29T02:26:55.712532Z",
     "iopub.status.idle": "2021-12-29T02:26:55.721920Z",
     "shell.execute_reply": "2021-12-29T02:26:55.722441Z"
    },
    "gradient": {
     "editing": false,
     "id": "9b759849",
     "kernelId": "e516c416-276d-439f-b5d0-8e72cb744a95"
    },
    "papermill": {
     "duration": 0.050121,
     "end_time": "2021-12-29T02:26:55.722597",
     "exception": false,
     "start_time": "2021-12-29T02:26:55.672476",
     "status": "completed"
    },
    "tags": []
   },
   "outputs": [
    {
     "data": {
      "text/html": [
       "<div>\n",
       "<style scoped>\n",
       "    .dataframe tbody tr th:only-of-type {\n",
       "        vertical-align: middle;\n",
       "    }\n",
       "\n",
       "    .dataframe tbody tr th {\n",
       "        vertical-align: top;\n",
       "    }\n",
       "\n",
       "    .dataframe thead th {\n",
       "        text-align: right;\n",
       "    }\n",
       "</style>\n",
       "<table border=\"1\" class=\"dataframe\">\n",
       "  <thead>\n",
       "    <tr style=\"text-align: right;\">\n",
       "      <th></th>\n",
       "      <th>Year</th>\n",
       "      <th>Name</th>\n",
       "      <th>overview</th>\n",
       "    </tr>\n",
       "    <tr>\n",
       "      <th>Id</th>\n",
       "      <th></th>\n",
       "      <th></th>\n",
       "      <th></th>\n",
       "    </tr>\n",
       "  </thead>\n",
       "  <tbody>\n",
       "    <tr>\n",
       "      <th>1</th>\n",
       "      <td>2003</td>\n",
       "      <td>dinosaur planet</td>\n",
       "      <td>NaN</td>\n",
       "    </tr>\n",
       "  </tbody>\n",
       "</table>\n",
       "</div>"
      ],
      "text/plain": [
       "    Year             Name  overview\n",
       "Id                                 \n",
       "1   2003  dinosaur planet       NaN"
      ]
     },
     "execution_count": 16,
     "metadata": {},
     "output_type": "execute_result"
    }
   ],
   "source": [
    "df_movie_titles.head(1)"
   ]
  },
  {
   "cell_type": "markdown",
   "id": "d401b33a",
   "metadata": {
    "gradient": {
     "editing": false,
     "id": "d401b33a",
     "kernelId": "e516c416-276d-439f-b5d0-8e72cb744a95"
    },
    "papermill": {
     "duration": 0.037526,
     "end_time": "2021-12-29T02:26:55.797509",
     "exception": false,
     "start_time": "2021-12-29T02:26:55.759983",
     "status": "completed"
    },
    "tags": []
   },
   "source": [
    "**some movies in df_movie_titles are present in df_metadata, we find those movies and add their overviews to df_movie_titles, then delete rows with missing overviews in df_movie_titles**"
   ]
  },
  {
   "cell_type": "code",
   "execution_count": null,
   "id": "bc4e6bb8",
   "metadata": {
    "execution": {
     "iopub.execute_input": "2021-12-29T02:26:55.876933Z",
     "iopub.status.busy": "2021-12-29T02:26:55.876324Z",
     "iopub.status.idle": "2021-12-29T02:29:20.488570Z",
     "shell.execute_reply": "2021-12-29T02:29:20.489185Z"
    },
    "gradient": {
     "editing": false,
     "id": "bc4e6bb8",
     "kernelId": "e516c416-276d-439f-b5d0-8e72cb744a95"
    },
    "papermill": {
     "duration": 144.653854,
     "end_time": "2021-12-29T02:29:20.489644",
     "exception": false,
     "start_time": "2021-12-29T02:26:55.835790",
     "status": "completed"
    },
    "tags": []
   },
   "outputs": [
    {
     "name": "stderr",
     "output_type": "stream",
     "text": [
      "100%|██████████| 17763/17763 [00:41<00:00, 431.51it/s]\n"
     ]
    }
   ],
   "source": [
    "for i in tqdm(range(df_movie_titles.shape[0])):\n",
    "    year=df_movie_titles.iloc[i, 0]\n",
    "    name=df_movie_titles.iloc[i, 1]\n",
    "    try:\n",
    "        overview=df_metadata.loc[(df_metadata['release_date']==year) & (df_metadata['original_title']==name)].iloc[0,2]\n",
    "        df_movie_titles.iloc[i, 2]=overview\n",
    "    except:\n",
    "        continue\n",
    "\n",
    "df_movie_titles_filtered=df_movie_titles.dropna()"
   ]
  },
  {
   "cell_type": "code",
   "execution_count": null,
   "id": "b2af431a",
   "metadata": {
    "execution": {
     "iopub.execute_input": "2021-12-29T02:29:21.408439Z",
     "iopub.status.busy": "2021-12-29T02:29:21.407787Z",
     "iopub.status.idle": "2021-12-29T02:29:21.411045Z",
     "shell.execute_reply": "2021-12-29T02:29:21.410385Z"
    },
    "gradient": {
     "editing": false,
     "id": "b2af431a",
     "kernelId": "e516c416-276d-439f-b5d0-8e72cb744a95"
    },
    "papermill": {
     "duration": 0.466574,
     "end_time": "2021-12-29T02:29:21.411187",
     "exception": false,
     "start_time": "2021-12-29T02:29:20.944613",
     "status": "completed"
    },
    "tags": []
   },
   "outputs": [],
   "source": [
    "del df_metadata\n",
    "del df_movie_titles"
   ]
  },
  {
   "cell_type": "markdown",
   "id": "90d96821",
   "metadata": {
    "gradient": {
     "editing": false,
     "id": "90d96821",
     "kernelId": "e516c416-276d-439f-b5d0-8e72cb744a95"
    },
    "papermill": {
     "duration": 0.456737,
     "end_time": "2021-12-29T02:29:22.321590",
     "exception": false,
     "start_time": "2021-12-29T02:29:21.864853",
     "status": "completed"
    },
    "tags": []
   },
   "source": [
    "**only 6551 out of 17763 movies are left in df_movie_titles. Notice that some of the movies among these 6551 movies may receive less than 1000 ratings so they will not be included in df_train_filtered, df_val_filtered and df_test_filtered.**"
   ]
  },
  {
   "cell_type": "code",
   "execution_count": null,
   "id": "97d40d7e",
   "metadata": {
    "execution": {
     "iopub.execute_input": "2021-12-29T02:29:23.272941Z",
     "iopub.status.busy": "2021-12-29T02:29:23.272273Z",
     "iopub.status.idle": "2021-12-29T02:29:23.277519Z",
     "shell.execute_reply": "2021-12-29T02:29:23.278128Z"
    },
    "gradient": {
     "editing": false,
     "id": "97d40d7e",
     "kernelId": "e516c416-276d-439f-b5d0-8e72cb744a95"
    },
    "papermill": {
     "duration": 0.498136,
     "end_time": "2021-12-29T02:29:23.278304",
     "exception": false,
     "start_time": "2021-12-29T02:29:22.780168",
     "status": "completed"
    },
    "tags": []
   },
   "outputs": [
    {
     "data": {
      "text/plain": [
       "(6551, 3)"
      ]
     },
     "execution_count": 19,
     "metadata": {},
     "output_type": "execute_result"
    }
   ],
   "source": [
    "df_movie_titles_filtered.shape"
   ]
  },
  {
   "cell_type": "code",
   "execution_count": null,
   "id": "d5f8b0c7",
   "metadata": {
    "execution": {
     "iopub.execute_input": "2021-12-29T02:29:24.190251Z",
     "iopub.status.busy": "2021-12-29T02:29:24.189609Z",
     "iopub.status.idle": "2021-12-29T02:29:24.200773Z",
     "shell.execute_reply": "2021-12-29T02:29:24.201280Z"
    },
    "gradient": {
     "editing": false,
     "id": "d5f8b0c7",
     "kernelId": "e516c416-276d-439f-b5d0-8e72cb744a95"
    },
    "papermill": {
     "duration": 0.468724,
     "end_time": "2021-12-29T02:29:24.201443",
     "exception": false,
     "start_time": "2021-12-29T02:29:23.732719",
     "status": "completed"
    },
    "tags": []
   },
   "outputs": [
    {
     "data": {
      "text/html": [
       "<div>\n",
       "<style scoped>\n",
       "    .dataframe tbody tr th:only-of-type {\n",
       "        vertical-align: middle;\n",
       "    }\n",
       "\n",
       "    .dataframe tbody tr th {\n",
       "        vertical-align: top;\n",
       "    }\n",
       "\n",
       "    .dataframe thead th {\n",
       "        text-align: right;\n",
       "    }\n",
       "</style>\n",
       "<table border=\"1\" class=\"dataframe\">\n",
       "  <thead>\n",
       "    <tr style=\"text-align: right;\">\n",
       "      <th></th>\n",
       "      <th>Year</th>\n",
       "      <th>Name</th>\n",
       "      <th>overview</th>\n",
       "    </tr>\n",
       "    <tr>\n",
       "      <th>Id</th>\n",
       "      <th></th>\n",
       "      <th></th>\n",
       "      <th></th>\n",
       "    </tr>\n",
       "  </thead>\n",
       "  <tbody>\n",
       "    <tr>\n",
       "      <th>12</th>\n",
       "      <td>1947</td>\n",
       "      <td>my favorite brunette</td>\n",
       "      <td>Baby photographer Ronnie Jackson, on death row...</td>\n",
       "    </tr>\n",
       "  </tbody>\n",
       "</table>\n",
       "</div>"
      ],
      "text/plain": [
       "    Year                  Name  \\\n",
       "Id                               \n",
       "12  1947  my favorite brunette   \n",
       "\n",
       "                                             overview  \n",
       "Id                                                     \n",
       "12  Baby photographer Ronnie Jackson, on death row...  "
      ]
     },
     "execution_count": 20,
     "metadata": {},
     "output_type": "execute_result"
    }
   ],
   "source": [
    "df_movie_titles_filtered.head(1)"
   ]
  },
  {
   "cell_type": "markdown",
   "id": "b76a09f5",
   "metadata": {
    "gradient": {
     "editing": false,
     "id": "b76a09f5",
     "kernelId": "e516c416-276d-439f-b5d0-8e72cb744a95"
    },
    "papermill": {
     "duration": 0.45574,
     "end_time": "2021-12-29T02:29:25.112580",
     "exception": false,
     "start_time": "2021-12-29T02:29:24.656840",
     "status": "completed"
    },
    "tags": []
   },
   "source": [
    "**overview_dic--->{ movie_id (int) : overview (str) }**"
   ]
  },
  {
   "cell_type": "code",
   "execution_count": null,
   "id": "774a4259",
   "metadata": {
    "execution": {
     "iopub.execute_input": "2021-12-29T02:29:26.018322Z",
     "iopub.status.busy": "2021-12-29T02:29:26.017680Z",
     "iopub.status.idle": "2021-12-29T02:29:26.115619Z",
     "shell.execute_reply": "2021-12-29T02:29:26.115056Z"
    },
    "gradient": {
     "editing": false,
     "id": "774a4259",
     "kernelId": "e516c416-276d-439f-b5d0-8e72cb744a95"
    },
    "papermill": {
     "duration": 0.550961,
     "end_time": "2021-12-29T02:29:26.115758",
     "exception": false,
     "start_time": "2021-12-29T02:29:25.564797",
     "status": "completed"
    },
    "tags": []
   },
   "outputs": [],
   "source": [
    "overview_dic={}\n",
    "for movie in list(df_movie_titles_filtered.index):\n",
    "    overview_dic[movie]=df_movie_titles_filtered.loc[movie, 'overview']"
   ]
  },
  {
   "cell_type": "markdown",
   "id": "64328f4a",
   "metadata": {
    "gradient": {
     "editing": false,
     "id": "64328f4a",
     "kernelId": "e516c416-276d-439f-b5d0-8e72cb744a95"
    },
    "papermill": {
     "duration": 0.451318,
     "end_time": "2021-12-29T02:29:27.020711",
     "exception": false,
     "start_time": "2021-12-29T02:29:26.569393",
     "status": "completed"
    },
    "tags": []
   },
   "source": [
    "**filter df_train**"
   ]
  },
  {
   "cell_type": "code",
   "execution_count": null,
   "id": "8089e4f5",
   "metadata": {
    "execution": {
     "iopub.execute_input": "2021-12-29T02:29:27.941295Z",
     "iopub.status.busy": "2021-12-29T02:29:27.940643Z",
     "iopub.status.idle": "2021-12-29T02:29:30.807414Z",
     "shell.execute_reply": "2021-12-29T02:29:30.806623Z"
    },
    "gradient": {
     "editing": false,
     "id": "8089e4f5",
     "kernelId": "e516c416-276d-439f-b5d0-8e72cb744a95"
    },
    "papermill": {
     "duration": 3.325955,
     "end_time": "2021-12-29T02:29:30.807677",
     "exception": false,
     "start_time": "2021-12-29T02:29:27.481722",
     "status": "completed"
    },
    "tags": []
   },
   "outputs": [],
   "source": [
    "df_train_filtered=df_train[df_train['Movie'].isin(list(overview_dic.keys()))]"
   ]
  },
  {
   "cell_type": "markdown",
   "id": "a0b80fae",
   "metadata": {
    "gradient": {
     "editing": false,
     "id": "a0b80fae",
     "kernelId": "e516c416-276d-439f-b5d0-8e72cb744a95"
    },
    "papermill": {
     "duration": 0.541812,
     "end_time": "2021-12-29T02:29:31.805972",
     "exception": false,
     "start_time": "2021-12-29T02:29:31.264160",
     "status": "completed"
    },
    "tags": []
   },
   "source": [
    "**79% of the data in df_train are kept**"
   ]
  },
  {
   "cell_type": "code",
   "execution_count": null,
   "id": "35139bcf",
   "metadata": {
    "execution": {
     "iopub.execute_input": "2021-12-29T02:29:32.714167Z",
     "iopub.status.busy": "2021-12-29T02:29:32.713471Z",
     "iopub.status.idle": "2021-12-29T02:29:32.718792Z",
     "shell.execute_reply": "2021-12-29T02:29:32.719344Z"
    },
    "gradient": {
     "editing": false,
     "id": "35139bcf",
     "kernelId": "e516c416-276d-439f-b5d0-8e72cb744a95"
    },
    "papermill": {
     "duration": 0.460848,
     "end_time": "2021-12-29T02:29:32.719511",
     "exception": false,
     "start_time": "2021-12-29T02:29:32.258663",
     "status": "completed"
    },
    "tags": []
   },
   "outputs": [
    {
     "data": {
      "text/plain": [
       "0.7929305776156387"
      ]
     },
     "execution_count": 23,
     "metadata": {},
     "output_type": "execute_result"
    }
   ],
   "source": [
    "df_train_filtered.shape[0]/df_train.shape[0]"
   ]
  },
  {
   "cell_type": "code",
   "execution_count": null,
   "id": "4c6bc414",
   "metadata": {
    "execution": {
     "iopub.execute_input": "2021-12-29T02:29:33.646044Z",
     "iopub.status.busy": "2021-12-29T02:29:33.645341Z",
     "iopub.status.idle": "2021-12-29T02:29:33.671873Z",
     "shell.execute_reply": "2021-12-29T02:29:33.671225Z"
    },
    "gradient": {
     "editing": false,
     "id": "4c6bc414",
     "kernelId": "e516c416-276d-439f-b5d0-8e72cb744a95"
    },
    "papermill": {
     "duration": 0.491579,
     "end_time": "2021-12-29T02:29:33.672067",
     "exception": false,
     "start_time": "2021-12-29T02:29:33.180488",
     "status": "completed"
    },
    "tags": []
   },
   "outputs": [],
   "source": [
    "df_test_filtered=df_test[df_test['Movie'].isin(list(overview_dic.keys()))]\n",
    "df_val_filtered=df_val[df_val['Movie'].isin(list(overview_dic.keys()))]"
   ]
  },
  {
   "cell_type": "markdown",
   "id": "3a22b4d5",
   "metadata": {
    "gradient": {
     "editing": false,
     "id": "3a22b4d5",
     "kernelId": "e516c416-276d-439f-b5d0-8e72cb744a95"
    },
    "papermill": {
     "duration": 0.45412,
     "end_time": "2021-12-29T02:29:34.605093",
     "exception": false,
     "start_time": "2021-12-29T02:29:34.150973",
     "status": "completed"
    },
    "tags": []
   },
   "source": [
    "**similar percentage for the cross validation and test set**"
   ]
  },
  {
   "cell_type": "code",
   "execution_count": null,
   "id": "6d196f53",
   "metadata": {
    "execution": {
     "iopub.execute_input": "2021-12-29T02:29:35.535985Z",
     "iopub.status.busy": "2021-12-29T02:29:35.535333Z",
     "iopub.status.idle": "2021-12-29T02:29:35.540933Z",
     "shell.execute_reply": "2021-12-29T02:29:35.541459Z"
    },
    "gradient": {
     "editing": false,
     "id": "6d196f53",
     "kernelId": "e516c416-276d-439f-b5d0-8e72cb744a95"
    },
    "papermill": {
     "duration": 0.46737,
     "end_time": "2021-12-29T02:29:35.541627",
     "exception": false,
     "start_time": "2021-12-29T02:29:35.074257",
     "status": "completed"
    },
    "tags": []
   },
   "outputs": [
    {
     "data": {
      "text/plain": [
       "(0.79463, 0.79336)"
      ]
     },
     "execution_count": 25,
     "metadata": {},
     "output_type": "execute_result"
    }
   ],
   "source": [
    "df_test_filtered.shape[0]/df_test.shape[0], df_val_filtered.shape[0]/df_val.shape[0]"
   ]
  },
  {
   "cell_type": "code",
   "execution_count": null,
   "id": "e75f905d",
   "metadata": {
    "execution": {
     "iopub.execute_input": "2021-12-29T02:29:37.682027Z",
     "iopub.status.busy": "2021-12-29T02:29:37.333904Z",
     "iopub.status.idle": "2021-12-29T02:29:37.687909Z",
     "shell.execute_reply": "2021-12-29T02:29:37.687350Z"
    },
    "gradient": {
     "editing": false,
     "id": "e75f905d",
     "kernelId": "e516c416-276d-439f-b5d0-8e72cb744a95"
    },
    "papermill": {
     "duration": 1.694266,
     "end_time": "2021-12-29T02:29:37.688097",
     "exception": false,
     "start_time": "2021-12-29T02:29:35.993831",
     "status": "completed"
    },
    "tags": []
   },
   "outputs": [
    {
     "data": {
      "text/plain": [
       "0"
      ]
     },
     "execution_count": 26,
     "metadata": {},
     "output_type": "execute_result"
    }
   ],
   "source": [
    "del df_train, df_test, df_val\n",
    "gc.collect()"
   ]
  },
  {
   "cell_type": "markdown",
   "id": "73dc868a",
   "metadata": {
    "gradient": {
     "editing": false,
     "id": "73dc868a",
     "kernelId": "e516c416-276d-439f-b5d0-8e72cb744a95"
    },
    "papermill": {
     "duration": 0.456841,
     "end_time": "2021-12-29T02:29:38.601345",
     "exception": false,
     "start_time": "2021-12-29T02:29:38.144504",
     "status": "completed"
    },
    "tags": []
   },
   "source": [
    "### EDA: find out max token size"
   ]
  },
  {
   "cell_type": "markdown",
   "id": "65ce8bc7",
   "metadata": {
    "gradient": {
     "editing": false,
     "id": "65ce8bc7",
     "kernelId": "e516c416-276d-439f-b5d0-8e72cb744a95"
    },
    "papermill": {
     "duration": 0.455019,
     "end_time": "2021-12-29T02:29:39.511862",
     "exception": false,
     "start_time": "2021-12-29T02:29:39.056843",
     "status": "completed"
    },
    "tags": []
   },
   "source": [
    "**overview_token_dic--->{ movie_id : {input_ids: ids_tokens, attention_mask: mask_tokens} }**"
   ]
  },
  {
   "cell_type": "code",
   "execution_count": null,
   "id": "b36411ae",
   "metadata": {
    "gradient": {
     "editing": false,
     "id": "b36411ae",
     "kernelId": "e516c416-276d-439f-b5d0-8e72cb744a95"
    }
   },
   "outputs": [],
   "source": [
    "!pip install ipywidgets\n",
    "!jupyter nbextension enable --py widgetsnbextension"
   ]
  },
  {
   "cell_type": "code",
   "execution_count": null,
   "id": "9f1a038e",
   "metadata": {
    "execution": {
     "iopub.execute_input": "2021-12-29T02:29:40.434409Z",
     "iopub.status.busy": "2021-12-29T02:29:40.433697Z",
     "iopub.status.idle": "2021-12-29T02:29:59.791362Z",
     "shell.execute_reply": "2021-12-29T02:29:59.791917Z"
    },
    "gradient": {
     "editing": false,
     "id": "9f1a038e",
     "kernelId": "e516c416-276d-439f-b5d0-8e72cb744a95"
    },
    "papermill": {
     "duration": 19.825336,
     "end_time": "2021-12-29T02:29:59.792130",
     "exception": false,
     "start_time": "2021-12-29T02:29:39.966794",
     "status": "completed"
    },
    "tags": []
   },
   "outputs": [],
   "source": [
    "tokenizer = transformers.DistilBertTokenizer.from_pretrained('distilbert-base-uncased')\n",
    "\n",
    "input_id_dic={}\n",
    "\n",
    "for key in overview_dic:\n",
    "    temp=tokenizer(overview_dic[key])\n",
    "    input_id_dic[key]=temp['input_ids']"
   ]
  },
  {
   "cell_type": "markdown",
   "id": "3461d6f3",
   "metadata": {
    "gradient": {
     "editing": false,
     "id": "3461d6f3",
     "kernelId": "e516c416-276d-439f-b5d0-8e72cb744a95"
    },
    "papermill": {
     "duration": 0.457977,
     "end_time": "2021-12-29T02:30:01.643332",
     "exception": false,
     "start_time": "2021-12-29T02:30:01.185355",
     "status": "completed"
    },
    "tags": []
   },
   "source": [
    "**temp stores sizes of tokens**"
   ]
  },
  {
   "cell_type": "code",
   "execution_count": null,
   "id": "50f8fb91",
   "metadata": {
    "execution": {
     "iopub.execute_input": "2021-12-29T02:30:02.571538Z",
     "iopub.status.busy": "2021-12-29T02:30:02.570616Z",
     "iopub.status.idle": "2021-12-29T02:30:02.573275Z",
     "shell.execute_reply": "2021-12-29T02:30:02.572607Z"
    },
    "gradient": {
     "editing": false,
     "id": "50f8fb91",
     "kernelId": "e516c416-276d-439f-b5d0-8e72cb744a95"
    },
    "papermill": {
     "duration": 0.470553,
     "end_time": "2021-12-29T02:30:02.573430",
     "exception": false,
     "start_time": "2021-12-29T02:30:02.102877",
     "status": "completed"
    },
    "tags": []
   },
   "outputs": [],
   "source": [
    "temp=[]\n",
    "for key in input_id_dic:\n",
    "    temp.append(len(input_id_dic[key]))"
   ]
  },
  {
   "cell_type": "markdown",
   "id": "9417adca",
   "metadata": {
    "gradient": {
     "editing": false,
     "id": "9417adca",
     "kernelId": "e516c416-276d-439f-b5d0-8e72cb744a95"
    },
    "papermill": {
     "duration": 0.457488,
     "end_time": "2021-12-29T02:30:03.492462",
     "exception": false,
     "start_time": "2021-12-29T02:30:03.034974",
     "status": "completed"
    },
    "tags": []
   },
   "source": [
    "**maximum token size is 274**"
   ]
  },
  {
   "cell_type": "code",
   "execution_count": null,
   "id": "7cdc1565",
   "metadata": {
    "execution": {
     "iopub.execute_input": "2021-12-29T02:30:04.458152Z",
     "iopub.status.busy": "2021-12-29T02:30:04.457218Z",
     "iopub.status.idle": "2021-12-29T02:30:04.460613Z",
     "shell.execute_reply": "2021-12-29T02:30:04.461141Z"
    },
    "gradient": {
     "editing": false,
     "id": "7cdc1565",
     "kernelId": "e516c416-276d-439f-b5d0-8e72cb744a95"
    },
    "papermill": {
     "duration": 0.464775,
     "end_time": "2021-12-29T02:30:04.461305",
     "exception": false,
     "start_time": "2021-12-29T02:30:03.996530",
     "status": "completed"
    },
    "tags": []
   },
   "outputs": [
    {
     "data": {
      "text/plain": [
       "274"
      ]
     },
     "execution_count": 43,
     "metadata": {},
     "output_type": "execute_result"
    }
   ],
   "source": [
    "max(temp)"
   ]
  },
  {
   "cell_type": "markdown",
   "id": "083924d2",
   "metadata": {
    "gradient": {
     "editing": false,
     "id": "083924d2",
     "kernelId": "e516c416-276d-439f-b5d0-8e72cb744a95"
    },
    "papermill": {
     "duration": 0.45838,
     "end_time": "2021-12-29T02:30:05.383890",
     "exception": false,
     "start_time": "2021-12-29T02:30:04.925510",
     "status": "completed"
    },
    "tags": []
   },
   "source": [
    "**distribution of token sizes**"
   ]
  },
  {
   "cell_type": "code",
   "execution_count": null,
   "id": "7259582a",
   "metadata": {
    "execution": {
     "iopub.execute_input": "2021-12-29T02:30:06.302952Z",
     "iopub.status.busy": "2021-12-29T02:30:06.302049Z",
     "iopub.status.idle": "2021-12-29T02:30:06.613407Z",
     "shell.execute_reply": "2021-12-29T02:30:06.614029Z"
    },
    "gradient": {
     "editing": false,
     "id": "7259582a",
     "kernelId": "e516c416-276d-439f-b5d0-8e72cb744a95"
    },
    "papermill": {
     "duration": 0.772721,
     "end_time": "2021-12-29T02:30:06.614208",
     "exception": false,
     "start_time": "2021-12-29T02:30:05.841487",
     "status": "completed"
    },
    "tags": []
   },
   "outputs": [
    {
     "data": {
      "text/plain": [
       "<AxesSubplot:>"
      ]
     },
     "execution_count": 44,
     "metadata": {},
     "output_type": "execute_result"
    },
    {
     "data": {
      "image/png": "[encoded data removed]",
      "text/plain": [
       "<Figure size 432x288 with 1 Axes>"
      ]
     },
     "metadata": {
      "needs_background": "light"
     },
     "output_type": "display_data"
    }
   ],
   "source": [
    "pd.Series(temp).hist()"
   ]
  },
  {
   "cell_type": "markdown",
   "id": "23f3a9b1",
   "metadata": {
    "gradient": {
     "editing": false,
     "id": "23f3a9b1",
     "kernelId": "e516c416-276d-439f-b5d0-8e72cb744a95"
    },
    "papermill": {
     "duration": 0.457094,
     "end_time": "2021-12-29T02:30:07.555915",
     "exception": false,
     "start_time": "2021-12-29T02:30:07.098821",
     "status": "completed"
    },
    "tags": []
   },
   "source": [
    "## save data"
   ]
  },
  {
   "cell_type": "code",
   "execution_count": null,
   "id": "68c994d3",
   "metadata": {
    "execution": {
     "iopub.execute_input": "2021-12-29T02:30:08.478205Z",
     "iopub.status.busy": "2021-12-29T02:30:08.477250Z",
     "iopub.status.idle": "2021-12-29T02:30:21.783961Z",
     "shell.execute_reply": "2021-12-29T02:30:21.783234Z"
    },
    "gradient": {
     "editing": false,
     "id": "68c994d3",
     "kernelId": "e516c416-276d-439f-b5d0-8e72cb744a95"
    },
    "papermill": {
     "duration": 13.772643,
     "end_time": "2021-12-29T02:30:21.784159",
     "exception": false,
     "start_time": "2021-12-29T02:30:08.011516",
     "status": "completed"
    },
    "tags": []
   },
   "outputs": [],
   "source": [
    "df_movie_titles_filtered.to_pickle('df_movie_titles_filtered.pkl')\n",
    "df_train_filtered.to_pickle('df_train_filtered.pkl')\n",
    "df_val_filtered.to_pickle('df_val_filtered.pkl')\n",
    "df_test_filtered.to_pickle('df_test_filtered.pkl')"
   ]
  },
  {
   "cell_type": "markdown",
   "id": "2e530587",
   "metadata": {
    "gradient": {
     "editing": false,
     "id": "2e530587",
     "kernelId": "e516c416-276d-439f-b5d0-8e72cb744a95"
    },
    "papermill": {
     "duration": 0.460336,
     "end_time": "2021-12-29T02:30:22.701703",
     "exception": false,
     "start_time": "2021-12-29T02:30:22.241367",
     "status": "completed"
    },
    "tags": []
   },
   "source": [
    "# We're far from finished yet. The rest of the work will be done in Part 3.1."
   ]
  },
  {
   "cell_type": "code",
   "execution_count": null,
   "id": "a5d4ea14",
   "metadata": {
    "gradient": {
     "editing": false,
     "id": "a5d4ea14",
     "kernelId": "e516c416-276d-439f-b5d0-8e72cb744a95"
    },
    "papermill": {
     "duration": 0.457332,
     "end_time": "2021-12-29T02:30:23.617666",
     "exception": false,
     "start_time": "2021-12-29T02:30:23.160334",
     "status": "completed"
    },
    "tags": []
   },
   "outputs": [],
   "source": []
  }
 ],
 "metadata": {
  "kernelspec": {
   "display_name": "Python 3 (ipykernel)",
   "language": "python",
   "name": "python3"
  },
  "language_info": {
   "codemirror_mode": {
    "name": "ipython",
    "version": 3
   },
   "file_extension": ".py",
   "mimetype": "text/x-python",
   "name": "python",
   "nbconvert_exporter": "python",
   "pygments_lexer": "ipython3",
   "version": "3.8.10"
  },
  "papermill": {
   "default_parameters": {},
   "duration": 249.151021,
   "end_time": "2021-12-29T02:30:26.686176",
   "environment_variables": {},
   "exception": null,
   "input_path": "__notebook__.ipynb",
   "output_path": "__notebook__.ipynb",
   "parameters": {},
   "start_time": "2021-12-29T02:26:17.535155",
   "version": "2.3.3"
  },
  "widgets": {
   "application/vnd.jupyter.widget-state+json": {
    "state": {
     "02b2110a1e28430ebf2b2bca9a4f332b": {
      "model_module": "@jupyter-widgets/base",
      "model_module_version": "1.2.0",
      "model_name": "LayoutModel",
      "state": {
       "_model_module": "@jupyter-widgets/base",
       "_model_module_version": "1.2.0",
       "_model_name": "LayoutModel",
       "_view_count": null,
       "_view_module": "@jupyter-widgets/base",
       "_view_module_version": "1.2.0",
       "_view_name": "LayoutView",
       "align_content": null,
       "align_items": null,
       "align_self": null,
       "border": null,
       "bottom": null,
       "display": null,
       "flex": null,
       "flex_flow": null,
       "grid_area": null,
       "grid_auto_columns": null,
       "grid_auto_flow": null,
       "grid_auto_rows": null,
       "grid_column": null,
       "grid_gap": null,
       "grid_row": null,
       "grid_template_areas": null,
       "grid_template_columns": null,
       "grid_template_rows": null,
       "height": null,
       "justify_content": null,
       "justify_items": null,
       "left": null,
       "margin": null,
       "max_height": null,
       "max_width": null,
       "min_height": null,
       "min_width": null,
       "object_fit": null,
       "object_position": null,
       "order": null,
       "overflow": null,
       "overflow_x": null,
       "overflow_y": null,
       "padding": null,
       "right": null,
       "top": null,
       "visibility": null,
       "width": null
      }
     },
     "07b57ad155c446a1814a8a7274a8adda": {
      "model_module": "@jupyter-widgets/controls",
      "model_module_version": "1.5.0",
      "model_name": "HBoxModel",
      "state": {
       "_dom_classes": [],
       "_model_module": "@jupyter-widgets/controls",
       "_model_module_version": "1.5.0",
       "_model_name": "HBoxModel",
       "_view_count": null,
       "_view_module": "@jupyter-widgets/controls",
       "_view_module_version": "1.5.0",
       "_view_name": "HBoxView",
       "box_style": "",
       "children": [
        "IPY_MODEL_94faa855c60d47808e3b660ab8ce0cda",
        "IPY_MODEL_b60511119028493f8778725fab927cda",
        "IPY_MODEL_c87aacb634634e0eab88aeda78c091a5"
       ],
       "layout": "IPY_MODEL_d789389dde1a420dad29d004160d4bf1"
      }
     },
     "0b533ae43e12468aaa1015c1a32d38e7": {
      "model_module": "@jupyter-widgets/base",
      "model_module_version": "1.2.0",
      "model_name": "LayoutModel",
      "state": {
       "_model_module": "@jupyter-widgets/base",
       "_model_module_version": "1.2.0",
       "_model_name": "LayoutModel",
       "_view_count": null,
       "_view_module": "@jupyter-widgets/base",
       "_view_module_version": "1.2.0",
       "_view_name": "LayoutView",
       "align_content": null,
       "align_items": null,
       "align_self": null,
       "border": null,
       "bottom": null,
       "display": null,
       "flex": null,
       "flex_flow": null,
       "grid_area": null,
       "grid_auto_columns": null,
       "grid_auto_flow": null,
       "grid_auto_rows": null,
       "grid_column": null,
       "grid_gap": null,
       "grid_row": null,
       "grid_template_areas": null,
       "grid_template_columns": null,
       "grid_template_rows": null,
       "height": null,
       "justify_content": null,
       "justify_items": null,
       "left": null,
       "margin": null,
       "max_height": null,
       "max_width": null,
       "min_height": null,
       "min_width": null,
       "object_fit": null,
       "object_position": null,
       "order": null,
       "overflow": null,
       "overflow_x": null,
       "overflow_y": null,
       "padding": null,
       "right": null,
       "top": null,
       "visibility": null,
       "width": null
      }
     },
     "1150802181754552be312fa88815305b": {
      "model_module": "@jupyter-widgets/controls",
      "model_module_version": "1.5.0",
      "model_name": "DescriptionStyleModel",
      "state": {
       "_model_module": "@jupyter-widgets/controls",
       "_model_module_version": "1.5.0",
       "_model_name": "DescriptionStyleModel",
       "_view_count": null,
       "_view_module": "@jupyter-widgets/base",
       "_view_module_version": "1.2.0",
       "_view_name": "StyleView",
       "description_width": ""
      }
     },
     "17c497db55314635bae7b56f6573d054": {
      "model_module": "@jupyter-widgets/base",
      "model_module_version": "1.2.0",
      "model_name": "LayoutModel",
      "state": {
       "_model_module": "@jupyter-widgets/base",
       "_model_module_version": "1.2.0",
       "_model_name": "LayoutModel",
       "_view_count": null,
       "_view_module": "@jupyter-widgets/base",
       "_view_module_version": "1.2.0",
       "_view_name": "LayoutView",
       "align_content": null,
       "align_items": null,
       "align_self": null,
       "border": null,
       "bottom": null,
       "display": null,
       "flex": null,
       "flex_flow": null,
       "grid_area": null,
       "grid_auto_columns": null,
       "grid_auto_flow": null,
       "grid_auto_rows": null,
       "grid_column": null,
       "grid_gap": null,
       "grid_row": null,
       "grid_template_areas": null,
       "grid_template_columns": null,
       "grid_template_rows": null,
       "height": null,
       "justify_content": null,
       "justify_items": null,
       "left": null,
       "margin": null,
       "max_height": null,
       "max_width": null,
       "min_height": null,
       "min_width": null,
       "object_fit": null,
       "object_position": null,
       "order": null,
       "overflow": null,
       "overflow_x": null,
       "overflow_y": null,
       "padding": null,
       "right": null,
       "top": null,
       "visibility": null,
       "width": null
      }
     },
     "1994a9841ef54141bd15e53449bd4af3": {
      "model_module": "@jupyter-widgets/controls",
      "model_module_version": "1.5.0",
      "model_name": "DescriptionStyleModel",
      "state": {
       "_model_module": "@jupyter-widgets/controls",
       "_model_module_version": "1.5.0",
       "_model_name": "DescriptionStyleModel",
       "_view_count": null,
       "_view_module": "@jupyter-widgets/base",
       "_view_module_version": "1.2.0",
       "_view_name": "StyleView",
       "description_width": ""
      }
     },
     "2294b940f2f94a6983fbb588e626c04d": {
      "model_module": "@jupyter-widgets/controls",
      "model_module_version": "1.5.0",
      "model_name": "ProgressStyleModel",
      "state": {
       "_model_module": "@jupyter-widgets/controls",
       "_model_module_version": "1.5.0",
       "_model_name": "ProgressStyleModel",
       "_view_count": null,
       "_view_module": "@jupyter-widgets/base",
       "_view_module_version": "1.2.0",
       "_view_name": "StyleView",
       "bar_color": null,
       "description_width": ""
      }
     },
     "27222c19a220488cbafeb0e6b9449428": {
      "model_module": "@jupyter-widgets/base",
      "model_module_version": "1.2.0",
      "model_name": "LayoutModel",
      "state": {
       "_model_module": "@jupyter-widgets/base",
       "_model_module_version": "1.2.0",
       "_model_name": "LayoutModel",
       "_view_count": null,
       "_view_module": "@jupyter-widgets/base",
       "_view_module_version": "1.2.0",
       "_view_name": "LayoutView",
       "align_content": null,
       "align_items": null,
       "align_self": null,
       "border": null,
       "bottom": null,
       "display": null,
       "flex": null,
       "flex_flow": null,
       "grid_area": null,
       "grid_auto_columns": null,
       "grid_auto_flow": null,
       "grid_auto_rows": null,
       "grid_column": null,
       "grid_gap": null,
       "grid_row": null,
       "grid_template_areas": null,
       "grid_template_columns": null,
       "grid_template_rows": null,
       "height": null,
       "justify_content": null,
       "justify_items": null,
       "left": null,
       "margin": null,
       "max_height": null,
       "max_width": null,
       "min_height": null,
       "min_width": null,
       "object_fit": null,
       "object_position": null,
       "order": null,
       "overflow": null,
       "overflow_x": null,
       "overflow_y": null,
       "padding": null,
       "right": null,
       "top": null,
       "visibility": null,
       "width": null
      }
     },
     "27f694780e3f4d63af0c8f98172e4945": {
      "model_module": "@jupyter-widgets/base",
      "model_module_version": "1.2.0",
      "model_name": "LayoutModel",
      "state": {
       "_model_module": "@jupyter-widgets/base",
       "_model_module_version": "1.2.0",
       "_model_name": "LayoutModel",
       "_view_count": null,
       "_view_module": "@jupyter-widgets/base",
       "_view_module_version": "1.2.0",
       "_view_name": "LayoutView",
       "align_content": null,
       "align_items": null,
       "align_self": null,
       "border": null,
       "bottom": null,
       "display": null,
       "flex": null,
       "flex_flow": null,
       "grid_area": null,
       "grid_auto_columns": null,
       "grid_auto_flow": null,
       "grid_auto_rows": null,
       "grid_column": null,
       "grid_gap": null,
       "grid_row": null,
       "grid_template_areas": null,
       "grid_template_columns": null,
       "grid_template_rows": null,
       "height": null,
       "justify_content": null,
       "justify_items": null,
       "left": null,
       "margin": null,
       "max_height": null,
       "max_width": null,
       "min_height": null,
       "min_width": null,
       "object_fit": null,
       "object_position": null,
       "order": null,
       "overflow": null,
       "overflow_x": null,
       "overflow_y": null,
       "padding": null,
       "right": null,
       "top": null,
       "visibility": null,
       "width": null
      }
     },
     "29ab74298f484fe1ae66089cdb181be0": {
      "model_module": "@jupyter-widgets/controls",
      "model_module_version": "1.5.0",
      "model_name": "HTMLModel",
      "state": {
       "_dom_classes": [],
       "_model_module": "@jupyter-widgets/controls",
       "_model_module_version": "1.5.0",
       "_model_name": "HTMLModel",
       "_view_count": null,
       "_view_module": "@jupyter-widgets/controls",
       "_view_module_version": "1.5.0",
       "_view_name": "HTMLView",
       "description": "",
       "description_tooltip": null,
       "layout": "IPY_MODEL_826aa89ef1984c3b87c44a93707d8f5a",
       "placeholder": "​",
       "style": "IPY_MODEL_e7b5036465654501b022420f251cad51",
       "value": " 483/483 [00:00&lt;00:00, 16.9kB/s]"
      }
     },
     "2f27c1ecff8e4dafb40ead9cec4a4d63": {
      "model_module": "@jupyter-widgets/base",
      "model_module_version": "1.2.0",
      "model_name": "LayoutModel",
      "state": {
       "_model_module": "@jupyter-widgets/base",
       "_model_module_version": "1.2.0",
       "_model_name": "LayoutModel",
       "_view_count": null,
       "_view_module": "@jupyter-widgets/base",
       "_view_module_version": "1.2.0",
       "_view_name": "LayoutView",
       "align_content": null,
       "align_items": null,
       "align_self": null,
       "border": null,
       "bottom": null,
       "display": null,
       "flex": null,
       "flex_flow": null,
       "grid_area": null,
       "grid_auto_columns": null,
       "grid_auto_flow": null,
       "grid_auto_rows": null,
       "grid_column": null,
       "grid_gap": null,
       "grid_row": null,
       "grid_template_areas": null,
       "grid_template_columns": null,
       "grid_template_rows": null,
       "height": null,
       "justify_content": null,
       "justify_items": null,
       "left": null,
       "margin": null,
       "max_height": null,
       "max_width": null,
       "min_height": null,
       "min_width": null,
       "object_fit": null,
       "object_position": null,
       "order": null,
       "overflow": null,
       "overflow_x": null,
       "overflow_y": null,
       "padding": null,
       "right": null,
       "top": null,
       "visibility": null,
       "width": null
      }
     },
     "426d7b620216419980b95a76f45b42bb": {
      "model_module": "@jupyter-widgets/controls",
      "model_module_version": "1.5.0",
      "model_name": "ProgressStyleModel",
      "state": {
       "_model_module": "@jupyter-widgets/controls",
       "_model_module_version": "1.5.0",
       "_model_name": "ProgressStyleModel",
       "_view_count": null,
       "_view_module": "@jupyter-widgets/base",
       "_view_module_version": "1.2.0",
       "_view_name": "StyleView",
       "bar_color": null,
       "description_width": ""
      }
     },
     "4dc95f81057340b9bb4cd248c0f112d5": {
      "model_module": "@jupyter-widgets/base",
      "model_module_version": "1.2.0",
      "model_name": "LayoutModel",
      "state": {
       "_model_module": "@jupyter-widgets/base",
       "_model_module_version": "1.2.0",
       "_model_name": "LayoutModel",
       "_view_count": null,
       "_view_module": "@jupyter-widgets/base",
       "_view_module_version": "1.2.0",
       "_view_name": "LayoutView",
       "align_content": null,
       "align_items": null,
       "align_self": null,
       "border": null,
       "bottom": null,
       "display": null,
       "flex": null,
       "flex_flow": null,
       "grid_area": null,
       "grid_auto_columns": null,
       "grid_auto_flow": null,
       "grid_auto_rows": null,
       "grid_column": null,
       "grid_gap": null,
       "grid_row": null,
       "grid_template_areas": null,
       "grid_template_columns": null,
       "grid_template_rows": null,
       "height": null,
       "justify_content": null,
       "justify_items": null,
       "left": null,
       "margin": null,
       "max_height": null,
       "max_width": null,
       "min_height": null,
       "min_width": null,
       "object_fit": null,
       "object_position": null,
       "order": null,
       "overflow": null,
       "overflow_x": null,
       "overflow_y": null,
       "padding": null,
       "right": null,
       "top": null,
       "visibility": null,
       "width": null
      }
     },
     "52306d4c91804bfab0d59f4ad0af9ab6": {
      "model_module": "@jupyter-widgets/base",
      "model_module_version": "1.2.0",
      "model_name": "LayoutModel",
      "state": {
       "_model_module": "@jupyter-widgets/base",
       "_model_module_version": "1.2.0",
       "_model_name": "LayoutModel",
       "_view_count": null,
       "_view_module": "@jupyter-widgets/base",
       "_view_module_version": "1.2.0",
       "_view_name": "LayoutView",
       "align_content": null,
       "align_items": null,
       "align_self": null,
       "border": null,
       "bottom": null,
       "display": null,
       "flex": null,
       "flex_flow": null,
       "grid_area": null,
       "grid_auto_columns": null,
       "grid_auto_flow": null,
       "grid_auto_rows": null,
       "grid_column": null,
       "grid_gap": null,
       "grid_row": null,
       "grid_template_areas": null,
       "grid_template_columns": null,
       "grid_template_rows": null,
       "height": null,
       "justify_content": null,
       "justify_items": null,
       "left": null,
       "margin": null,
       "max_height": null,
       "max_width": null,
       "min_height": null,
       "min_width": null,
       "object_fit": null,
       "object_position": null,
       "order": null,
       "overflow": null,
       "overflow_x": null,
       "overflow_y": null,
       "padding": null,
       "right": null,
       "top": null,
       "visibility": null,
       "width": null
      }
     },
     "58fc6aa2f3184041885e5ebd713d80af": {
      "model_module": "@jupyter-widgets/controls",
      "model_module_version": "1.5.0",
      "model_name": "FloatProgressModel",
      "state": {
       "_dom_classes": [],
       "_model_module": "@jupyter-widgets/controls",
       "_model_module_version": "1.5.0",
       "_model_name": "FloatProgressModel",
       "_view_count": null,
       "_view_module": "@jupyter-widgets/controls",
       "_view_module_version": "1.5.0",
       "_view_name": "ProgressView",
       "bar_style": "success",
       "description": "",
       "description_tooltip": null,
       "layout": "IPY_MODEL_e7d7113502bd43c7826f6739a2fba296",
       "max": 231508,
       "min": 0,
       "orientation": "horizontal",
       "style": "IPY_MODEL_c90dd817b4d540db9cb278ea911938ed",
       "value": 231508
      }
     },
     "5dcbdeff6360488d8f8c6a0c1812e7da": {
      "model_module": "@jupyter-widgets/controls",
      "model_module_version": "1.5.0",
      "model_name": "DescriptionStyleModel",
      "state": {
       "_model_module": "@jupyter-widgets/controls",
       "_model_module_version": "1.5.0",
       "_model_name": "DescriptionStyleModel",
       "_view_count": null,
       "_view_module": "@jupyter-widgets/base",
       "_view_module_version": "1.2.0",
       "_view_name": "StyleView",
       "description_width": ""
      }
     },
     "7044a92e533a4fab9eca1d0c2d3f3fb0": {
      "model_module": "@jupyter-widgets/controls",
      "model_module_version": "1.5.0",
      "model_name": "DescriptionStyleModel",
      "state": {
       "_model_module": "@jupyter-widgets/controls",
       "_model_module_version": "1.5.0",
       "_model_name": "DescriptionStyleModel",
       "_view_count": null,
       "_view_module": "@jupyter-widgets/base",
       "_view_module_version": "1.2.0",
       "_view_name": "StyleView",
       "description_width": ""
      }
     },
     "785a86f573eb4a449bdb2863472362df": {
      "model_module": "@jupyter-widgets/controls",
      "model_module_version": "1.5.0",
      "model_name": "FloatProgressModel",
      "state": {
       "_dom_classes": [],
       "_model_module": "@jupyter-widgets/controls",
       "_model_module_version": "1.5.0",
       "_model_name": "FloatProgressModel",
       "_view_count": null,
       "_view_module": "@jupyter-widgets/controls",
       "_view_module_version": "1.5.0",
       "_view_name": "ProgressView",
       "bar_style": "success",
       "description": "",
       "description_tooltip": null,
       "layout": "IPY_MODEL_a06e7b970d444678839638f6c6629e84",
       "max": 483,
       "min": 0,
       "orientation": "horizontal",
       "style": "IPY_MODEL_2294b940f2f94a6983fbb588e626c04d",
       "value": 483
      }
     },
     "7af6ee9a94254dc8b3baae6f3e91fe62": {
      "model_module": "@jupyter-widgets/controls",
      "model_module_version": "1.5.0",
      "model_name": "ProgressStyleModel",
      "state": {
       "_model_module": "@jupyter-widgets/controls",
       "_model_module_version": "1.5.0",
       "_model_name": "ProgressStyleModel",
       "_view_count": null,
       "_view_module": "@jupyter-widgets/base",
       "_view_module_version": "1.2.0",
       "_view_name": "StyleView",
       "bar_color": null,
       "description_width": ""
      }
     },
     "7c201e9abebf4cf4ab21292ddbff6547": {
      "model_module": "@jupyter-widgets/controls",
      "model_module_version": "1.5.0",
      "model_name": "HBoxModel",
      "state": {
       "_dom_classes": [],
       "_model_module": "@jupyter-widgets/controls",
       "_model_module_version": "1.5.0",
       "_model_name": "HBoxModel",
       "_view_count": null,
       "_view_module": "@jupyter-widgets/controls",
       "_view_module_version": "1.5.0",
       "_view_name": "HBoxView",
       "box_style": "",
       "children": [
        "IPY_MODEL_fb52ac68241942fa80200023d56f474e",
        "IPY_MODEL_f26b2156381f4ec79a26293406a1503a",
        "IPY_MODEL_cc17b7c0970946dbb5657c23abbb9053"
       ],
       "layout": "IPY_MODEL_52306d4c91804bfab0d59f4ad0af9ab6"
      }
     },
     "826aa89ef1984c3b87c44a93707d8f5a": {
      "model_module": "@jupyter-widgets/base",
      "model_module_version": "1.2.0",
      "model_name": "LayoutModel",
      "state": {
       "_model_module": "@jupyter-widgets/base",
       "_model_module_version": "1.2.0",
       "_model_name": "LayoutModel",
       "_view_count": null,
       "_view_module": "@jupyter-widgets/base",
       "_view_module_version": "1.2.0",
       "_view_name": "LayoutView",
       "align_content": null,
       "align_items": null,
       "align_self": null,
       "border": null,
       "bottom": null,
       "display": null,
       "flex": null,
       "flex_flow": null,
       "grid_area": null,
       "grid_auto_columns": null,
       "grid_auto_flow": null,
       "grid_auto_rows": null,
       "grid_column": null,
       "grid_gap": null,
       "grid_row": null,
       "grid_template_areas": null,
       "grid_template_columns": null,
       "grid_template_rows": null,
       "height": null,
       "justify_content": null,
       "justify_items": null,
       "left": null,
       "margin": null,
       "max_height": null,
       "max_width": null,
       "min_height": null,
       "min_width": null,
       "object_fit": null,
       "object_position": null,
       "order": null,
       "overflow": null,
       "overflow_x": null,
       "overflow_y": null,
       "padding": null,
       "right": null,
       "top": null,
       "visibility": null,
       "width": null
      }
     },
     "91a2816978d84db098c47a0228b58292": {
      "model_module": "@jupyter-widgets/controls",
      "model_module_version": "1.5.0",
      "model_name": "HBoxModel",
      "state": {
       "_dom_classes": [],
       "_model_module": "@jupyter-widgets/controls",
       "_model_module_version": "1.5.0",
       "_model_name": "HBoxModel",
       "_view_count": null,
       "_view_module": "@jupyter-widgets/controls",
       "_view_module_version": "1.5.0",
       "_view_name": "HBoxView",
       "box_style": "",
       "children": [
        "IPY_MODEL_9f7c8336bc474db19423abf73d1d81b6",
        "IPY_MODEL_785a86f573eb4a449bdb2863472362df",
        "IPY_MODEL_29ab74298f484fe1ae66089cdb181be0"
       ],
       "layout": "IPY_MODEL_9e33d36e25c9402c8a1e1c5a65e4ac22"
      }
     },
     "94faa855c60d47808e3b660ab8ce0cda": {
      "model_module": "@jupyter-widgets/controls",
      "model_module_version": "1.5.0",
      "model_name": "HTMLModel",
      "state": {
       "_dom_classes": [],
       "_model_module": "@jupyter-widgets/controls",
       "_model_module_version": "1.5.0",
       "_model_name": "HTMLModel",
       "_view_count": null,
       "_view_module": "@jupyter-widgets/controls",
       "_view_module_version": "1.5.0",
       "_view_name": "HTMLView",
       "description": "",
       "description_tooltip": null,
       "layout": "IPY_MODEL_b26c23836c7e46a6a2a12a98dfef151a",
       "placeholder": "​",
       "style": "IPY_MODEL_1150802181754552be312fa88815305b",
       "value": "Downloading: 100%"
      }
     },
     "9e33d36e25c9402c8a1e1c5a65e4ac22": {
      "model_module": "@jupyter-widgets/base",
      "model_module_version": "1.2.0",
      "model_name": "LayoutModel",
      "state": {
       "_model_module": "@jupyter-widgets/base",
       "_model_module_version": "1.2.0",
       "_model_name": "LayoutModel",
       "_view_count": null,
       "_view_module": "@jupyter-widgets/base",
       "_view_module_version": "1.2.0",
       "_view_name": "LayoutView",
       "align_content": null,
       "align_items": null,
       "align_self": null,
       "border": null,
       "bottom": null,
       "display": null,
       "flex": null,
       "flex_flow": null,
       "grid_area": null,
       "grid_auto_columns": null,
       "grid_auto_flow": null,
       "grid_auto_rows": null,
       "grid_column": null,
       "grid_gap": null,
       "grid_row": null,
       "grid_template_areas": null,
       "grid_template_columns": null,
       "grid_template_rows": null,
       "height": null,
       "justify_content": null,
       "justify_items": null,
       "left": null,
       "margin": null,
       "max_height": null,
       "max_width": null,
       "min_height": null,
       "min_width": null,
       "object_fit": null,
       "object_position": null,
       "order": null,
       "overflow": null,
       "overflow_x": null,
       "overflow_y": null,
       "padding": null,
       "right": null,
       "top": null,
       "visibility": null,
       "width": null
      }
     },
     "9f7c8336bc474db19423abf73d1d81b6": {
      "model_module": "@jupyter-widgets/controls",
      "model_module_version": "1.5.0",
      "model_name": "HTMLModel",
      "state": {
       "_dom_classes": [],
       "_model_module": "@jupyter-widgets/controls",
       "_model_module_version": "1.5.0",
       "_model_name": "HTMLModel",
       "_view_count": null,
       "_view_module": "@jupyter-widgets/controls",
       "_view_module_version": "1.5.0",
       "_view_name": "HTMLView",
       "description": "",
       "description_tooltip": null,
       "layout": "IPY_MODEL_02b2110a1e28430ebf2b2bca9a4f332b",
       "placeholder": "​",
       "style": "IPY_MODEL_c4a6c18c62114edcb1047bad5cc4f4d6",
       "value": "Downloading: 100%"
      }
     },
     "a06e7b970d444678839638f6c6629e84": {
      "model_module": "@jupyter-widgets/base",
      "model_module_version": "1.2.0",
      "model_name": "LayoutModel",
      "state": {
       "_model_module": "@jupyter-widgets/base",
       "_model_module_version": "1.2.0",
       "_model_name": "LayoutModel",
       "_view_count": null,
       "_view_module": "@jupyter-widgets/base",
       "_view_module_version": "1.2.0",
       "_view_name": "LayoutView",
       "align_content": null,
       "align_items": null,
       "align_self": null,
       "border": null,
       "bottom": null,
       "display": null,
       "flex": null,
       "flex_flow": null,
       "grid_area": null,
       "grid_auto_columns": null,
       "grid_auto_flow": null,
       "grid_auto_rows": null,
       "grid_column": null,
       "grid_gap": null,
       "grid_row": null,
       "grid_template_areas": null,
       "grid_template_columns": null,
       "grid_template_rows": null,
       "height": null,
       "justify_content": null,
       "justify_items": null,
       "left": null,
       "margin": null,
       "max_height": null,
       "max_width": null,
       "min_height": null,
       "min_width": null,
       "object_fit": null,
       "object_position": null,
       "order": null,
       "overflow": null,
       "overflow_x": null,
       "overflow_y": null,
       "padding": null,
       "right": null,
       "top": null,
       "visibility": null,
       "width": null
      }
     },
     "b095ee5fa6e648a184650e1b0138824a": {
      "model_module": "@jupyter-widgets/controls",
      "model_module_version": "1.5.0",
      "model_name": "DescriptionStyleModel",
      "state": {
       "_model_module": "@jupyter-widgets/controls",
       "_model_module_version": "1.5.0",
       "_model_name": "DescriptionStyleModel",
       "_view_count": null,
       "_view_module": "@jupyter-widgets/base",
       "_view_module_version": "1.2.0",
       "_view_name": "StyleView",
       "description_width": ""
      }
     },
     "b26c23836c7e46a6a2a12a98dfef151a": {
      "model_module": "@jupyter-widgets/base",
      "model_module_version": "1.2.0",
      "model_name": "LayoutModel",
      "state": {
       "_model_module": "@jupyter-widgets/base",
       "_model_module_version": "1.2.0",
       "_model_name": "LayoutModel",
       "_view_count": null,
       "_view_module": "@jupyter-widgets/base",
       "_view_module_version": "1.2.0",
       "_view_name": "LayoutView",
       "align_content": null,
       "align_items": null,
       "align_self": null,
       "border": null,
       "bottom": null,
       "display": null,
       "flex": null,
       "flex_flow": null,
       "grid_area": null,
       "grid_auto_columns": null,
       "grid_auto_flow": null,
       "grid_auto_rows": null,
       "grid_column": null,
       "grid_gap": null,
       "grid_row": null,
       "grid_template_areas": null,
       "grid_template_columns": null,
       "grid_template_rows": null,
       "height": null,
       "justify_content": null,
       "justify_items": null,
       "left": null,
       "margin": null,
       "max_height": null,
       "max_width": null,
       "min_height": null,
       "min_width": null,
       "object_fit": null,
       "object_position": null,
       "order": null,
       "overflow": null,
       "overflow_x": null,
       "overflow_y": null,
       "padding": null,
       "right": null,
       "top": null,
       "visibility": null,
       "width": null
      }
     },
     "b60511119028493f8778725fab927cda": {
      "model_module": "@jupyter-widgets/controls",
      "model_module_version": "1.5.0",
      "model_name": "FloatProgressModel",
      "state": {
       "_dom_classes": [],
       "_model_module": "@jupyter-widgets/controls",
       "_model_module_version": "1.5.0",
       "_model_name": "FloatProgressModel",
       "_view_count": null,
       "_view_module": "@jupyter-widgets/controls",
       "_view_module_version": "1.5.0",
       "_view_name": "ProgressView",
       "bar_style": "success",
       "description": "",
       "description_tooltip": null,
       "layout": "IPY_MODEL_df99dc6ca98f4f1e8f7cf1f6d497b3c5",
       "max": 28,
       "min": 0,
       "orientation": "horizontal",
       "style": "IPY_MODEL_7af6ee9a94254dc8b3baae6f3e91fe62",
       "value": 28
      }
     },
     "c4a6c18c62114edcb1047bad5cc4f4d6": {
      "model_module": "@jupyter-widgets/controls",
      "model_module_version": "1.5.0",
      "model_name": "DescriptionStyleModel",
      "state": {
       "_model_module": "@jupyter-widgets/controls",
       "_model_module_version": "1.5.0",
       "_model_name": "DescriptionStyleModel",
       "_view_count": null,
       "_view_module": "@jupyter-widgets/base",
       "_view_module_version": "1.2.0",
       "_view_name": "StyleView",
       "description_width": ""
      }
     },
     "c87aacb634634e0eab88aeda78c091a5": {
      "model_module": "@jupyter-widgets/controls",
      "model_module_version": "1.5.0",
      "model_name": "HTMLModel",
      "state": {
       "_dom_classes": [],
       "_model_module": "@jupyter-widgets/controls",
       "_model_module_version": "1.5.0",
       "_model_name": "HTMLModel",
       "_view_count": null,
       "_view_module": "@jupyter-widgets/controls",
       "_view_module_version": "1.5.0",
       "_view_name": "HTMLView",
       "description": "",
       "description_tooltip": null,
       "layout": "IPY_MODEL_db5c997d17394052824ba3a1aed41d06",
       "placeholder": "​",
       "style": "IPY_MODEL_1994a9841ef54141bd15e53449bd4af3",
       "value": " 28.0/28.0 [00:00&lt;00:00, 937B/s]"
      }
     },
     "c90dd817b4d540db9cb278ea911938ed": {
      "model_module": "@jupyter-widgets/controls",
      "model_module_version": "1.5.0",
      "model_name": "ProgressStyleModel",
      "state": {
       "_model_module": "@jupyter-widgets/controls",
       "_model_module_version": "1.5.0",
       "_model_name": "ProgressStyleModel",
       "_view_count": null,
       "_view_module": "@jupyter-widgets/base",
       "_view_module_version": "1.2.0",
       "_view_name": "StyleView",
       "bar_color": null,
       "description_width": ""
      }
     },
     "cabc058ce9884f889fe6eb38605dd802": {
      "model_module": "@jupyter-widgets/controls",
      "model_module_version": "1.5.0",
      "model_name": "HBoxModel",
      "state": {
       "_dom_classes": [],
       "_model_module": "@jupyter-widgets/controls",
       "_model_module_version": "1.5.0",
       "_model_name": "HBoxModel",
       "_view_count": null,
       "_view_module": "@jupyter-widgets/controls",
       "_view_module_version": "1.5.0",
       "_view_name": "HBoxView",
       "box_style": "",
       "children": [
        "IPY_MODEL_f7ce049b24f34c0bb1bedc5a4c8e9d18",
        "IPY_MODEL_58fc6aa2f3184041885e5ebd713d80af",
        "IPY_MODEL_e629e3f18f6b4f3b8c68b76e120733eb"
       ],
       "layout": "IPY_MODEL_4dc95f81057340b9bb4cd248c0f112d5"
      }
     },
     "cc17b7c0970946dbb5657c23abbb9053": {
      "model_module": "@jupyter-widgets/controls",
      "model_module_version": "1.5.0",
      "model_name": "HTMLModel",
      "state": {
       "_dom_classes": [],
       "_model_module": "@jupyter-widgets/controls",
       "_model_module_version": "1.5.0",
       "_model_name": "HTMLModel",
       "_view_count": null,
       "_view_module": "@jupyter-widgets/controls",
       "_view_module_version": "1.5.0",
       "_view_name": "HTMLView",
       "description": "",
       "description_tooltip": null,
       "layout": "IPY_MODEL_27f694780e3f4d63af0c8f98172e4945",
       "placeholder": "​",
       "style": "IPY_MODEL_7044a92e533a4fab9eca1d0c2d3f3fb0",
       "value": " 455k/455k [00:00&lt;00:00, 802kB/s]"
      }
     },
     "cca1bf2058734e109465c13b3590e15e": {
      "model_module": "@jupyter-widgets/controls",
      "model_module_version": "1.5.0",
      "model_name": "DescriptionStyleModel",
      "state": {
       "_model_module": "@jupyter-widgets/controls",
       "_model_module_version": "1.5.0",
       "_model_name": "DescriptionStyleModel",
       "_view_count": null,
       "_view_module": "@jupyter-widgets/base",
       "_view_module_version": "1.2.0",
       "_view_name": "StyleView",
       "description_width": ""
      }
     },
     "d789389dde1a420dad29d004160d4bf1": {
      "model_module": "@jupyter-widgets/base",
      "model_module_version": "1.2.0",
      "model_name": "LayoutModel",
      "state": {
       "_model_module": "@jupyter-widgets/base",
       "_model_module_version": "1.2.0",
       "_model_name": "LayoutModel",
       "_view_count": null,
       "_view_module": "@jupyter-widgets/base",
       "_view_module_version": "1.2.0",
       "_view_name": "LayoutView",
       "align_content": null,
       "align_items": null,
       "align_self": null,
       "border": null,
       "bottom": null,
       "display": null,
       "flex": null,
       "flex_flow": null,
       "grid_area": null,
       "grid_auto_columns": null,
       "grid_auto_flow": null,
       "grid_auto_rows": null,
       "grid_column": null,
       "grid_gap": null,
       "grid_row": null,
       "grid_template_areas": null,
       "grid_template_columns": null,
       "grid_template_rows": null,
       "height": null,
       "justify_content": null,
       "justify_items": null,
       "left": null,
       "margin": null,
       "max_height": null,
       "max_width": null,
       "min_height": null,
       "min_width": null,
       "object_fit": null,
       "object_position": null,
       "order": null,
       "overflow": null,
       "overflow_x": null,
       "overflow_y": null,
       "padding": null,
       "right": null,
       "top": null,
       "visibility": null,
       "width": null
      }
     },
     "db5c997d17394052824ba3a1aed41d06": {
      "model_module": "@jupyter-widgets/base",
      "model_module_version": "1.2.0",
      "model_name": "LayoutModel",
      "state": {
       "_model_module": "@jupyter-widgets/base",
       "_model_module_version": "1.2.0",
       "_model_name": "LayoutModel",
       "_view_count": null,
       "_view_module": "@jupyter-widgets/base",
       "_view_module_version": "1.2.0",
       "_view_name": "LayoutView",
       "align_content": null,
       "align_items": null,
       "align_self": null,
       "border": null,
       "bottom": null,
       "display": null,
       "flex": null,
       "flex_flow": null,
       "grid_area": null,
       "grid_auto_columns": null,
       "grid_auto_flow": null,
       "grid_auto_rows": null,
       "grid_column": null,
       "grid_gap": null,
       "grid_row": null,
       "grid_template_areas": null,
       "grid_template_columns": null,
       "grid_template_rows": null,
       "height": null,
       "justify_content": null,
       "justify_items": null,
       "left": null,
       "margin": null,
       "max_height": null,
       "max_width": null,
       "min_height": null,
       "min_width": null,
       "object_fit": null,
       "object_position": null,
       "order": null,
       "overflow": null,
       "overflow_x": null,
       "overflow_y": null,
       "padding": null,
       "right": null,
       "top": null,
       "visibility": null,
       "width": null
      }
     },
     "df99dc6ca98f4f1e8f7cf1f6d497b3c5": {
      "model_module": "@jupyter-widgets/base",
      "model_module_version": "1.2.0",
      "model_name": "LayoutModel",
      "state": {
       "_model_module": "@jupyter-widgets/base",
       "_model_module_version": "1.2.0",
       "_model_name": "LayoutModel",
       "_view_count": null,
       "_view_module": "@jupyter-widgets/base",
       "_view_module_version": "1.2.0",
       "_view_name": "LayoutView",
       "align_content": null,
       "align_items": null,
       "align_self": null,
       "border": null,
       "bottom": null,
       "display": null,
       "flex": null,
       "flex_flow": null,
       "grid_area": null,
       "grid_auto_columns": null,
       "grid_auto_flow": null,
       "grid_auto_rows": null,
       "grid_column": null,
       "grid_gap": null,
       "grid_row": null,
       "grid_template_areas": null,
       "grid_template_columns": null,
       "grid_template_rows": null,
       "height": null,
       "justify_content": null,
       "justify_items": null,
       "left": null,
       "margin": null,
       "max_height": null,
       "max_width": null,
       "min_height": null,
       "min_width": null,
       "object_fit": null,
       "object_position": null,
       "order": null,
       "overflow": null,
       "overflow_x": null,
       "overflow_y": null,
       "padding": null,
       "right": null,
       "top": null,
       "visibility": null,
       "width": null
      }
     },
     "e629e3f18f6b4f3b8c68b76e120733eb": {
      "model_module": "@jupyter-widgets/controls",
      "model_module_version": "1.5.0",
      "model_name": "HTMLModel",
      "state": {
       "_dom_classes": [],
       "_model_module": "@jupyter-widgets/controls",
       "_model_module_version": "1.5.0",
       "_model_name": "HTMLModel",
       "_view_count": null,
       "_view_module": "@jupyter-widgets/controls",
       "_view_module_version": "1.5.0",
       "_view_name": "HTMLView",
       "description": "",
       "description_tooltip": null,
       "layout": "IPY_MODEL_0b533ae43e12468aaa1015c1a32d38e7",
       "placeholder": "​",
       "style": "IPY_MODEL_5dcbdeff6360488d8f8c6a0c1812e7da",
       "value": " 226k/226k [00:00&lt;00:00, 628kB/s]"
      }
     },
     "e7b5036465654501b022420f251cad51": {
      "model_module": "@jupyter-widgets/controls",
      "model_module_version": "1.5.0",
      "model_name": "DescriptionStyleModel",
      "state": {
       "_model_module": "@jupyter-widgets/controls",
       "_model_module_version": "1.5.0",
       "_model_name": "DescriptionStyleModel",
       "_view_count": null,
       "_view_module": "@jupyter-widgets/base",
       "_view_module_version": "1.2.0",
       "_view_name": "StyleView",
       "description_width": ""
      }
     },
     "e7d7113502bd43c7826f6739a2fba296": {
      "model_module": "@jupyter-widgets/base",
      "model_module_version": "1.2.0",
      "model_name": "LayoutModel",
      "state": {
       "_model_module": "@jupyter-widgets/base",
       "_model_module_version": "1.2.0",
       "_model_name": "LayoutModel",
       "_view_count": null,
       "_view_module": "@jupyter-widgets/base",
       "_view_module_version": "1.2.0",
       "_view_name": "LayoutView",
       "align_content": null,
       "align_items": null,
       "align_self": null,
       "border": null,
       "bottom": null,
       "display": null,
       "flex": null,
       "flex_flow": null,
       "grid_area": null,
       "grid_auto_columns": null,
       "grid_auto_flow": null,
       "grid_auto_rows": null,
       "grid_column": null,
       "grid_gap": null,
       "grid_row": null,
       "grid_template_areas": null,
       "grid_template_columns": null,
       "grid_template_rows": null,
       "height": null,
       "justify_content": null,
       "justify_items": null,
       "left": null,
       "margin": null,
       "max_height": null,
       "max_width": null,
       "min_height": null,
       "min_width": null,
       "object_fit": null,
       "object_position": null,
       "order": null,
       "overflow": null,
       "overflow_x": null,
       "overflow_y": null,
       "padding": null,
       "right": null,
       "top": null,
       "visibility": null,
       "width": null
      }
     },
     "f26b2156381f4ec79a26293406a1503a": {
      "model_module": "@jupyter-widgets/controls",
      "model_module_version": "1.5.0",
      "model_name": "FloatProgressModel",
      "state": {
       "_dom_classes": [],
       "_model_module": "@jupyter-widgets/controls",
       "_model_module_version": "1.5.0",
       "_model_name": "FloatProgressModel",
       "_view_count": null,
       "_view_module": "@jupyter-widgets/controls",
       "_view_module_version": "1.5.0",
       "_view_name": "ProgressView",
       "bar_style": "success",
       "description": "",
       "description_tooltip": null,
       "layout": "IPY_MODEL_2f27c1ecff8e4dafb40ead9cec4a4d63",
       "max": 466062,
       "min": 0,
       "orientation": "horizontal",
       "style": "IPY_MODEL_426d7b620216419980b95a76f45b42bb",
       "value": 466062
      }
     },
     "f7ce049b24f34c0bb1bedc5a4c8e9d18": {
      "model_module": "@jupyter-widgets/controls",
      "model_module_version": "1.5.0",
      "model_name": "HTMLModel",
      "state": {
       "_dom_classes": [],
       "_model_module": "@jupyter-widgets/controls",
       "_model_module_version": "1.5.0",
       "_model_name": "HTMLModel",
       "_view_count": null,
       "_view_module": "@jupyter-widgets/controls",
       "_view_module_version": "1.5.0",
       "_view_name": "HTMLView",
       "description": "",
       "description_tooltip": null,
       "layout": "IPY_MODEL_27222c19a220488cbafeb0e6b9449428",
       "placeholder": "​",
       "style": "IPY_MODEL_b095ee5fa6e648a184650e1b0138824a",
       "value": "Downloading: 100%"
      }
     },
     "fb52ac68241942fa80200023d56f474e": {
      "model_module": "@jupyter-widgets/controls",
      "model_module_version": "1.5.0",
      "model_name": "HTMLModel",
      "state": {
       "_dom_classes": [],
       "_model_module": "@jupyter-widgets/controls",
       "_model_module_version": "1.5.0",
       "_model_name": "HTMLModel",
       "_view_count": null,
       "_view_module": "@jupyter-widgets/controls",
       "_view_module_version": "1.5.0",
       "_view_name": "HTMLView",
       "description": "",
       "description_tooltip": null,
       "layout": "IPY_MODEL_17c497db55314635bae7b56f6573d054",
       "placeholder": "​",
       "style": "IPY_MODEL_cca1bf2058734e109465c13b3590e15e",
       "value": "Downloading: 100%"
      }
     }
    },
    "version_major": 2,
    "version_minor": 0
   }
  }
 },
 "nbformat": 4,
 "nbformat_minor": 5
}
