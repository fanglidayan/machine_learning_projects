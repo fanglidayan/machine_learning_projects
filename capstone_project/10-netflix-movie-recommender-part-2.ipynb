{
 "cells": [
  {
   "cell_type": "markdown",
   "id": "f3b6fb04",
   "metadata": {
    "gradient": {
     "editing": false,
     "id": "f3b6fb04",
     "kernelId": "7d55c202-2481-41c4-8ec7-bc129758b225"
    },
    "papermill": {
     "duration": 0.024679,
     "end_time": "2021-12-29T18:44:25.308200",
     "exception": false,
     "start_time": "2021-12-29T18:44:25.283521",
     "status": "completed"
    },
    "tags": []
   },
   "source": [
    "# In part 2 of the project, we're trying to build a collaborative-filtering based movie recommender by following the matrix factorization approach. We will subtract the weighted average movie ratings from the actual ratings so that for a new user (or a user who hasn't rated any movies) the predicted rating will be the weighted avergae movie ratings instead of zero. At the end we will evaluate our model with RMSE, MAE and Mean Average Precision. The result will be compared to the global recommender baseline."
   ]
  },
  {
   "cell_type": "markdown",
   "id": "37d508fc",
   "metadata": {
    "gradient": {
     "editing": false,
     "id": "37d508fc",
     "kernelId": "7d55c202-2481-41c4-8ec7-bc129758b225"
    },
    "papermill": {
     "duration": 0.023668,
     "end_time": "2021-12-29T18:44:25.356514",
     "exception": false,
     "start_time": "2021-12-29T18:44:25.332846",
     "status": "completed"
    },
    "tags": []
   },
   "source": [
    "## import dependencies"
   ]
  },
  {
   "cell_type": "code",
   "execution_count": null,
   "id": "36540fd2",
   "metadata": {
    "execution": {
     "iopub.execute_input": "2021-12-29T18:44:25.416488Z",
     "iopub.status.busy": "2021-12-29T18:44:25.415707Z",
     "iopub.status.idle": "2021-12-29T18:44:30.987616Z",
     "shell.execute_reply": "2021-12-29T18:44:30.986977Z",
     "shell.execute_reply.started": "2021-12-29T14:40:13.857823Z"
    },
    "gradient": {
     "editing": false,
     "execution_count": 1,
     "id": "36540fd2",
     "kernelId": "7d55c202-2481-41c4-8ec7-bc129758b225"
    },
    "papermill": {
     "duration": 5.607758,
     "end_time": "2021-12-29T18:44:30.987784",
     "exception": false,
     "start_time": "2021-12-29T18:44:25.380026",
     "status": "completed"
    },
    "tags": []
   },
   "outputs": [],
   "source": [
    "import time\n",
    "import gc\n",
    "import pickle\n",
    "import pandas as pd\n",
    "import numpy as np\n",
    "import matplotlib.pyplot as plt\n",
    "import seaborn as sns\n",
    "from sklearn.metrics import mean_squared_error, mean_absolute_error\n",
    "from sklearn.metrics.pairwise import cosine_similarity\n",
    "import tensorflow as tf\n",
    "import keras\n",
    "from tensorflow.keras.layers import Input, Embedding, Reshape, Dot, Concatenate, Dense, Dropout\n",
    "from tensorflow.keras.models import Model"
   ]
  },
  {
   "cell_type": "markdown",
   "id": "5add4576",
   "metadata": {
    "gradient": {
     "editing": false,
     "id": "5add4576",
     "kernelId": "7d55c202-2481-41c4-8ec7-bc129758b225"
    },
    "papermill": {
     "duration": 0.025485,
     "end_time": "2021-12-29T18:44:31.038207",
     "exception": false,
     "start_time": "2021-12-29T18:44:31.012722",
     "status": "completed"
    },
    "tags": []
   },
   "source": [
    "## load output of Part 1"
   ]
  },
  {
   "cell_type": "markdown",
   "id": "79e63263",
   "metadata": {
    "gradient": {
     "editing": false,
     "id": "79e63263",
     "kernelId": "7d55c202-2481-41c4-8ec7-bc129758b225"
    },
    "papermill": {
     "duration": 0.023483,
     "end_time": "2021-12-29T18:44:31.085057",
     "exception": false,
     "start_time": "2021-12-29T18:44:31.061574",
     "status": "completed"
    },
    "tags": []
   },
   "source": [
    "### load lists"
   ]
  },
  {
   "cell_type": "code",
   "execution_count": null,
   "id": "08c8b202",
   "metadata": {
    "_cell_guid": "b1076dfc-b9ad-4769-8c92-a6c4dae69d19",
    "_uuid": "8f2839f25d086af736a60e9eeb907d3b93b6e0e5",
    "execution": {
     "iopub.execute_input": "2021-12-29T18:44:31.140315Z",
     "iopub.status.busy": "2021-12-29T18:44:31.139637Z",
     "iopub.status.idle": "2021-12-29T18:44:47.538074Z",
     "shell.execute_reply": "2021-12-29T18:44:47.537142Z",
     "shell.execute_reply.started": "2021-12-29T14:40:21.262435Z"
    },
    "gradient": {
     "editing": false,
     "execution_count": 2,
     "id": "08c8b202",
     "kernelId": "7d55c202-2481-41c4-8ec7-bc129758b225"
    },
    "papermill": {
     "duration": 16.429747,
     "end_time": "2021-12-29T18:44:47.538252",
     "exception": false,
     "start_time": "2021-12-29T18:44:31.108505",
     "status": "completed"
    },
    "tags": []
   },
   "outputs": [],
   "source": [
    "with open('test_user_ids_list.txt', 'rb') as fp:\n",
    "    test_user_ids_list=pickle.load(fp)\n",
    "    \n",
    "with open('test_movie_ids_list.txt', 'rb') as fp:\n",
    "    test_movie_ids_list=pickle.load(fp)\n",
    "    \n",
    "with open('train_movie_ids_list.txt', 'rb') as fp:\n",
    "    train_movie_ids_list=pickle.load(fp)\n",
    "    \n",
    "with open('train_movie_average_ratings_list.txt', 'rb') as fp:\n",
    "    train_movie_average_ratings_list=pickle.load(fp)"
   ]
  },
  {
   "cell_type": "markdown",
   "id": "0ed043ce",
   "metadata": {
    "gradient": {
     "editing": false,
     "id": "0ed043ce",
     "kernelId": "7d55c202-2481-41c4-8ec7-bc129758b225"
    },
    "papermill": {
     "duration": 0.023168,
     "end_time": "2021-12-29T18:44:47.587716",
     "exception": false,
     "start_time": "2021-12-29T18:44:47.564548",
     "status": "completed"
    },
    "tags": []
   },
   "source": [
    "### convert list to dictionaries"
   ]
  },
  {
   "cell_type": "code",
   "execution_count": null,
   "id": "a01032e4",
   "metadata": {
    "execution": {
     "iopub.execute_input": "2021-12-29T18:44:47.700589Z",
     "iopub.status.busy": "2021-12-29T18:44:47.690507Z",
     "iopub.status.idle": "2021-12-29T18:44:48.148971Z",
     "shell.execute_reply": "2021-12-29T18:44:48.148479Z",
     "shell.execute_reply.started": "2021-12-29T14:40:41.374227Z"
    },
    "gradient": {
     "editing": false,
     "execution_count": 3,
     "id": "a01032e4",
     "kernelId": "7d55c202-2481-41c4-8ec7-bc129758b225"
    },
    "papermill": {
     "duration": 0.53787,
     "end_time": "2021-12-29T18:44:48.149112",
     "exception": false,
     "start_time": "2021-12-29T18:44:47.611242",
     "status": "completed"
    },
    "tags": []
   },
   "outputs": [],
   "source": [
    "# {user_id_1: True, user_id_2: True, ...}\n",
    "test_user_ids={}\n",
    "# {user_id_1: [movie_id_1, movie_id_2, ...], ...}\n",
    "train_movie_ids={}\n",
    "# {user_id_1: rating_1, user_id_2: rating_2, ...}\n",
    "train_movie_average_ratings={}\n",
    "\n",
    "for ele in test_user_ids_list:\n",
    "    test_user_ids[ele]=True\n",
    "    \n",
    "for ele in train_movie_ids_list:\n",
    "    train_movie_ids[ele[0]]=ele[1]\n",
    "    \n",
    "for ele in train_movie_average_ratings_list:\n",
    "    train_movie_average_ratings[ele[0]]=ele[1]\n",
    "\n",
    "# {user_id_1: [movie_id_3, ...], ...} \n",
    "# the number of users in test_movie_ids is smaller than total number of users in the test set\n",
    "# because some users in the test set give all ratings as negative (lower than average in train set)\n",
    "test_movie_ids={}\n",
    "\n",
    "for ele in test_movie_ids_list:\n",
    "    test_movie_ids[ele[0]]=ele[1]\n",
    "\n",
    "del test_movie_ids_list, test_user_ids_list, train_movie_average_ratings_list, train_movie_ids_list"
   ]
  },
  {
   "cell_type": "code",
   "execution_count": null,
   "id": "1d2412cc",
   "metadata": {
    "execution": {
     "iopub.execute_input": "2021-12-29T18:44:48.203783Z",
     "iopub.status.busy": "2021-12-29T18:44:48.202921Z",
     "iopub.status.idle": "2021-12-29T18:44:48.206525Z",
     "shell.execute_reply": "2021-12-29T18:44:48.206929Z",
     "shell.execute_reply.started": "2021-12-29T14:40:41.981724Z"
    },
    "gradient": {
     "editing": false,
     "execution_count": 4,
     "id": "1d2412cc",
     "kernelId": "7d55c202-2481-41c4-8ec7-bc129758b225"
    },
    "papermill": {
     "duration": 0.034212,
     "end_time": "2021-12-29T18:44:48.207068",
     "exception": false,
     "start_time": "2021-12-29T18:44:48.172856",
     "status": "completed"
    },
    "tags": []
   },
   "outputs": [
    {
     "data": {
      "text/plain": [
       "(66852, 42001, 66852, 66852)"
      ]
     },
     "execution_count": 4,
     "metadata": {},
     "output_type": "execute_result"
    }
   ],
   "source": [
    "len(test_user_ids), len(test_movie_ids), len(train_movie_average_ratings), len(train_movie_ids)"
   ]
  },
  {
   "cell_type": "markdown",
   "id": "cd750b39",
   "metadata": {
    "gradient": {
     "editing": false,
     "id": "cd750b39",
     "kernelId": "7d55c202-2481-41c4-8ec7-bc129758b225"
    },
    "papermill": {
     "duration": 0.023671,
     "end_time": "2021-12-29T18:44:48.255682",
     "exception": false,
     "start_time": "2021-12-29T18:44:48.232011",
     "status": "completed"
    },
    "tags": []
   },
   "source": [
    "### load dataframes"
   ]
  },
  {
   "cell_type": "code",
   "execution_count": null,
   "id": "10aa97b8",
   "metadata": {
    "execution": {
     "iopub.execute_input": "2021-12-29T18:44:48.308979Z",
     "iopub.status.busy": "2021-12-29T18:44:48.305890Z",
     "iopub.status.idle": "2021-12-29T18:45:00.408600Z",
     "shell.execute_reply": "2021-12-29T18:45:00.408032Z",
     "shell.execute_reply.started": "2021-12-29T14:40:41.993294Z"
    },
    "gradient": {
     "editing": false,
     "execution_count": 5,
     "id": "10aa97b8",
     "kernelId": "7d55c202-2481-41c4-8ec7-bc129758b225"
    },
    "papermill": {
     "duration": 12.129044,
     "end_time": "2021-12-29T18:45:00.408752",
     "exception": false,
     "start_time": "2021-12-29T18:44:48.279708",
     "status": "completed"
    },
    "tags": []
   },
   "outputs": [],
   "source": [
    "df_train=pd.read_pickle(\"df_train.pkl\")\n",
    "df_test=pd.read_pickle(\"df_test.pkl\")\n",
    "df_val=pd.read_pickle(\"df_val.pkl\")\n",
    "combined_df=pd.read_pickle(\"combined_df.pkl\")"
   ]
  },
  {
   "cell_type": "markdown",
   "id": "9fc0fbba",
   "metadata": {
    "execution": {
     "iopub.execute_input": "2021-12-19T21:43:22.56121Z",
     "iopub.status.busy": "2021-12-19T21:43:22.56083Z",
     "iopub.status.idle": "2021-12-19T21:43:22.594011Z",
     "shell.execute_reply": "2021-12-19T21:43:22.593463Z",
     "shell.execute_reply.started": "2021-12-19T21:43:22.561181Z"
    },
    "gradient": {
     "editing": false,
     "id": "9fc0fbba",
     "kernelId": "7d55c202-2481-41c4-8ec7-bc129758b225"
    },
    "papermill": {
     "duration": 0.026632,
     "end_time": "2021-12-29T18:45:00.463375",
     "exception": false,
     "start_time": "2021-12-29T18:45:00.436743",
     "status": "completed"
    },
    "tags": []
   },
   "source": [
    "## preparation for the collaborative filtering model"
   ]
  },
  {
   "cell_type": "code",
   "execution_count": null,
   "id": "00875f82",
   "metadata": {
    "execution": {
     "iopub.execute_input": "2021-12-29T18:45:00.532837Z",
     "iopub.status.busy": "2021-12-29T18:45:00.525628Z",
     "iopub.status.idle": "2021-12-29T18:45:08.572193Z",
     "shell.execute_reply": "2021-12-29T18:45:08.571647Z",
     "shell.execute_reply.started": "2021-12-29T14:40:56.001054Z"
    },
    "gradient": {
     "editing": false,
     "execution_count": 6,
     "id": "00875f82",
     "kernelId": "7d55c202-2481-41c4-8ec7-bc129758b225"
    },
    "papermill": {
     "duration": 8.083477,
     "end_time": "2021-12-29T18:45:08.572389",
     "exception": false,
     "start_time": "2021-12-29T18:45:00.488912",
     "status": "completed"
    },
    "tags": []
   },
   "outputs": [],
   "source": [
    "# Create user and movie-id mapping to convert to numbers\n",
    "user_id_mapping = {id:i for i, id in enumerate(df_train['User'].unique())}\n",
    "movie_id_mapping = {id:i for i, id in enumerate(df_train['Movie'].unique())}"
   ]
  },
  {
   "cell_type": "code",
   "execution_count": null,
   "id": "c1be9c0f",
   "metadata": {
    "execution": {
     "iopub.execute_input": "2021-12-29T18:45:08.666375Z",
     "iopub.status.busy": "2021-12-29T18:45:08.623216Z",
     "iopub.status.idle": "2021-12-29T18:45:18.680501Z",
     "shell.execute_reply": "2021-12-29T18:45:18.679974Z",
     "shell.execute_reply.started": "2021-12-29T14:41:06.143544Z"
    },
    "gradient": {
     "editing": false,
     "execution_count": 7,
     "id": "c1be9c0f",
     "kernelId": "7d55c202-2481-41c4-8ec7-bc129758b225"
    },
    "papermill": {
     "duration": 10.083901,
     "end_time": "2021-12-29T18:45:18.680652",
     "exception": false,
     "start_time": "2021-12-29T18:45:08.596751",
     "status": "completed"
    },
    "tags": []
   },
   "outputs": [],
   "source": [
    "# use dataframe map function to map users & movies to mapped ids based on above mapping\n",
    "X_train_user = df_train['User'].map(user_id_mapping).values\n",
    "X_train_movie = df_train['Movie'].map(movie_id_mapping).values\n",
    "\n",
    "# do the same for val and test sets\n",
    "X_val_user = df_val['User'].map(user_id_mapping).values\n",
    "X_val_movie = df_val['Movie'].map(movie_id_mapping).values\n",
    "\n",
    "X_test_user = df_test['User'].map(user_id_mapping).values\n",
    "X_test_movie = df_test['Movie'].map(movie_id_mapping).values"
   ]
  },
  {
   "cell_type": "markdown",
   "id": "fb112000",
   "metadata": {
    "gradient": {
     "editing": false,
     "id": "fb112000",
     "kernelId": "7d55c202-2481-41c4-8ec7-bc129758b225"
    },
    "papermill": {
     "duration": 0.025899,
     "end_time": "2021-12-29T18:45:18.732282",
     "exception": false,
     "start_time": "2021-12-29T18:45:18.706383",
     "status": "completed"
    },
    "tags": []
   },
   "source": [
    "### <font color='red'> Subtract the weighted score from the actual rating. As a result, for users who haven't rated any movies we will use weighted average scores of movies as predictions </font> "
   ]
  },
  {
   "cell_type": "markdown",
   "id": "f601628b",
   "metadata": {
    "gradient": {
     "editing": false,
     "id": "f601628b",
     "kernelId": "7d55c202-2481-41c4-8ec7-bc129758b225"
    },
    "papermill": {
     "duration": 0.025682,
     "end_time": "2021-12-29T18:45:18.783551",
     "exception": false,
     "start_time": "2021-12-29T18:45:18.757869",
     "status": "completed"
    },
    "tags": []
   },
   "source": [
    "**rank_dic defined for global recommender mean average precision evaluation**"
   ]
  },
  {
   "cell_type": "code",
   "execution_count": null,
   "id": "20f6d810",
   "metadata": {
    "gradient": {
     "editing": false,
     "id": "20f6d810",
     "kernelId": "7d55c202-2481-41c4-8ec7-bc129758b225"
    }
   },
   "outputs": [],
   "source": [
    "from collections import OrderedDict\n",
    "temp=combined_df.reset_index()[['Id','weighted score']].sort_values('weighted score', ascending=False)\n",
    "\n",
    "# {movie_id: weighted_score, ....}\n",
    "rank_dic=OrderedDict()\n",
    "for i in range(temp.shape[0]):\n",
    "    rank_dic[temp.iloc[i,0]]=temp.iloc[i,1]\n",
    "\n",
    "del temp"
   ]
  },
  {
   "cell_type": "code",
   "execution_count": null,
   "id": "57ecd4c0",
   "metadata": {
    "execution": {
     "iopub.execute_input": "2021-12-29T18:45:19.124273Z",
     "iopub.status.busy": "2021-12-29T18:45:19.123067Z",
     "iopub.status.idle": "2021-12-29T18:45:20.072254Z",
     "shell.execute_reply": "2021-12-29T18:45:20.071709Z",
     "shell.execute_reply.started": "2021-12-29T14:41:19.75583Z"
    },
    "gradient": {
     "editing": false,
     "execution_count": 9,
     "id": "57ecd4c0",
     "kernelId": "7d55c202-2481-41c4-8ec7-bc129758b225"
    },
    "papermill": {
     "duration": 0.97924,
     "end_time": "2021-12-29T18:45:20.072389",
     "exception": false,
     "start_time": "2021-12-29T18:45:19.093149",
     "status": "completed"
    },
    "tags": []
   },
   "outputs": [],
   "source": [
    "Y_train=df_train['Rating'].values.copy()-df_train['Movie'].map(rank_dic).values.copy()\n",
    "\n",
    "Y_val=df_val['Rating'].values.copy()-df_val['Movie'].map(rank_dic).values.copy()\n",
    "\n",
    "_=gc.collect()"
   ]
  },
  {
   "cell_type": "markdown",
   "id": "5e185984",
   "metadata": {
    "gradient": {
     "editing": false,
     "id": "5e185984",
     "kernelId": "7d55c202-2481-41c4-8ec7-bc129758b225"
    },
    "papermill": {
     "duration": 0.024079,
     "end_time": "2021-12-29T18:45:20.120595",
     "exception": false,
     "start_time": "2021-12-29T18:45:20.096516",
     "status": "completed"
    },
    "tags": []
   },
   "source": [
    "### <font color='red'> reserve space for new users, here we don't handle new movies </font> "
   ]
  },
  {
   "cell_type": "code",
   "execution_count": null,
   "id": "396d9eed",
   "metadata": {
    "execution": {
     "iopub.execute_input": "2021-12-29T18:45:20.173969Z",
     "iopub.status.busy": "2021-12-29T18:45:20.172397Z",
     "iopub.status.idle": "2021-12-29T18:45:20.174548Z",
     "shell.execute_reply": "2021-12-29T18:45:20.174948Z",
     "shell.execute_reply.started": "2021-12-29T14:44:15.033379Z"
    },
    "gradient": {
     "execution_count": 10,
     "id": "396d9eed",
     "kernelId": "7d55c202-2481-41c4-8ec7-bc129758b225"
    },
    "papermill": {
     "duration": 0.030665,
     "end_time": "2021-12-29T18:45:20.175082",
     "exception": false,
     "start_time": "2021-12-29T18:45:20.144417",
     "status": "completed"
    },
    "tags": []
   },
   "outputs": [],
   "source": [
    "# Get input variable-sizes\n",
    "users = int(len(user_id_mapping) * 1.1)  # reserve space for new users\n",
    "movies = len(movie_id_mapping)"
   ]
  },
  {
   "cell_type": "markdown",
   "id": "843a32f4",
   "metadata": {
    "papermill": {
     "duration": 0.023354,
     "end_time": "2021-12-29T18:45:20.222281",
     "exception": false,
     "start_time": "2021-12-29T18:45:20.198927",
     "status": "completed"
    },
    "tags": []
   },
   "source": [
    "## build the collaborative filtering model"
   ]
  },
  {
   "cell_type": "code",
   "execution_count": null,
   "id": "741454af",
   "metadata": {
    "execution": {
     "iopub.execute_input": "2021-12-29T18:45:20.277664Z",
     "iopub.status.busy": "2021-12-29T18:45:20.277057Z",
     "iopub.status.idle": "2021-12-29T18:45:23.066743Z",
     "shell.execute_reply": "2021-12-29T18:45:23.065413Z",
     "shell.execute_reply.started": "2021-12-29T15:16:03.87084Z"
    },
    "gradient": {
     "execution_count": 11,
     "id": "741454af",
     "kernelId": "7d55c202-2481-41c4-8ec7-bc129758b225"
    },
    "papermill": {
     "duration": 2.82103,
     "end_time": "2021-12-29T18:45:23.066930",
     "exception": false,
     "start_time": "2021-12-29T18:45:20.245900",
     "status": "completed"
    },
    "tags": []
   },
   "outputs": [
    {
     "name": "stderr",
     "output_type": "stream",
     "text": [
      "2021-12-29 23:20:49.726285: I tensorflow/stream_executor/cuda/cuda_gpu_executor.cc:1050] successful NUMA node read from SysFS had negative value (-1), but there must be at least one NUMA node, so returning NUMA node zero\n",
      "2021-12-29 23:20:49.942054: I tensorflow/stream_executor/cuda/cuda_gpu_executor.cc:1050] successful NUMA node read from SysFS had negative value (-1), but there must be at least one NUMA node, so returning NUMA node zero\n",
      "2021-12-29 23:20:49.942833: I tensorflow/stream_executor/cuda/cuda_gpu_executor.cc:1050] successful NUMA node read from SysFS had negative value (-1), but there must be at least one NUMA node, so returning NUMA node zero\n",
      "2021-12-29 23:20:49.958775: I tensorflow/stream_executor/cuda/cuda_gpu_executor.cc:1050] successful NUMA node read from SysFS had negative value (-1), but there must be at least one NUMA node, so returning NUMA node zero\n",
      "2021-12-29 23:20:49.959429: I tensorflow/stream_executor/cuda/cuda_gpu_executor.cc:1050] successful NUMA node read from SysFS had negative value (-1), but there must be at least one NUMA node, so returning NUMA node zero\n",
      "2021-12-29 23:20:49.959966: I tensorflow/stream_executor/cuda/cuda_gpu_executor.cc:1050] successful NUMA node read from SysFS had negative value (-1), but there must be at least one NUMA node, so returning NUMA node zero\n",
      "2021-12-29 23:20:52.326058: I tensorflow/stream_executor/cuda/cuda_gpu_executor.cc:1050] successful NUMA node read from SysFS had negative value (-1), but there must be at least one NUMA node, so returning NUMA node zero\n",
      "2021-12-29 23:20:52.326709: I tensorflow/stream_executor/cuda/cuda_gpu_executor.cc:1050] successful NUMA node read from SysFS had negative value (-1), but there must be at least one NUMA node, so returning NUMA node zero\n",
      "2021-12-29 23:20:52.327476: I tensorflow/stream_executor/cuda/cuda_gpu_executor.cc:1050] successful NUMA node read from SysFS had negative value (-1), but there must be at least one NUMA node, so returning NUMA node zero\n",
      "2021-12-29 23:20:52.328493: I tensorflow/core/common_runtime/gpu/gpu_device.cc:1510] Created device /job:localhost/replica:0/task:0/device:GPU:0 with 14029 MB memory:  -> device: 0, name: RTX A4000, pci bus id: 0000:00:05.0, compute capability: 8.6\n"
     ]
    }
   ],
   "source": [
    "embedding_size = 100\n",
    "\n",
    "# use Input() to create tensors for - 'user' and 'movie'\n",
    "user_id_input = Input(shape=(1,), name='user')\n",
    "movie_id_input =  Input(shape=(1,), name='movie')\n",
    "\n",
    "# Create embedding layer for users \n",
    "user_embedding = Embedding(output_dim=embedding_size, \n",
    "                           input_dim=users,\n",
    "                           input_length=1, \n",
    "                           embeddings_regularizer=tf.keras.regularizers.l2(0.0000001),\n",
    "                           name='user_embedding')(user_id_input)\n",
    "\n",
    "# create embedding layer for movies \n",
    "movie_embedding = Embedding(output_dim=embedding_size, \n",
    "                           input_dim=movies,\n",
    "                           input_length=1, \n",
    "                           embeddings_regularizer=tf.keras.regularizers.l2(0.0000001),\n",
    "                           name='movie_embedding')(movie_id_input)\n",
    "\n",
    "user_vector = Reshape([embedding_size])(user_embedding)\n",
    "movie_vector = Reshape([embedding_size])(movie_embedding)\n",
    "\n",
    "output = Dot(1, normalize=False)([user_vector, movie_vector])\n",
    "\n",
    "model = Model(inputs=[user_id_input, movie_id_input], outputs=output)\n",
    "model.compile(loss='mse', optimizer=tf.keras.optimizers.Adam(learning_rate=3e-4))"
   ]
  },
  {
   "cell_type": "markdown",
   "id": "96bf5823",
   "metadata": {
    "papermill": {
     "duration": 0.042407,
     "end_time": "2021-12-29T18:45:23.155138",
     "exception": false,
     "start_time": "2021-12-29T18:45:23.112731",
     "status": "completed"
    },
    "tags": []
   },
   "source": [
    "## train the model"
   ]
  },
  {
   "cell_type": "code",
   "execution_count": null,
   "id": "eb771196",
   "metadata": {
    "execution": {
     "iopub.execute_input": "2021-12-29T18:45:23.219761Z",
     "iopub.status.busy": "2021-12-29T18:45:23.218844Z",
     "iopub.status.idle": "2021-12-29T18:52:04.094724Z",
     "shell.execute_reply": "2021-12-29T18:52:04.094156Z",
     "shell.execute_reply.started": "2021-12-29T15:26:44.418517Z"
    },
    "gradient": {
     "execution_count": 12,
     "id": "eb771196",
     "kernelId": "7d55c202-2481-41c4-8ec7-bc129758b225"
    },
    "papermill": {
     "duration": 400.909273,
     "end_time": "2021-12-29T18:52:04.094872",
     "exception": false,
     "start_time": "2021-12-29T18:45:23.185599",
     "status": "completed"
    },
    "tags": []
   },
   "outputs": [
    {
     "name": "stderr",
     "output_type": "stream",
     "text": [
      "2021-12-29 23:20:52.611877: W tensorflow/core/framework/cpu_allocator_impl.cc:80] Allocation of 590483320 exceeds 10% of free system memory.\n",
      "2021-12-29 23:20:53.104315: W tensorflow/core/framework/cpu_allocator_impl.cc:80] Allocation of 590483320 exceeds 10% of free system memory.\n",
      "2021-12-29 23:20:53.811121: W tensorflow/core/framework/cpu_allocator_impl.cc:80] Allocation of 295241660 exceeds 10% of free system memory.\n",
      "2021-12-29 23:20:54.100831: W tensorflow/core/framework/cpu_allocator_impl.cc:80] Allocation of 590483320 exceeds 10% of free system memory.\n",
      "2021-12-29 23:20:54.502385: W tensorflow/core/framework/cpu_allocator_impl.cc:80] Allocation of 590483320 exceeds 10% of free system memory.\n",
      "2021-12-29 23:20:55.084721: I tensorflow/compiler/mlir/mlir_graph_optimization_pass.cc:185] None of the MLIR Optimization Passes are enabled (registered 2)\n"
     ]
    },
    {
     "name": "stdout",
     "output_type": "stream",
     "text": [
      "Epoch 1/20\n",
      "72081/72081 [==============================] - 402s 5ms/step - loss: 0.7680 - val_loss: 0.6953\n",
      "Epoch 2/20\n",
      "72081/72081 [==============================] - 397s 6ms/step - loss: 0.6512 - val_loss: 0.6573\n",
      "Epoch 3/20\n",
      "72081/72081 [==============================] - 400s 6ms/step - loss: 0.6013 - val_loss: 0.6535\n",
      "Epoch 4/20\n",
      "72081/72081 [==============================] - 400s 6ms/step - loss: 0.5732 - val_loss: 0.6606\n",
      "Restoring model weights from the end of the best epoch.\n",
      "Epoch 00004: early stopping\n"
     ]
    }
   ],
   "source": [
    "batch_size = 1024\n",
    "epochs = 20\n",
    "\n",
    "es = tf.keras.callbacks.EarlyStopping(monitor='val_loss', \n",
    "                                      patience=1,\n",
    "                                      restore_best_weights=True,\n",
    "                                      verbose=1)\n",
    "\n",
    "model.fit([X_train_user, X_train_movie], Y_train,\n",
    "          batch_size=batch_size, \n",
    "          epochs=epochs,\n",
    "          validation_data=([X_val_user, X_val_movie], Y_val),\n",
    "          #validation_split=1/280.0,\n",
    "          shuffle=True,\n",
    "          callbacks=[es],\n",
    "          verbose=1)\n",
    "\n",
    "del X_train_user, X_train_movie, Y_train, X_val_user, X_val_movie, Y_val\n",
    "_=gc.collect()"
   ]
  },
  {
   "cell_type": "code",
   "execution_count": null,
   "id": "436a5207",
   "metadata": {
    "execution": {
     "iopub.execute_input": "2021-12-29T18:52:08.084084Z",
     "iopub.status.busy": "2021-12-29T18:52:08.083207Z",
     "iopub.status.idle": "2021-12-29T18:52:08.257461Z",
     "shell.execute_reply": "2021-12-29T18:52:08.257944Z",
     "shell.execute_reply.started": "2021-12-29T14:41:20.835893Z"
    },
    "gradient": {
     "execution_count": 13,
     "id": "436a5207",
     "kernelId": "7d55c202-2481-41c4-8ec7-bc129758b225"
    },
    "papermill": {
     "duration": 2.193096,
     "end_time": "2021-12-29T18:52:08.258096",
     "exception": false,
     "start_time": "2021-12-29T18:52:06.065000",
     "status": "completed"
    },
    "tags": []
   },
   "outputs": [],
   "source": [
    "model.save('collaborative.h5')"
   ]
  },
  {
   "cell_type": "code",
   "execution_count": null,
   "id": "fe17e611",
   "metadata": {
    "gradient": {
     "execution_count": 23,
     "id": "fe17e611",
     "kernelId": "7d55c202-2481-41c4-8ec7-bc129758b225"
    }
   },
   "outputs": [],
   "source": [
    "user_id_mapping_list=[]\n",
    "for key in list(user_id_mapping.keys()):\n",
    "    user_id_mapping_list.append([key, user_id_mapping[key]])\n",
    "    \n",
    "with open('user_id_mapping_list.txt', 'wb') as fp:\n",
    "    pickle.dump(user_id_mapping_list, fp)\n",
    "                \n",
    "movie_id_mapping_list=[]\n",
    "for key in list(movie_id_mapping.keys()):\n",
    "    movie_id_mapping_list.append([key, movie_id_mapping[key]])\n",
    "    \n",
    "with open('movie_id_mapping_list.txt', 'wb') as fp:\n",
    "    pickle.dump(movie_id_mapping_list, fp)"
   ]
  },
  {
   "cell_type": "markdown",
   "id": "3b836396",
   "metadata": {
    "papermill": {
     "duration": 1.975298,
     "end_time": "2021-12-29T18:52:12.519402",
     "exception": false,
     "start_time": "2021-12-29T18:52:10.544104",
     "status": "completed"
    },
    "tags": []
   },
   "source": [
    "## model evaluation"
   ]
  },
  {
   "cell_type": "markdown",
   "id": "7741e107",
   "metadata": {
    "papermill": {
     "duration": 2.259005,
     "end_time": "2021-12-29T18:52:16.828328",
     "exception": false,
     "start_time": "2021-12-29T18:52:14.569323",
     "status": "completed"
    },
    "tags": []
   },
   "source": [
    "### evaluate rmse on test set"
   ]
  },
  {
   "cell_type": "code",
   "execution_count": null,
   "id": "778a5b57",
   "metadata": {
    "execution": {
     "iopub.execute_input": "2021-12-29T18:52:21.340086Z",
     "iopub.status.busy": "2021-12-29T18:52:21.339270Z",
     "iopub.status.idle": "2021-12-29T18:52:24.541138Z",
     "shell.execute_reply": "2021-12-29T18:52:24.540693Z",
     "shell.execute_reply.started": "2021-12-29T14:41:20.837906Z"
    },
    "gradient": {
     "execution_count": 14,
     "id": "778a5b57",
     "kernelId": "7d55c202-2481-41c4-8ec7-bc129758b225"
    },
    "papermill": {
     "duration": 5.42834,
     "end_time": "2021-12-29T18:52:24.541301",
     "exception": false,
     "start_time": "2021-12-29T18:52:19.112961",
     "status": "completed"
    },
    "tags": []
   },
   "outputs": [
    {
     "name": "stdout",
     "output_type": "stream",
     "text": [
      "The RMSE Value for the Mean Rating Recommender: 0.7896245334449726\n",
      "The MAE Value for the Mean Rating Recommender: 0.6041737135076523\n"
     ]
    }
   ],
   "source": [
    "y_pred=model.predict([X_test_user, X_test_movie]).flatten()\n",
    "\n",
    "# add back the weighted score\n",
    "y_pred+=df_test['Movie'].map(rank_dic).values.copy()\n",
    "\n",
    "# clip the predicted score that's lower than 1 or larger than 5\n",
    "y_pred = np.array(list(map(lambda x: 1.0 if x < 1 else 5.0 if x > 5.0 else x, y_pred)))\n",
    "\n",
    "y_true = df_test['Rating'].values\n",
    "\n",
    "rmse = np.sqrt(mean_squared_error(y_true=y_true, y_pred=y_pred))\n",
    "mae = mean_absolute_error(y_true=y_true, y_pred=y_pred)\n",
    "print(\"The RMSE Value for the Mean Rating Recommender:\", rmse)\n",
    "print(\"The MAE Value for the Mean Rating Recommender:\", mae)"
   ]
  },
  {
   "cell_type": "markdown",
   "id": "ae136810",
   "metadata": {
    "papermill": {
     "duration": 1.963022,
     "end_time": "2021-12-29T18:52:28.596568",
     "exception": false,
     "start_time": "2021-12-29T18:52:26.633546",
     "status": "completed"
    },
    "tags": []
   },
   "source": [
    "### define a function that makes prediction"
   ]
  },
  {
   "cell_type": "code",
   "execution_count": null,
   "id": "0e7471d4",
   "metadata": {
    "execution": {
     "iopub.execute_input": "2021-12-29T18:52:32.907625Z",
     "iopub.status.busy": "2021-12-29T18:52:32.905865Z",
     "iopub.status.idle": "2021-12-29T18:52:32.908286Z",
     "shell.execute_reply": "2021-12-29T18:52:32.908748Z",
     "shell.execute_reply.started": "2021-12-29T15:15:27.693707Z"
    },
    "gradient": {
     "execution_count": 15,
     "id": "0e7471d4",
     "kernelId": "7d55c202-2481-41c4-8ec7-bc129758b225"
    },
    "papermill": {
     "duration": 2.328331,
     "end_time": "2021-12-29T18:52:32.908898",
     "exception": false,
     "start_time": "2021-12-29T18:52:30.580567",
     "status": "completed"
    },
    "tags": []
   },
   "outputs": [],
   "source": [
    "def make_pred(user_id, movie_id, model, rank_dic):\n",
    "    if type(user_id)!=type('asdf'):\n",
    "        print('please enter a string for user id')\n",
    "        return None\n",
    "    if movie_id not in movie_id_mapping:\n",
    "        print('movie id non-existent')\n",
    "        \n",
    "    if user_id not in user_id_mapping:\n",
    "        user=users-1\n",
    "    else:\n",
    "        user=user_id_mapping[user_id]\n",
    "        \n",
    "    movie=movie_id_mapping[movie_id]\n",
    "    pred=model.predict([np.array([user]), np.array([movie])])\n",
    "    pred+=rank_dic[movie_id]\n",
    "    return pred[0,0]"
   ]
  },
  {
   "cell_type": "markdown",
   "id": "f3e6e0d0",
   "metadata": {
    "papermill": {
     "duration": 2.023189,
     "end_time": "2021-12-29T18:52:36.966216",
     "exception": false,
     "start_time": "2021-12-29T18:52:34.943027",
     "status": "completed"
    },
    "tags": []
   },
   "source": [
    "**for a unknown/new user, the predicted score is simply weighted average score**"
   ]
  },
  {
   "cell_type": "code",
   "execution_count": null,
   "id": "566ef52d",
   "metadata": {
    "execution": {
     "iopub.execute_input": "2021-12-29T18:52:41.021917Z",
     "iopub.status.busy": "2021-12-29T18:52:41.021080Z",
     "iopub.status.idle": "2021-12-29T18:52:41.105412Z",
     "shell.execute_reply": "2021-12-29T18:52:41.104891Z",
     "shell.execute_reply.started": "2021-12-29T15:15:30.158516Z"
    },
    "gradient": {
     "execution_count": 16,
     "id": "566ef52d",
     "kernelId": "7d55c202-2481-41c4-8ec7-bc129758b225"
    },
    "papermill": {
     "duration": 2.144707,
     "end_time": "2021-12-29T18:52:41.105555",
     "exception": false,
     "start_time": "2021-12-29T18:52:38.960848",
     "status": "completed"
    },
    "tags": []
   },
   "outputs": [
    {
     "data": {
      "text/plain": [
       "(3.697078, 3.6970780962528687)"
      ]
     },
     "execution_count": 16,
     "metadata": {},
     "output_type": "execute_result"
    }
   ],
   "source": [
    "user_id='asdf'\n",
    "movie_id=5\n",
    "make_pred(user_id, movie_id, model, rank_dic), rank_dic[movie_id] "
   ]
  },
  {
   "cell_type": "markdown",
   "id": "da75ba1f",
   "metadata": {
    "papermill": {
     "duration": 2.074738,
     "end_time": "2021-12-29T18:52:45.408915",
     "exception": false,
     "start_time": "2021-12-29T18:52:43.334177",
     "status": "completed"
    },
    "tags": []
   },
   "source": [
    "**for a known user, compare the predicted score and the weighted average score**"
   ]
  },
  {
   "cell_type": "code",
   "execution_count": null,
   "id": "8618f8b8",
   "metadata": {
    "execution": {
     "iopub.execute_input": "2021-12-29T18:52:49.486945Z",
     "iopub.status.busy": "2021-12-29T18:52:49.485881Z",
     "iopub.status.idle": "2021-12-29T18:52:49.566218Z",
     "shell.execute_reply": "2021-12-29T18:52:49.566837Z",
     "shell.execute_reply.started": "2021-12-29T14:41:20.843169Z"
    },
    "gradient": {
     "execution_count": 17,
     "id": "8618f8b8",
     "kernelId": "7d55c202-2481-41c4-8ec7-bc129758b225"
    },
    "papermill": {
     "duration": 2.144153,
     "end_time": "2021-12-29T18:52:49.567038",
     "exception": false,
     "start_time": "2021-12-29T18:52:47.422885",
     "status": "completed"
    },
    "tags": []
   },
   "outputs": [
    {
     "data": {
      "text/plain": [
       "(3.3203886, 3.6970780962528687)"
      ]
     },
     "execution_count": 17,
     "metadata": {},
     "output_type": "execute_result"
    }
   ],
   "source": [
    "user_id=list(test_user_ids.keys())[7]\n",
    "movie_id=5\n",
    "make_pred(user_id, movie_id, model, rank_dic), rank_dic[movie_id] "
   ]
  },
  {
   "cell_type": "markdown",
   "id": "7cdb2980",
   "metadata": {
    "papermill": {
     "duration": 2.363007,
     "end_time": "2021-12-29T18:52:54.503023",
     "exception": false,
     "start_time": "2021-12-29T18:52:52.140016",
     "status": "completed"
    },
    "tags": []
   },
   "source": [
    "### evaluate mean average precision"
   ]
  },
  {
   "cell_type": "markdown",
   "id": "9aac94f0",
   "metadata": {
    "papermill": {
     "duration": 2.091463,
     "end_time": "2021-12-29T18:52:58.677248",
     "exception": false,
     "start_time": "2021-12-29T18:52:56.585785",
     "status": "completed"
    },
    "tags": []
   },
   "source": [
    "**define the function that calculates average precision**"
   ]
  },
  {
   "cell_type": "code",
   "execution_count": null,
   "id": "06d7bd9a",
   "metadata": {
    "execution": {
     "iopub.execute_input": "2021-12-29T18:53:02.746600Z",
     "iopub.status.busy": "2021-12-29T18:53:02.745680Z",
     "iopub.status.idle": "2021-12-29T18:53:02.747592Z",
     "shell.execute_reply": "2021-12-29T18:53:02.747992Z",
     "shell.execute_reply.started": "2021-12-29T14:41:20.844958Z"
    },
    "gradient": {
     "execution_count": 18,
     "id": "06d7bd9a",
     "kernelId": "7d55c202-2481-41c4-8ec7-bc129758b225"
    },
    "papermill": {
     "duration": 2.046593,
     "end_time": "2021-12-29T18:53:02.748136",
     "exception": false,
     "start_time": "2021-12-29T18:53:00.701543",
     "status": "completed"
    },
    "tags": []
   },
   "outputs": [],
   "source": [
    "def average_precision_at_k(rel: [int], pred: [int], k: int) -> float:\n",
    "    # this function works only for a single user\n",
    "    # rel is an list of movie id's for all relevant movies in the test set \n",
    "    # pred is the prediction of the model excluding those ratings already in the training set\n",
    "    # pred is a list of movie id's whose scores are ranked from high to low\n",
    "    # len(pred) should be large enough for k\n",
    "    # k is the cutoff\n",
    "    temp=0\n",
    "    true_positive=0\n",
    "    for i in range(min(k,len(pred))):\n",
    "        if pred[i] in rel:\n",
    "            true_positive+=1\n",
    "            temp+=true_positive/(i+1)\n",
    "    return temp/len(rel)"
   ]
  },
  {
   "cell_type": "markdown",
   "id": "ebdfd260",
   "metadata": {
    "papermill": {
     "duration": 2.093725,
     "end_time": "2021-12-29T18:53:07.014297",
     "exception": false,
     "start_time": "2021-12-29T18:53:04.920572",
     "status": "completed"
    },
    "tags": []
   },
   "source": [
    "**loop through users in test set and apply the function we defined**"
   ]
  },
  {
   "cell_type": "code",
   "execution_count": null,
   "id": "b0299552",
   "metadata": {
    "execution": {
     "iopub.execute_input": "2021-12-29T18:53:11.059222Z",
     "iopub.status.busy": "2021-12-29T18:53:11.058131Z",
     "iopub.status.idle": "2021-12-29T21:33:44.846872Z",
     "shell.execute_reply": "2021-12-29T21:33:44.846374Z",
     "shell.execute_reply.started": "2021-12-29T14:41:20.84684Z"
    },
    "gradient": {
     "execution_count": 19,
     "id": "b0299552",
     "kernelId": "7d55c202-2481-41c4-8ec7-bc129758b225"
    },
    "papermill": {
     "duration": 9635.829097,
     "end_time": "2021-12-29T21:33:44.847016",
     "exception": false,
     "start_time": "2021-12-29T18:53:09.017919",
     "status": "completed"
    },
    "tags": []
   },
   "outputs": [
    {
     "name": "stdout",
     "output_type": "stream",
     "text": [
      "0\n",
      "collaborative  0.00423728813559322\n",
      "global  0.00036310820624546115\n",
      "1\n",
      "collaborative  0.02624879994333637\n",
      "global  0.012302635034416741\n",
      "2\n",
      "collaborative  0.029275886069042332\n",
      "global  0.014614935907681693\n",
      "3\n",
      "collaborative  0.028088908452808797\n",
      "global  0.016210416627352297\n",
      "4\n",
      "collaborative  0.02594172146169525\n",
      "global  0.015184705657032668\n",
      "5\n",
      "collaborative  0.02438266916698019\n",
      "global  0.01531582999101874\n",
      "6\n",
      "collaborative  0.025526495972614725\n",
      "global  0.015647165657557506\n",
      "7\n",
      "collaborative  0.023941465586283708\n",
      "global  0.014725234550717711\n",
      "8\n",
      "collaborative  0.023894768601314113\n",
      "global  0.014813367882146098\n",
      "9\n",
      "collaborative  0.023929927981204004\n",
      "global  0.014292813199572325\n",
      "10\n",
      "collaborative  0.023695308729588006\n",
      "global  0.014337856500880392\n",
      "11\n",
      "collaborative  0.023539372004827162\n",
      "global  0.014675268495120084\n",
      "12\n",
      "collaborative  0.024407801181734433\n",
      "global  0.01501648340979014\n",
      "13\n",
      "collaborative  0.024144303703626146\n",
      "global  0.014641143121788899\n",
      "14\n",
      "collaborative  0.02421373445390641\n",
      "global  0.014194554005719692\n",
      "15\n",
      "collaborative  0.024426508437685148\n",
      "global  0.014353340143036429\n",
      "16\n",
      "collaborative  0.02461187567605124\n",
      "global  0.014206292090818428\n",
      "17\n",
      "collaborative  0.024558419732582052\n",
      "global  0.013999553998637393\n",
      "18\n",
      "collaborative  0.02405363750706332\n",
      "global  0.013786835452922655\n",
      "19\n",
      "collaborative  0.023742912961015616\n",
      "global  0.01359765743446645\n",
      "20\n",
      "collaborative  0.023921674826521144\n",
      "global  0.013550265138622553\n",
      "21\n",
      "collaborative  0.02418371702763256\n",
      "global  0.013538440014986783\n",
      "22\n",
      "collaborative  0.024143235748403505\n",
      "global  0.013435219543524678\n",
      "23\n",
      "collaborative  0.023597851119916233\n",
      "global  0.013367269059692537\n",
      "24\n",
      "collaborative  0.023989122116709196\n",
      "global  0.013420398305587038\n",
      "25\n",
      "collaborative  0.02403030292658989\n",
      "global  0.013467790019506171\n",
      "26\n",
      "collaborative  0.02432898707985101\n",
      "global  0.013498378131609921\n",
      "27\n",
      "collaborative  0.02452721619656771\n",
      "global  0.01352634489249743\n",
      "28\n",
      "collaborative  0.024835261739171877\n",
      "global  0.013466976181943797\n",
      "29\n",
      "collaborative  0.024780247165685342\n",
      "global  0.013398624030796958\n",
      "30\n",
      "collaborative  0.024683890496285336\n",
      "global  0.01321756047290011\n",
      "31\n",
      "collaborative  0.024967683305000606\n",
      "global  0.013250511319168056\n",
      "32\n",
      "collaborative  0.024816644849968903\n",
      "global  0.013295044034734723\n",
      "33\n",
      "collaborative  0.024998701790487462\n",
      "global  0.013429965302830091\n",
      "34\n",
      "collaborative  0.025031383074840326\n",
      "global  0.01365364872818726\n",
      "35\n",
      "collaborative  0.024946310704834086\n",
      "global  0.013837482566000484\n",
      "36\n",
      "collaborative  0.024942065326546806\n",
      "global  0.013809381159027068\n",
      "37\n",
      "collaborative  0.025088243081750467\n",
      "global  0.013808878049947498\n",
      "38\n",
      "collaborative  0.02506210925597628\n",
      "global  0.013885115539718683\n",
      "39\n",
      "collaborative  0.025042629741901374\n",
      "global  0.01383033339099946\n",
      "40\n",
      "collaborative  0.02506532628258741\n",
      "global  0.01373718507574517\n",
      "41\n",
      "collaborative  0.025186987103359947\n",
      "global  0.013787725436781284\n",
      "42\n",
      "collaborative  0.02511834416400579\n",
      "global  0.013784265075744179\n",
      "43\n",
      "collaborative  0.025133344191430002\n",
      "global  0.013774224515759041\n",
      "44\n",
      "collaborative  0.024944518404056308\n",
      "global  0.013615180250314107\n",
      "45\n",
      "collaborative  0.025180800463413068\n",
      "global  0.013935299893670653\n",
      "46\n",
      "collaborative  0.025319662975856787\n",
      "global  0.013973241651504318\n",
      "47\n",
      "collaborative  0.025273793207568236\n",
      "global  0.013893667955952775\n",
      "48\n",
      "collaborative  0.025244271654056905\n",
      "global  0.01394298471241201\n",
      "49\n",
      "collaborative  0.025332128275103394\n",
      "global  0.014137186659780648\n",
      "50\n",
      "collaborative  0.02521311657836109\n",
      "global  0.014190975131906624\n",
      "51\n",
      "collaborative  0.02524415486056588\n",
      "global  0.014160088411406339\n",
      "52\n",
      "collaborative  0.025279043553016693\n",
      "global  0.01427533408041712\n",
      "53\n",
      "collaborative  0.025228768374779734\n",
      "global  0.014352053288086562\n",
      "54\n",
      "collaborative  0.025109943925334683\n",
      "global  0.014397904701154467\n",
      "55\n",
      "collaborative  0.02504418291267451\n",
      "global  0.014439549611902396\n",
      "56\n",
      "collaborative  0.025059721231484654\n",
      "global  0.014473087322387149\n",
      "57\n",
      "collaborative  0.025042952227513536\n",
      "global  0.014517959895898295\n",
      "58\n",
      "collaborative  0.025103214546327926\n",
      "global  0.01450128958347246\n",
      "59\n",
      "collaborative  0.025205274900854363\n",
      "global  0.014470343414738494\n",
      "60\n",
      "collaborative  0.025218652015760085\n",
      "global  0.014487280658497291\n",
      "61\n",
      "collaborative  0.02523133587868936\n",
      "global  0.014453581530098174\n",
      "62\n",
      "collaborative  0.02537934424604754\n",
      "global  0.014543901277792102\n",
      "63\n",
      "collaborative  0.025446738021719907\n",
      "global  0.014526944111610157\n",
      "64\n",
      "collaborative  0.02534683683800109\n",
      "global  0.014579165703347254\n",
      "65\n",
      "collaborative  0.025371583591940892\n",
      "global  0.014467148725036441\n",
      "66\n",
      "collaborative  0.025392160520490564\n",
      "global  0.014536812602311405\n",
      "67\n",
      "collaborative  0.025324149750098793\n",
      "global  0.014524043085575375\n",
      "68\n",
      "collaborative  0.025370480218411193\n",
      "global  0.014462419335992478\n",
      "69\n",
      "collaborative  0.02543734155892268\n",
      "global  0.014553796042161473\n",
      "70\n",
      "collaborative  0.02543336899267981\n",
      "global  0.014510903189121089\n",
      "71\n",
      "collaborative  0.025379383860662883\n",
      "global  0.01455222680014642\n",
      "72\n",
      "collaborative  0.025315914028591024\n",
      "global  0.01455236956745685\n",
      "73\n",
      "collaborative  0.025318731007490942\n",
      "global  0.014569753108595221\n",
      "74\n",
      "collaborative  0.025267895282269047\n",
      "global  0.014609172815277998\n",
      "75\n",
      "collaborative  0.025176018529654027\n",
      "global  0.014577306401045915\n",
      "76\n",
      "collaborative  0.025054172907183297\n",
      "global  0.014542930919388346\n",
      "77\n",
      "collaborative  0.02501163738096399\n",
      "global  0.01458932086160074\n",
      "78\n",
      "collaborative  0.025114378846445847\n",
      "global  0.01458359384664806\n",
      "79\n",
      "collaborative  0.025073015526551203\n",
      "global  0.014564001652362615\n",
      "80\n",
      "collaborative  0.025133122979250334\n",
      "global  0.01450327546073717\n",
      "81\n",
      "collaborative  0.025195291867946983\n",
      "global  0.014508210016534063\n",
      "82\n",
      "collaborative  0.02516100592538685\n",
      "global  0.014466953526396877\n",
      "83\n",
      "collaborative  0.025116958772239212\n",
      "global  0.014404026610775552\n",
      "84\n",
      "collaborative  0.025033828836600533\n",
      "global  0.014399007534050165\n",
      "85\n",
      "collaborative  0.025070062693548827\n",
      "global  0.014471654833215246\n",
      "86\n",
      "collaborative  0.025003849526736226\n",
      "global  0.014646903372466507\n",
      "87\n",
      "collaborative  0.025110361380381686\n",
      "global  0.014609962185825465\n",
      "88\n",
      "collaborative  0.025023333399153577\n",
      "global  0.014568659339909\n",
      "89\n",
      "collaborative  0.024986986641403988\n",
      "global  0.014582634156491421\n",
      "90\n",
      "collaborative  0.02491719852380195\n",
      "global  0.014498364266672194\n",
      "91\n",
      "collaborative  0.024946140228761883\n",
      "global  0.014468781195707542\n",
      "92\n",
      "collaborative  0.024925580797044107\n",
      "global  0.014496494545515161\n",
      "93\n",
      "collaborative  0.0248702278136056\n",
      "global  0.014460373690244936\n",
      "94\n",
      "collaborative  0.024829677735880233\n",
      "global  0.014463906767088308\n",
      "95\n",
      "collaborative  0.02476243010163971\n",
      "global  0.014387282021259589\n",
      "96\n",
      "collaborative  0.02476523397571225\n",
      "global  0.014413566763551868\n",
      "97\n",
      "collaborative  0.024751623831738154\n",
      "global  0.014359365438982315\n",
      "98\n",
      "collaborative  0.02490682256358086\n",
      "global  0.014397895545161852\n",
      "99\n",
      "collaborative  0.02495439992298116\n",
      "global  0.014368978118102296\n"
     ]
    }
   ],
   "source": [
    "result1=[]\n",
    "result2=[]\n",
    "user_list=list(test_movie_ids.keys())\n",
    "\n",
    "mile=len(user_list)//100\n",
    "ct=0\n",
    "\n",
    "for i in range(len(user_list)):\n",
    "    \n",
    "    if ct%mile==1: \n",
    "        print(ct//mile)\n",
    "        print('collaborative ', sum(result1)/len(result1))\n",
    "        print('global ', sum(result2)/len(result2))\n",
    "    ct+=1\n",
    "\n",
    "    user=user_list[i]\n",
    "\n",
    "    rank_dic_copy=rank_dic.copy()\n",
    "\n",
    "    rel=test_movie_ids[user]\n",
    "\n",
    "    pred=[]\n",
    "    # list of movies already rated in train set\n",
    "    already=train_movie_ids[user]\n",
    "\n",
    "    # remove movies that are already in the train set\n",
    "    for ele in already:\n",
    "        rank_dic_copy.pop(ele)\n",
    "\n",
    "    # save a copy of movie ids\n",
    "    aaa=list(rank_dic_copy.keys())\n",
    "\n",
    "    # map movie ids to movie vocabulary number\n",
    "    X_movie=pd.Series(np.array(aaa)).map(movie_id_mapping).values\n",
    "    # map user ids to user vocabulary number\n",
    "    X_user=pd.Series(np.array([user for i in range(X_movie.shape[0])])).map(user_id_mapping).values\n",
    "\n",
    "    Y=model.predict([X_user, X_movie])\n",
    "    Y=Y[:,0]\n",
    "    Y=list(Y)\n",
    "\n",
    "    pred=[]\n",
    "    for iii, y in enumerate(Y):\n",
    "        pred.append([aaa[iii], y+rank_dic[aaa[iii]]])\n",
    "\n",
    "    # sort by score from high to low\n",
    "    pred.sort(key=lambda x : x[1], reverse=True)\n",
    "    pred=np.array(pred)\n",
    "    pred=pred[:,0]\n",
    "    pred=list(pred)\n",
    "    #print(len(pred))\n",
    "    result1.append(average_precision_at_k(rel, pred, 100000))\n",
    "\n",
    "    copy_dic=rank_dic.copy()\n",
    "    for ele in train_movie_ids[user]:\n",
    "        copy_dic.pop(ele)\n",
    "    pred=list(copy_dic.keys())\n",
    "    #print(len(pred))\n",
    "    result2.append(average_precision_at_k(rel, pred, 100000))"
   ]
  },
  {
   "cell_type": "code",
   "execution_count": null,
   "id": "9c666ba1",
   "metadata": {
    "execution": {
     "iopub.execute_input": "2021-12-29T21:33:48.821734Z",
     "iopub.status.busy": "2021-12-29T21:33:48.821067Z",
     "iopub.status.idle": "2021-12-29T21:33:48.824048Z",
     "shell.execute_reply": "2021-12-29T21:33:48.824463Z",
     "shell.execute_reply.started": "2021-12-29T14:41:20.848455Z"
    },
    "gradient": {
     "execution_count": 20,
     "id": "9c666ba1",
     "kernelId": "7d55c202-2481-41c4-8ec7-bc129758b225"
    },
    "papermill": {
     "duration": 1.984167,
     "end_time": "2021-12-29T21:33:48.824597",
     "exception": false,
     "start_time": "2021-12-29T21:33:46.840430",
     "status": "completed"
    },
    "tags": []
   },
   "outputs": [
    {
     "name": "stdout",
     "output_type": "stream",
     "text": [
      "there are 66852 users in the test set\n",
      "there are 24851 users whose ratings in the test set are all negative\n",
      "mean average precision for collaborative method is 0.024886198324415267\n",
      "mean average precision for gloabl method is 0.014362832245891459\n"
     ]
    }
   ],
   "source": [
    "print('there are {} users in the test set'.format(len(test_user_ids)))\n",
    "print('there are {} users whose ratings in the test set are all negative'.format(len(test_user_ids)-len(test_movie_ids)))\n",
    "print('mean average precision for collaborative method is {}'.format(sum(result1)/len(result1)))\n",
    "print('mean average precision for gloabl method is {}'.format(sum(result2)/len(result2)))"
   ]
  },
  {
   "cell_type": "markdown",
   "id": "985d3cc0",
   "metadata": {},
   "source": [
    "**Compute again the MAP@k, k=100 for the global recommender. This should agree with the result in Part 1.**"
   ]
  },
  {
   "cell_type": "code",
   "execution_count": null,
   "id": "4aef2b4b",
   "metadata": {
    "execution": {
     "iopub.execute_input": "2021-12-29T21:33:53.123851Z",
     "iopub.status.busy": "2021-12-29T21:33:53.113489Z",
     "iopub.status.idle": "2021-12-29T21:34:30.323002Z",
     "shell.execute_reply": "2021-12-29T21:34:30.322525Z",
     "shell.execute_reply.started": "2021-12-29T14:41:20.849819Z"
    },
    "gradient": {
     "execution_count": 21,
     "id": "4aef2b4b",
     "kernelId": "7d55c202-2481-41c4-8ec7-bc129758b225"
    },
    "papermill": {
     "duration": 39.524184,
     "end_time": "2021-12-29T21:34:30.323135",
     "exception": false,
     "start_time": "2021-12-29T21:33:50.798951",
     "status": "completed"
    },
    "tags": []
   },
   "outputs": [],
   "source": [
    "result=[]\n",
    "\n",
    "user_list=list(test_movie_ids.keys())\n",
    "\n",
    "for i in range(len(user_list)):\n",
    "    \n",
    "    user=user_list[i]\n",
    "    rel=test_movie_ids[user]\n",
    "\n",
    "    copy_dic=rank_dic.copy()\n",
    "    for ele in train_movie_ids[user]:\n",
    "        copy_dic.pop(ele)\n",
    "    pred=list(copy_dic.keys())\n",
    "    #print(len(pred))\n",
    "    result.append(average_precision_at_k(rel, pred, 100))"
   ]
  },
  {
   "cell_type": "code",
   "execution_count": null,
   "id": "d69e4c08",
   "metadata": {
    "execution": {
     "iopub.execute_input": "2021-12-29T21:34:34.826235Z",
     "iopub.status.busy": "2021-12-29T21:34:34.825481Z",
     "iopub.status.idle": "2021-12-29T21:34:34.828319Z",
     "shell.execute_reply": "2021-12-29T21:34:34.828766Z",
     "shell.execute_reply.started": "2021-12-29T14:41:20.851459Z"
    },
    "gradient": {
     "execution_count": 22,
     "id": "d69e4c08",
     "kernelId": "7d55c202-2481-41c4-8ec7-bc129758b225"
    },
    "papermill": {
     "duration": 2.030891,
     "end_time": "2021-12-29T21:34:34.828915",
     "exception": false,
     "start_time": "2021-12-29T21:34:32.798024",
     "status": "completed"
    },
    "tags": []
   },
   "outputs": [
    {
     "data": {
      "text/plain": [
       "0.013133213156647231"
      ]
     },
     "execution_count": 22,
     "metadata": {},
     "output_type": "execute_result"
    }
   ],
   "source": [
    "sum(result)/len(result)"
   ]
  }
 ],
 "metadata": {
  "kernelspec": {
   "display_name": "Python 3 (ipykernel)",
   "language": "python",
   "name": "python3"
  },
  "language_info": {
   "codemirror_mode": {
    "name": "ipython",
    "version": 3
   },
   "file_extension": ".py",
   "mimetype": "text/x-python",
   "name": "python",
   "nbconvert_exporter": "python",
   "pygments_lexer": "ipython3",
   "version": "3.8.10"
  },
  "papermill": {
   "default_parameters": {},
   "duration": 10227.171665,
   "end_time": "2021-12-29T21:34:44.045148",
   "environment_variables": {},
   "exception": null,
   "input_path": "__notebook__.ipynb",
   "output_path": "__notebook__.ipynb",
   "parameters": {},
   "start_time": "2021-12-29T18:44:16.873483",
   "version": "2.3.3"
  }
 },
 "nbformat": 4,
 "nbformat_minor": 5
}
