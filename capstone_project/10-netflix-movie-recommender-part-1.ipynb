{
 "cells": [
  {
   "cell_type": "markdown",
   "id": "c86deeaf",
   "metadata": {
    "gradient": {
     "editing": false,
     "id": "c86deeaf",
     "kernelId": "97f72fa4-7fd5-407b-9cf3-b4f4f8636b8a"
    },
    "papermill": {
     "duration": 0.048278,
     "end_time": "2021-12-29T02:40:18.349825",
     "exception": false,
     "start_time": "2021-12-29T02:40:18.301547",
     "status": "completed"
    },
    "tags": []
   },
   "source": [
    "# This project is based on the a mini project from Springboard ML Career Track bootcamp. Some part of the code is directly taken from there. In Part 1 of the project we build a very basic movie recommender using a global method, which means the predictions of the movie ratings will be exactly the same for all users."
   ]
  },
  {
   "cell_type": "markdown",
   "id": "bd6fb0d2",
   "metadata": {
    "gradient": {
     "editing": false,
     "id": "bd6fb0d2",
     "kernelId": "97f72fa4-7fd5-407b-9cf3-b4f4f8636b8a"
    },
    "papermill": {
     "duration": 0.044728,
     "end_time": "2021-12-29T02:40:18.443476",
     "exception": false,
     "start_time": "2021-12-29T02:40:18.398748",
     "status": "completed"
    },
    "tags": []
   },
   "source": [
    "## Import dependencies"
   ]
  },
  {
   "cell_type": "code",
   "execution_count": null,
   "id": "3c5fe3eb",
   "metadata": {
    "gradient": {
     "editing": false,
     "id": "3c5fe3eb",
     "kernelId": "97f72fa4-7fd5-407b-9cf3-b4f4f8636b8a"
    }
   },
   "outputs": [
    {
     "name": "stdout",
     "output_type": "stream",
     "text": [
      "Requirement already satisfied: pandas in /usr/local/lib/python3.8/dist-packages (1.3.5)\n",
      "Requirement already satisfied: python-dateutil>=2.7.3 in /usr/local/lib/python3.8/dist-packages (from pandas) (2.8.2)\n",
      "Requirement already satisfied: pytz>=2017.3 in /usr/local/lib/python3.8/dist-packages (from pandas) (2021.1)\n",
      "Requirement already satisfied: numpy>=1.17.3 in /usr/local/lib/python3.8/dist-packages (from pandas) (1.19.4)\n",
      "Requirement already satisfied: six>=1.5 in /usr/local/lib/python3.8/dist-packages (from python-dateutil>=2.7.3->pandas) (1.15.0)\n",
      "\u001b[33mWARNING: Running pip as the 'root' user can result in broken permissions and conflicting behaviour with the system package manager. It is recommended to use a virtual environment instead: https://pip.pypa.io/warnings/venv\u001b[0m\n",
      "\u001b[33mWARNING: You are using pip version 21.2.4; however, version 21.3.1 is available.\n",
      "You should consider upgrading via the '/usr/bin/python -m pip install --upgrade pip' command.\u001b[0m\n",
      "Requirement already satisfied: sklearn in /usr/local/lib/python3.8/dist-packages (0.0)\n",
      "Requirement already satisfied: scikit-learn in /usr/local/lib/python3.8/dist-packages (from sklearn) (1.0.2)\n",
      "Requirement already satisfied: scipy>=1.1.0 in /usr/local/lib/python3.8/dist-packages (from scikit-learn->sklearn) (1.4.1)\n",
      "Requirement already satisfied: threadpoolctl>=2.0.0 in /usr/local/lib/python3.8/dist-packages (from scikit-learn->sklearn) (3.0.0)\n",
      "Requirement already satisfied: numpy>=1.14.6 in /usr/local/lib/python3.8/dist-packages (from scikit-learn->sklearn) (1.19.4)\n",
      "Requirement already satisfied: joblib>=0.11 in /usr/local/lib/python3.8/dist-packages (from scikit-learn->sklearn) (1.1.0)\n",
      "\u001b[33mWARNING: Running pip as the 'root' user can result in broken permissions and conflicting behaviour with the system package manager. It is recommended to use a virtual environment instead: https://pip.pypa.io/warnings/venv\u001b[0m\n",
      "\u001b[33mWARNING: You are using pip version 21.2.4; however, version 21.3.1 is available.\n",
      "You should consider upgrading via the '/usr/bin/python -m pip install --upgrade pip' command.\u001b[0m\n",
      "Requirement already satisfied: seaborn in /usr/local/lib/python3.8/dist-packages (0.11.2)\n",
      "Requirement already satisfied: scipy>=1.0 in /usr/local/lib/python3.8/dist-packages (from seaborn) (1.4.1)\n",
      "Requirement already satisfied: numpy>=1.15 in /usr/local/lib/python3.8/dist-packages (from seaborn) (1.19.4)\n",
      "Requirement already satisfied: matplotlib>=2.2 in /usr/local/lib/python3.8/dist-packages (from seaborn) (3.5.1)\n",
      "Requirement already satisfied: pandas>=0.23 in /usr/local/lib/python3.8/dist-packages (from seaborn) (1.3.5)\n",
      "Requirement already satisfied: pillow>=6.2.0 in /usr/local/lib/python3.8/dist-packages (from matplotlib>=2.2->seaborn) (8.4.0)\n",
      "Requirement already satisfied: pyparsing>=2.2.1 in /usr/local/lib/python3.8/dist-packages (from matplotlib>=2.2->seaborn) (2.4.7)\n",
      "Requirement already satisfied: python-dateutil>=2.7 in /usr/local/lib/python3.8/dist-packages (from matplotlib>=2.2->seaborn) (2.8.2)\n",
      "Requirement already satisfied: packaging>=20.0 in /usr/local/lib/python3.8/dist-packages (from matplotlib>=2.2->seaborn) (21.0)\n",
      "Requirement already satisfied: cycler>=0.10 in /usr/local/lib/python3.8/dist-packages (from matplotlib>=2.2->seaborn) (0.11.0)\n",
      "Requirement already satisfied: kiwisolver>=1.0.1 in /usr/local/lib/python3.8/dist-packages (from matplotlib>=2.2->seaborn) (1.3.2)\n",
      "Requirement already satisfied: fonttools>=4.22.0 in /usr/local/lib/python3.8/dist-packages (from matplotlib>=2.2->seaborn) (4.28.5)\n",
      "Requirement already satisfied: pytz>=2017.3 in /usr/local/lib/python3.8/dist-packages (from pandas>=0.23->seaborn) (2021.1)\n",
      "Requirement already satisfied: six>=1.5 in /usr/local/lib/python3.8/dist-packages (from python-dateutil>=2.7->matplotlib>=2.2->seaborn) (1.15.0)\n",
      "\u001b[33mWARNING: Running pip as the 'root' user can result in broken permissions and conflicting behaviour with the system package manager. It is recommended to use a virtual environment instead: https://pip.pypa.io/warnings/venv\u001b[0m\n",
      "\u001b[33mWARNING: You are using pip version 21.2.4; however, version 21.3.1 is available.\n",
      "You should consider upgrading via the '/usr/bin/python -m pip install --upgrade pip' command.\u001b[0m\n"
     ]
    }
   ],
   "source": [
    "!pip3 install pandas\n",
    "!pip3 install sklearn\n",
    "!pip3 install seaborn"
   ]
  },
  {
   "cell_type": "code",
   "execution_count": null,
   "id": "15b846a6",
   "metadata": {
    "execution": {
     "iopub.execute_input": "2021-12-29T02:40:18.546390Z",
     "iopub.status.busy": "2021-12-29T02:40:18.545221Z",
     "iopub.status.idle": "2021-12-29T02:40:24.955469Z",
     "shell.execute_reply": "2021-12-29T02:40:24.954775Z",
     "shell.execute_reply.started": "2021-12-29T00:41:39.568708Z"
    },
    "gradient": {
     "editing": false,
     "id": "15b846a6",
     "kernelId": "97f72fa4-7fd5-407b-9cf3-b4f4f8636b8a"
    },
    "papermill": {
     "duration": 6.466144,
     "end_time": "2021-12-29T02:40:24.955636",
     "exception": false,
     "start_time": "2021-12-29T02:40:18.489492",
     "status": "completed"
    },
    "tags": []
   },
   "outputs": [],
   "source": [
    "import pickle\n",
    "\n",
    "# To store\\load the data\n",
    "import pandas as pd\n",
    "\n",
    "# To do linear algebra\n",
    "import numpy as np\n",
    "\n",
    "# To create plots\n",
    "import matplotlib.pyplot as plt\n",
    "import seaborn as sns\n",
    "\n",
    "\n",
    "# To compute similarities between vectors\n",
    "from sklearn.metrics import mean_squared_error, mean_absolute_error\n",
    "from sklearn.metrics.pairwise import cosine_similarity\n",
    "from sklearn.feature_extraction.text import TfidfVectorizer\n",
    "\n",
    "# data load progress bars\n",
    "from tqdm import tqdm\n",
    "\n",
    "from collections import deque\n",
    "\n",
    "# To create deep learning models\n",
    "import tensorflow as tf\n",
    "import keras\n",
    "from keras.layers import Input, Embedding, Reshape, Dot, Concatenate, Dense, Dropout\n",
    "from keras.models import Model\n",
    "\n",
    "# To stack sparse matrices\n",
    "from scipy.sparse import vstack\n",
    "import gc"
   ]
  },
  {
   "cell_type": "code",
   "execution_count": null,
   "id": "4dfb4bb6",
   "metadata": {
    "execution": {
     "iopub.execute_input": "2021-12-29T02:40:25.054772Z",
     "iopub.status.busy": "2021-12-29T02:40:25.053721Z",
     "iopub.status.idle": "2021-12-29T02:40:25.056631Z",
     "shell.execute_reply": "2021-12-29T02:40:25.056102Z",
     "shell.execute_reply.started": "2021-12-29T00:41:39.577888Z"
    },
    "gradient": {
     "editing": false,
     "id": "4dfb4bb6",
     "kernelId": "97f72fa4-7fd5-407b-9cf3-b4f4f8636b8a"
    },
    "papermill": {
     "duration": 0.054045,
     "end_time": "2021-12-29T02:40:25.056760",
     "exception": false,
     "start_time": "2021-12-29T02:40:25.002715",
     "status": "completed"
    },
    "tags": []
   },
   "outputs": [],
   "source": [
    "# filter out unncessary warnings\n",
    "import warnings\n",
    "warnings.filterwarnings('ignore')"
   ]
  },
  {
   "cell_type": "code",
   "execution_count": null,
   "id": "c1684e3b",
   "metadata": {
    "execution": {
     "iopub.execute_input": "2021-12-29T02:40:25.155011Z",
     "iopub.status.busy": "2021-12-29T02:40:25.154136Z",
     "iopub.status.idle": "2021-12-29T02:40:25.158242Z",
     "shell.execute_reply": "2021-12-29T02:40:25.157744Z",
     "shell.execute_reply.started": "2021-12-29T00:41:39.587367Z"
    },
    "gradient": {
     "id": "c1684e3b",
     "kernelId": "97f72fa4-7fd5-407b-9cf3-b4f4f8636b8a"
    },
    "papermill": {
     "duration": 0.055193,
     "end_time": "2021-12-29T02:40:25.158435",
     "exception": false,
     "start_time": "2021-12-29T02:40:25.103242",
     "status": "completed"
    },
    "tags": []
   },
   "outputs": [],
   "source": [
    "# remove unnecessary TF logs\n",
    "import logging\n",
    "tf.get_logger().setLevel(logging.ERROR)"
   ]
  },
  {
   "cell_type": "code",
   "execution_count": null,
   "id": "4cc6027a",
   "metadata": {
    "execution": {
     "iopub.execute_input": "2021-12-29T02:40:25.259198Z",
     "iopub.status.busy": "2021-12-29T02:40:25.257928Z",
     "iopub.status.idle": "2021-12-29T02:40:25.264329Z",
     "shell.execute_reply": "2021-12-29T02:40:25.263747Z",
     "shell.execute_reply.started": "2021-12-29T00:41:39.595857Z"
    },
    "gradient": {
     "editing": false,
     "id": "4cc6027a",
     "kernelId": "97f72fa4-7fd5-407b-9cf3-b4f4f8636b8a"
    },
    "papermill": {
     "duration": 0.05848,
     "end_time": "2021-12-29T02:40:25.264457",
     "exception": false,
     "start_time": "2021-12-29T02:40:25.205977",
     "status": "completed"
    },
    "tags": []
   },
   "outputs": [
    {
     "name": "stdout",
     "output_type": "stream",
     "text": [
      "TF Version: 2.6.0\n",
      "Keras Version: 2.6.0\n"
     ]
    }
   ],
   "source": [
    "# check keras and TF version used\n",
    "print('TF Version:', tf.__version__)\n",
    "print('Keras Version:', keras.__version__)\n",
    "# TF Version: 1.15.0\n",
    "# Keras Version: 2.2.5"
   ]
  },
  {
   "cell_type": "markdown",
   "id": "fc2e8402",
   "metadata": {
    "gradient": {
     "editing": false,
     "id": "fc2e8402",
     "kernelId": "97f72fa4-7fd5-407b-9cf3-b4f4f8636b8a"
    },
    "papermill": {
     "duration": 0.047856,
     "end_time": "2021-12-29T02:40:25.360670",
     "exception": false,
     "start_time": "2021-12-29T02:40:25.312814",
     "status": "completed"
    },
    "tags": []
   },
   "source": [
    "## Load datasets"
   ]
  },
  {
   "cell_type": "markdown",
   "id": "cba2b9da",
   "metadata": {
    "gradient": {
     "editing": false,
     "id": "cba2b9da",
     "kernelId": "97f72fa4-7fd5-407b-9cf3-b4f4f8636b8a"
    },
    "papermill": {
     "duration": 0.047821,
     "end_time": "2021-12-29T02:40:25.455418",
     "exception": false,
     "start_time": "2021-12-29T02:40:25.407597",
     "status": "completed"
    },
    "tags": []
   },
   "source": [
    "### load movie titles"
   ]
  },
  {
   "cell_type": "code",
   "execution_count": null,
   "id": "4efa7449",
   "metadata": {
    "execution": {
     "iopub.execute_input": "2021-12-29T02:40:25.555685Z",
     "iopub.status.busy": "2021-12-29T02:40:25.554932Z",
     "iopub.status.idle": "2021-12-29T02:40:25.621938Z",
     "shell.execute_reply": "2021-12-29T02:40:25.622555Z",
     "shell.execute_reply.started": "2021-12-29T00:41:39.606192Z"
    },
    "gradient": {
     "editing": false,
     "id": "4efa7449",
     "kernelId": "97f72fa4-7fd5-407b-9cf3-b4f4f8636b8a"
    },
    "papermill": {
     "duration": 0.119651,
     "end_time": "2021-12-29T02:40:25.622722",
     "exception": false,
     "start_time": "2021-12-29T02:40:25.503071",
     "status": "completed"
    },
    "tags": []
   },
   "outputs": [
    {
     "name": "stdout",
     "output_type": "stream",
     "text": [
      "Shape Movie-Titles:\t(17770, 2)\n"
     ]
    },
    {
     "data": {
      "text/html": [
       "<div>\n",
       "<style scoped>\n",
       "    .dataframe tbody tr th:only-of-type {\n",
       "        vertical-align: middle;\n",
       "    }\n",
       "\n",
       "    .dataframe tbody tr th {\n",
       "        vertical-align: top;\n",
       "    }\n",
       "\n",
       "    .dataframe thead th {\n",
       "        text-align: right;\n",
       "    }\n",
       "</style>\n",
       "<table border=\"1\" class=\"dataframe\">\n",
       "  <thead>\n",
       "    <tr style=\"text-align: right;\">\n",
       "      <th></th>\n",
       "      <th>Year</th>\n",
       "      <th>Name</th>\n",
       "    </tr>\n",
       "    <tr>\n",
       "      <th>Id</th>\n",
       "      <th></th>\n",
       "      <th></th>\n",
       "    </tr>\n",
       "  </thead>\n",
       "  <tbody>\n",
       "    <tr>\n",
       "      <th>1</th>\n",
       "      <td>2003.0</td>\n",
       "      <td>Dinosaur Planet</td>\n",
       "    </tr>\n",
       "    <tr>\n",
       "      <th>2</th>\n",
       "      <td>2004.0</td>\n",
       "      <td>Isle of Man TT 2004 Review</td>\n",
       "    </tr>\n",
       "    <tr>\n",
       "      <th>3</th>\n",
       "      <td>1997.0</td>\n",
       "      <td>Character</td>\n",
       "    </tr>\n",
       "    <tr>\n",
       "      <th>4</th>\n",
       "      <td>1994.0</td>\n",
       "      <td>Paula Abdul's Get Up &amp; Dance</td>\n",
       "    </tr>\n",
       "    <tr>\n",
       "      <th>5</th>\n",
       "      <td>2004.0</td>\n",
       "      <td>The Rise and Fall of ECW</td>\n",
       "    </tr>\n",
       "  </tbody>\n",
       "</table>\n",
       "</div>"
      ],
      "text/plain": [
       "      Year                          Name\n",
       "Id                                      \n",
       "1   2003.0               Dinosaur Planet\n",
       "2   2004.0    Isle of Man TT 2004 Review\n",
       "3   1997.0                     Character\n",
       "4   1994.0  Paula Abdul's Get Up & Dance\n",
       "5   2004.0      The Rise and Fall of ECW"
      ]
     },
     "execution_count": 6,
     "metadata": {},
     "output_type": "execute_result"
    }
   ],
   "source": [
    "# Load data for all movies\n",
    "movie_titles = pd.read_csv('movie_titles.csv',\n",
    "                           encoding = 'ISO-8859-1', \n",
    "                           # we need header=None because the first row of the csv file is not header but actual data \n",
    "                           header = None, \n",
    "                           names = ['Id', 'Year', 'Name']).set_index('Id')\n",
    "\n",
    "print('Shape Movie-Titles:\\t{}'.format(movie_titles.shape))\n",
    "movie_titles.head(5)"
   ]
  },
  {
   "cell_type": "markdown",
   "id": "f32fbdc9",
   "metadata": {
    "gradient": {
     "editing": false,
     "id": "f32fbdc9",
     "kernelId": "97f72fa4-7fd5-407b-9cf3-b4f4f8636b8a"
    },
    "papermill": {
     "duration": 0.046863,
     "end_time": "2021-12-29T02:40:25.716944",
     "exception": false,
     "start_time": "2021-12-29T02:40:25.670081",
     "status": "completed"
    },
    "tags": []
   },
   "source": [
    "### load user-movie ratings"
   ]
  },
  {
   "cell_type": "code",
   "execution_count": null,
   "id": "d68e89c2",
   "metadata": {
    "gradient": {
     "editing": false,
     "id": "d68e89c2",
     "kernelId": "97f72fa4-7fd5-407b-9cf3-b4f4f8636b8a"
    }
   },
   "outputs": [],
   "source": [
    "# Load single data-file\n",
    "df_raw_1 = pd.read_csv('combined_data_1.txt', \n",
    "                     header=None, \n",
    "                     names=['User', 'Rating', 'Date'], \n",
    "                     usecols=[0, 1, 2])\n",
    "\n",
    "df_raw_2 = pd.read_csv('combined_data_2.txt', \n",
    "                     header=None, \n",
    "                     names=['User', 'Rating', 'Date'], \n",
    "                     usecols=[0, 1, 2])\n",
    "\n",
    "df_raw = pd.concat([df_raw_1, df_raw_2])\n",
    "\n",
    "del df_raw_1, df_raw_2\n",
    "_=gc.collect()\n",
    "\n",
    "df_raw_3 = pd.read_csv('combined_data_3.txt', \n",
    "                     header=None, \n",
    "                     names=['User', 'Rating', 'Date'], \n",
    "                     usecols=[0, 1, 2])\n",
    "\n",
    "df_raw = pd.concat([df_raw, df_raw_3])\n",
    "\n",
    "del df_raw_3\n",
    "_=gc.collect()\n",
    "\n",
    "df_raw_4 = pd.read_csv('combined_data_4.txt', \n",
    "                     header=None, \n",
    "                     names=['User', 'Rating', 'Date'], \n",
    "                     usecols=[0, 1, 2])\n",
    "\n",
    "df_raw = pd.concat([df_raw, df_raw_4]).reset_index(drop=True)\n",
    "\n",
    "del df_raw_4\n",
    "_=gc.collect()"
   ]
  },
  {
   "cell_type": "code",
   "execution_count": null,
   "id": "08f1def6",
   "metadata": {
    "gradient": {
     "editing": false,
     "id": "08f1def6",
     "kernelId": "97f72fa4-7fd5-407b-9cf3-b4f4f8636b8a"
    }
   },
   "outputs": [
    {
     "data": {
      "text/plain": [
       "(100498277, 3)"
      ]
     },
     "execution_count": 8,
     "metadata": {},
     "output_type": "execute_result"
    }
   ],
   "source": [
    "df_raw.shape"
   ]
  },
  {
   "cell_type": "markdown",
   "id": "e126e7a0",
   "metadata": {
    "gradient": {
     "editing": false,
     "id": "e126e7a0",
     "kernelId": "97f72fa4-7fd5-407b-9cf3-b4f4f8636b8a"
    },
    "papermill": {
     "duration": 0.050358,
     "end_time": "2021-12-29T02:41:15.385232",
     "exception": false,
     "start_time": "2021-12-29T02:41:15.334874",
     "status": "completed"
    },
    "tags": []
   },
   "source": [
    "###  get the desired format"
   ]
  },
  {
   "cell_type": "code",
   "execution_count": null,
   "id": "8fbd4abe",
   "metadata": {
    "execution": {
     "iopub.execute_input": "2021-12-29T02:41:15.494564Z",
     "iopub.status.busy": "2021-12-29T02:41:15.493297Z",
     "iopub.status.idle": "2021-12-29T02:41:40.513560Z",
     "shell.execute_reply": "2021-12-29T02:41:40.512534Z",
     "shell.execute_reply.started": "2021-12-29T00:42:18.798342Z"
    },
    "gradient": {
     "editing": false,
     "id": "8fbd4abe",
     "kernelId": "97f72fa4-7fd5-407b-9cf3-b4f4f8636b8a"
    },
    "papermill": {
     "duration": 25.07836,
     "end_time": "2021-12-29T02:41:40.513717",
     "exception": false,
     "start_time": "2021-12-29T02:41:15.435357",
     "status": "completed"
    },
    "tags": []
   },
   "outputs": [
    {
     "name": "stdout",
     "output_type": "stream",
     "text": [
      "Shape User-Ratings:\t(100480507, 4)\n"
     ]
    },
    {
     "data": {
      "text/html": [
       "<div>\n",
       "<style scoped>\n",
       "    .dataframe tbody tr th:only-of-type {\n",
       "        vertical-align: middle;\n",
       "    }\n",
       "\n",
       "    .dataframe tbody tr th {\n",
       "        vertical-align: top;\n",
       "    }\n",
       "\n",
       "    .dataframe thead th {\n",
       "        text-align: right;\n",
       "    }\n",
       "</style>\n",
       "<table border=\"1\" class=\"dataframe\">\n",
       "  <thead>\n",
       "    <tr style=\"text-align: right;\">\n",
       "      <th></th>\n",
       "      <th>User</th>\n",
       "      <th>Rating</th>\n",
       "      <th>Date</th>\n",
       "      <th>Movie</th>\n",
       "    </tr>\n",
       "  </thead>\n",
       "  <tbody>\n",
       "    <tr>\n",
       "      <th>89861726</th>\n",
       "      <td>2301123</td>\n",
       "      <td>4.0</td>\n",
       "      <td>2005-02-04</td>\n",
       "      <td>15956</td>\n",
       "    </tr>\n",
       "    <tr>\n",
       "      <th>96131834</th>\n",
       "      <td>2472682</td>\n",
       "      <td>3.0</td>\n",
       "      <td>2004-10-21</td>\n",
       "      <td>17031</td>\n",
       "    </tr>\n",
       "    <tr>\n",
       "      <th>96157500</th>\n",
       "      <td>775886</td>\n",
       "      <td>4.0</td>\n",
       "      <td>2004-09-02</td>\n",
       "      <td>17050</td>\n",
       "    </tr>\n",
       "    <tr>\n",
       "      <th>50893769</th>\n",
       "      <td>779137</td>\n",
       "      <td>5.0</td>\n",
       "      <td>2005-02-06</td>\n",
       "      <td>9189</td>\n",
       "    </tr>\n",
       "    <tr>\n",
       "      <th>55590160</th>\n",
       "      <td>973407</td>\n",
       "      <td>5.0</td>\n",
       "      <td>2004-08-20</td>\n",
       "      <td>10162</td>\n",
       "    </tr>\n",
       "    <tr>\n",
       "      <th>77958344</th>\n",
       "      <td>1368024</td>\n",
       "      <td>5.0</td>\n",
       "      <td>2005-05-01</td>\n",
       "      <td>14185</td>\n",
       "    </tr>\n",
       "    <tr>\n",
       "      <th>81281694</th>\n",
       "      <td>1676166</td>\n",
       "      <td>3.0</td>\n",
       "      <td>2002-04-07</td>\n",
       "      <td>14590</td>\n",
       "    </tr>\n",
       "    <tr>\n",
       "      <th>66253502</th>\n",
       "      <td>2170878</td>\n",
       "      <td>5.0</td>\n",
       "      <td>2004-05-12</td>\n",
       "      <td>12102</td>\n",
       "    </tr>\n",
       "    <tr>\n",
       "      <th>13396982</th>\n",
       "      <td>2256731</td>\n",
       "      <td>2.0</td>\n",
       "      <td>2004-10-30</td>\n",
       "      <td>2565</td>\n",
       "    </tr>\n",
       "    <tr>\n",
       "      <th>95819001</th>\n",
       "      <td>453098</td>\n",
       "      <td>5.0</td>\n",
       "      <td>2005-07-28</td>\n",
       "      <td>16977</td>\n",
       "    </tr>\n",
       "  </tbody>\n",
       "</table>\n",
       "</div>"
      ],
      "text/plain": [
       "             User  Rating        Date  Movie\n",
       "89861726  2301123     4.0  2005-02-04  15956\n",
       "96131834  2472682     3.0  2004-10-21  17031\n",
       "96157500   775886     4.0  2004-09-02  17050\n",
       "50893769   779137     5.0  2005-02-06   9189\n",
       "55590160   973407     5.0  2004-08-20  10162\n",
       "77958344  1368024     5.0  2005-05-01  14185\n",
       "81281694  1676166     3.0  2002-04-07  14590\n",
       "66253502  2170878     5.0  2004-05-12  12102\n",
       "13396982  2256731     2.0  2004-10-30   2565\n",
       "95819001   453098     5.0  2005-07-28  16977"
      ]
     },
     "metadata": {},
     "output_type": "display_data"
    }
   ],
   "source": [
    "# Find rows in the format of \"1: NaN NaN\" that label the start of a new movie\n",
    "tmp_movies = df_raw[df_raw['Rating'].isna()]['User'].reset_index() # make the original index a new column\n",
    "movie_indices = [[index, int(movie[:-1])] for index, movie in tmp_movies.values]\n",
    "\n",
    "# Shift the movie_indices by one to get start and end row indices of all movies\n",
    "shifted_movie_indices = deque(movie_indices)\n",
    "shifted_movie_indices.rotate(-1)\n",
    "\n",
    "# Gather all dataframes\n",
    "user_data = []\n",
    "\n",
    "# Iterate over all movies\n",
    "for [df_id_1, movie_id], [df_id_2, next_movie_id] in zip(movie_indices, shifted_movie_indices):\n",
    "    \n",
    "    # Check if it is the last movie in the file\n",
    "    if df_id_1<df_id_2:\n",
    "        tmp_df = df_raw.loc[df_id_1+1:df_id_2-1].copy()\n",
    "    else:\n",
    "        tmp_df = df_raw.loc[df_id_1+1:].copy()\n",
    "        \n",
    "    # Create movie_id column\n",
    "    tmp_df['Movie'] = movie_id\n",
    "    \n",
    "    # Append dataframe to list\n",
    "    user_data.append(tmp_df)\n",
    "\n",
    "# Combine all dataframes\n",
    "df = pd.concat(user_data)\n",
    "print('Shape User-Ratings:\\t{}'.format(df.shape))\n",
    "display(df.sample(10))\n",
    "\n",
    "del user_data, df_raw, tmp_movies, tmp_df, shifted_movie_indices, movie_indices, df_id_1, movie_id, df_id_2, next_movie_id"
   ]
  },
  {
   "cell_type": "markdown",
   "id": "6d704267",
   "metadata": {
    "gradient": {
     "editing": false,
     "id": "6d704267",
     "kernelId": "97f72fa4-7fd5-407b-9cf3-b4f4f8636b8a"
    },
    "papermill": {
     "duration": 0.048519,
     "end_time": "2021-12-29T02:41:40.611640",
     "exception": false,
     "start_time": "2021-12-29T02:41:40.563121",
     "status": "completed"
    },
    "tags": []
   },
   "source": [
    "## EDA"
   ]
  },
  {
   "cell_type": "markdown",
   "id": "64f4420d",
   "metadata": {
    "gradient": {
     "editing": false,
     "id": "64f4420d",
     "kernelId": "97f72fa4-7fd5-407b-9cf3-b4f4f8636b8a"
    },
    "papermill": {
     "duration": 0.048933,
     "end_time": "2021-12-29T02:41:40.709944",
     "exception": false,
     "start_time": "2021-12-29T02:41:40.661011",
     "status": "completed"
    },
    "tags": []
   },
   "source": [
    "### movie release year"
   ]
  },
  {
   "cell_type": "code",
   "execution_count": null,
   "id": "8550f7dc",
   "metadata": {
    "execution": {
     "iopub.execute_input": "2021-12-29T02:41:40.818953Z",
     "iopub.status.busy": "2021-12-29T02:41:40.817800Z",
     "iopub.status.idle": "2021-12-29T02:41:41.658974Z",
     "shell.execute_reply": "2021-12-29T02:41:41.658297Z",
     "shell.execute_reply.started": "2021-12-29T00:42:40.165856Z"
    },
    "gradient": {
     "editing": false,
     "id": "8550f7dc",
     "kernelId": "97f72fa4-7fd5-407b-9cf3-b4f4f8636b8a"
    },
    "papermill": {
     "duration": 0.901391,
     "end_time": "2021-12-29T02:41:41.659136",
     "exception": false,
     "start_time": "2021-12-29T02:41:40.757745",
     "status": "completed"
    },
    "tags": []
   },
   "outputs": [
    {
     "data": {
      "image/png": "[encoded data removed]",
      "text/plain": [
       "<Figure size 1008x432 with 1 Axes>"
      ]
     },
     "metadata": {
      "needs_background": "light"
     },
     "output_type": "display_data"
    }
   ],
   "source": [
    "fig, ax = plt.subplots(1, 1, figsize=(14, 6))\n",
    "\n",
    "data = movie_titles['Year'].value_counts().sort_index()\n",
    "x = data.index.map(int)\n",
    "y = data.values\n",
    "\n",
    "sns.barplot(x, y)\n",
    "xmin, xmax = plt.xlim()\n",
    "xtick_labels = [x[0]] + list(x[10:-10:10]) + [x[-1]]\n",
    "plt.xticks(ticks=np.linspace(xmin, xmax, 10), labels=xtick_labels);\n",
    "\n",
    "del fig, ax, data, x, y, xmin, xmax, xtick_labels"
   ]
  },
  {
   "cell_type": "markdown",
   "id": "2b94dfdd",
   "metadata": {
    "gradient": {
     "editing": false,
     "id": "2b94dfdd",
     "kernelId": "97f72fa4-7fd5-407b-9cf3-b4f4f8636b8a"
    },
    "papermill": {
     "duration": 0.050982,
     "end_time": "2021-12-29T02:41:41.763107",
     "exception": false,
     "start_time": "2021-12-29T02:41:41.712125",
     "status": "completed"
    },
    "tags": []
   },
   "source": [
    "### distribution of ratings"
   ]
  },
  {
   "cell_type": "code",
   "execution_count": null,
   "id": "13d821d3",
   "metadata": {
    "execution": {
     "iopub.execute_input": "2021-12-29T02:41:42.418185Z",
     "iopub.status.busy": "2021-12-29T02:41:41.891786Z",
     "iopub.status.idle": "2021-12-29T02:41:42.630355Z",
     "shell.execute_reply": "2021-12-29T02:41:42.630982Z",
     "shell.execute_reply.started": "2021-12-29T00:42:40.783254Z"
    },
    "gradient": {
     "editing": false,
     "id": "13d821d3",
     "kernelId": "97f72fa4-7fd5-407b-9cf3-b4f4f8636b8a"
    },
    "papermill": {
     "duration": 0.81581,
     "end_time": "2021-12-29T02:41:42.631139",
     "exception": false,
     "start_time": "2021-12-29T02:41:41.815329",
     "status": "completed"
    },
    "tags": []
   },
   "outputs": [
    {
     "data": {
      "image/png": "[encoded data removed]",
      "text/plain": [
       "<Figure size 720x360 with 1 Axes>"
      ]
     },
     "metadata": {
      "needs_background": "light"
     },
     "output_type": "display_data"
    }
   ],
   "source": [
    "fig, ax = plt.subplots(1, 1, figsize=(10, 5))\n",
    "\n",
    "data = df['Rating'].value_counts().sort_index()\n",
    "x = data.index.map(int)\n",
    "y = data.values\n",
    "\n",
    "sns.barplot(x, y)\n",
    "xmin, xmax = plt.xlim()\n",
    "plt.xticks(ticks=[0,1,2,3,4,5]);\n",
    "\n",
    "del fig, ax, data, x, y, xmin, xmax"
   ]
  },
  {
   "cell_type": "markdown",
   "id": "91f71ea2",
   "metadata": {
    "gradient": {
     "editing": false,
     "id": "91f71ea2",
     "kernelId": "97f72fa4-7fd5-407b-9cf3-b4f4f8636b8a"
    },
    "papermill": {
     "duration": 0.049592,
     "end_time": "2021-12-29T02:41:42.730802",
     "exception": false,
     "start_time": "2021-12-29T02:41:42.681210",
     "status": "completed"
    },
    "tags": []
   },
   "source": [
    "**it seems that users tend to give good ratings**"
   ]
  },
  {
   "cell_type": "markdown",
   "id": "e139afcb",
   "metadata": {
    "gradient": {
     "editing": false,
     "id": "e139afcb",
     "kernelId": "97f72fa4-7fd5-407b-9cf3-b4f4f8636b8a"
    },
    "papermill": {
     "duration": 0.051449,
     "end_time": "2021-12-29T02:41:42.832904",
     "exception": false,
     "start_time": "2021-12-29T02:41:42.781455",
     "status": "completed"
    },
    "tags": []
   },
   "source": [
    "### distribution of number of ratings movies receive"
   ]
  },
  {
   "cell_type": "code",
   "execution_count": null,
   "id": "23380a69",
   "metadata": {
    "execution": {
     "iopub.execute_input": "2021-12-29T02:41:42.954674Z",
     "iopub.status.busy": "2021-12-29T02:41:42.953205Z",
     "iopub.status.idle": "2021-12-29T02:41:44.644685Z",
     "shell.execute_reply": "2021-12-29T02:41:44.643732Z",
     "shell.execute_reply.started": "2021-12-29T00:42:41.437479Z"
    },
    "gradient": {
     "editing": false,
     "id": "23380a69",
     "kernelId": "97f72fa4-7fd5-407b-9cf3-b4f4f8636b8a"
    },
    "papermill": {
     "duration": 1.761613,
     "end_time": "2021-12-29T02:41:44.644824",
     "exception": false,
     "start_time": "2021-12-29T02:41:42.883211",
     "status": "completed"
    },
    "tags": []
   },
   "outputs": [
    {
     "data": {
      "image/png": "[encoded data removed]",
      "text/plain": [
       "<Figure size 1008x432 with 2 Axes>"
      ]
     },
     "metadata": {
      "needs_background": "light"
     },
     "output_type": "display_data"
    }
   ],
   "source": [
    "fig, ax = plt.subplots(1, 2, figsize=(14, 6))\n",
    "\n",
    "data = df.groupby('Movie')['Rating'].count()\n",
    "sns.distplot(data[data  < 10000], kde=False, ax=ax[0], bins=[i for i in range(0,10000,200)]);\n",
    "sns.distplot(data[data  > 10000], kde=False, ax=ax[1], bins=[i for i in range(10000,150000,5000)]);\n",
    "\n",
    "del fig, ax, data"
   ]
  },
  {
   "cell_type": "markdown",
   "id": "1e331acf",
   "metadata": {
    "gradient": {
     "editing": false,
     "id": "1e331acf",
     "kernelId": "97f72fa4-7fd5-407b-9cf3-b4f4f8636b8a"
    },
    "papermill": {
     "duration": 0.050219,
     "end_time": "2021-12-29T02:41:44.745322",
     "exception": false,
     "start_time": "2021-12-29T02:41:44.695103",
     "status": "completed"
    },
    "tags": []
   },
   "source": [
    "**looks like exponential decay**"
   ]
  },
  {
   "cell_type": "markdown",
   "id": "fcd1f0b0",
   "metadata": {
    "gradient": {
     "editing": false,
     "id": "fcd1f0b0",
     "kernelId": "97f72fa4-7fd5-407b-9cf3-b4f4f8636b8a"
    },
    "papermill": {
     "duration": 0.050174,
     "end_time": "2021-12-29T02:41:44.846823",
     "exception": false,
     "start_time": "2021-12-29T02:41:44.796649",
     "status": "completed"
    },
    "tags": []
   },
   "source": [
    "## distribution of ratings users give"
   ]
  },
  {
   "cell_type": "code",
   "execution_count": null,
   "id": "aa0a19dc",
   "metadata": {
    "execution": {
     "iopub.execute_input": "2021-12-29T02:41:44.988787Z",
     "iopub.status.busy": "2021-12-29T02:41:44.982537Z",
     "iopub.status.idle": "2021-12-29T02:41:57.250163Z",
     "shell.execute_reply": "2021-12-29T02:41:57.249393Z",
     "shell.execute_reply.started": "2021-12-29T00:42:43.169536Z"
    },
    "gradient": {
     "editing": false,
     "id": "aa0a19dc",
     "kernelId": "97f72fa4-7fd5-407b-9cf3-b4f4f8636b8a"
    },
    "papermill": {
     "duration": 12.352865,
     "end_time": "2021-12-29T02:41:57.250395",
     "exception": false,
     "start_time": "2021-12-29T02:41:44.897530",
     "status": "completed"
    },
    "tags": []
   },
   "outputs": [
    {
     "data": {
      "image/png": "[encoded data removed]",
      "text/plain": [
       "<Figure size 1008x432 with 2 Axes>"
      ]
     },
     "metadata": {
      "needs_background": "light"
     },
     "output_type": "display_data"
    }
   ],
   "source": [
    "fig, ax = plt.subplots(1, 2, figsize=(14, 6))\n",
    "\n",
    "data = df.groupby('User')['Rating'].count()\n",
    "sns.distplot(data[data  < 200], kde=False, ax=ax[0]);\n",
    "sns.distplot(data[data  > 200], kde=False, ax=ax[1], bins=[i for i in range(100,1000,20)]);\n",
    "\n",
    "del fig, ax, data"
   ]
  },
  {
   "cell_type": "markdown",
   "id": "d3c06284",
   "metadata": {
    "gradient": {
     "editing": false,
     "id": "d3c06284",
     "kernelId": "97f72fa4-7fd5-407b-9cf3-b4f4f8636b8a"
    },
    "papermill": {
     "duration": 0.052777,
     "end_time": "2021-12-29T02:41:57.356035",
     "exception": false,
     "start_time": "2021-12-29T02:41:57.303258",
     "status": "completed"
    },
    "tags": []
   },
   "source": [
    "**also looks like exponential decay**"
   ]
  },
  {
   "cell_type": "markdown",
   "id": "f94fa27a",
   "metadata": {
    "gradient": {
     "editing": false,
     "id": "f94fa27a",
     "kernelId": "97f72fa4-7fd5-407b-9cf3-b4f4f8636b8a"
    },
    "papermill": {
     "duration": 0.051857,
     "end_time": "2021-12-29T02:41:57.460598",
     "exception": false,
     "start_time": "2021-12-29T02:41:57.408741",
     "status": "completed"
    },
    "tags": []
   },
   "source": [
    "## Filter out rarely rated movies and users who don't give enough ratings"
   ]
  },
  {
   "cell_type": "code",
   "execution_count": null,
   "id": "4928d8d3",
   "metadata": {
    "execution": {
     "iopub.execute_input": "2021-12-29T02:41:57.972356Z",
     "iopub.status.busy": "2021-12-29T02:41:57.971017Z",
     "iopub.status.idle": "2021-12-29T02:42:26.027570Z",
     "shell.execute_reply": "2021-12-29T02:42:26.028468Z",
     "shell.execute_reply.started": "2021-12-29T00:42:57.911284Z"
    },
    "gradient": {
     "editing": false,
     "id": "4928d8d3",
     "kernelId": "97f72fa4-7fd5-407b-9cf3-b4f4f8636b8a"
    },
    "papermill": {
     "duration": 28.516964,
     "end_time": "2021-12-29T02:42:26.028682",
     "exception": false,
     "start_time": "2021-12-29T02:41:57.511718",
     "status": "completed"
    },
    "tags": []
   },
   "outputs": [
    {
     "name": "stdout",
     "output_type": "stream",
     "text": [
      "Shape User-Ratings unfiltered:\t(100480507, 4)\n",
      "Shape User-Ratings filtered:\t(75010415, 4)\n"
     ]
    }
   ],
   "source": [
    "# Filter sparse movies\n",
    "min_movie_ratings = 1000\n",
    "filter_movies = (df['Movie'].value_counts()>min_movie_ratings)\n",
    "filter_movies = filter_movies[filter_movies].index.tolist()\n",
    "\n",
    "# Filter sparse users\n",
    "min_user_ratings = 200\n",
    "filter_users = (df['User'].value_counts()>min_user_ratings)\n",
    "filter_users = filter_users[filter_users].index.tolist()\n",
    "\n",
    "# Actual filtering\n",
    "df_filtered = df[(df['Movie'].isin(filter_movies)) & (df['User'].isin(filter_users))]\n",
    "\n",
    "print('Shape User-Ratings unfiltered:\\t{}'.format(df.shape))\n",
    "print('Shape User-Ratings filtered:\\t{}'.format(df_filtered.shape))\n",
    "\n",
    "del df, filter_movies, filter_users, min_movie_ratings, min_user_ratings"
   ]
  },
  {
   "cell_type": "markdown",
   "id": "07d5ce31",
   "metadata": {
    "gradient": {
     "editing": false,
     "id": "07d5ce31",
     "kernelId": "97f72fa4-7fd5-407b-9cf3-b4f4f8636b8a"
    },
    "papermill": {
     "duration": 0.054391,
     "end_time": "2021-12-29T02:42:26.136937",
     "exception": false,
     "start_time": "2021-12-29T02:42:26.082546",
     "status": "completed"
    },
    "tags": []
   },
   "source": [
    "## split train, cross validation and test sets"
   ]
  },
  {
   "cell_type": "code",
   "execution_count": null,
   "id": "ad0b030f",
   "metadata": {
    "execution": {
     "iopub.execute_input": "2021-12-29T02:42:26.255045Z",
     "iopub.status.busy": "2021-12-29T02:42:26.253699Z",
     "iopub.status.idle": "2021-12-29T02:42:40.859705Z",
     "shell.execute_reply": "2021-12-29T02:42:40.858773Z",
     "shell.execute_reply.started": "2021-12-29T00:43:28.556198Z"
    },
    "gradient": {
     "editing": false,
     "id": "ad0b030f",
     "kernelId": "97f72fa4-7fd5-407b-9cf3-b4f4f8636b8a"
    },
    "papermill": {
     "duration": 14.668027,
     "end_time": "2021-12-29T02:42:40.859848",
     "exception": false,
     "start_time": "2021-12-29T02:42:26.191821",
     "status": "completed"
    },
    "tags": []
   },
   "outputs": [],
   "source": [
    "df_filtered = df_filtered.drop('Date', axis=1).sample(frac=1, random_state=7).reset_index(drop=True)\n",
    "\n",
    "# splits\n",
    "split3 = df_filtered.shape[0]-1000000\n",
    "split2 = split3-100000\n",
    "split1 = split2-100000\n",
    "\n",
    "# Split train, val & test sets\n",
    "df_train = df_filtered[:split1]\n",
    "df_val = df_filtered[split1:split2]\n",
    "df_test = df_filtered[split2:split3]\n",
    "df_stacking = df_filtered[split3:]\n",
    "\n",
    "# don't delete df_filtered yet"
   ]
  },
  {
   "cell_type": "code",
   "execution_count": null,
   "id": "72103b34",
   "metadata": {
    "gradient": {
     "editing": false,
     "id": "72103b34",
     "kernelId": "97f72fa4-7fd5-407b-9cf3-b4f4f8636b8a"
    }
   },
   "outputs": [],
   "source": [
    "df_train.shape, df_val.shape, df_test.shape, df_stacking.shape"
   ]
  },
  {
   "cell_type": "markdown",
   "id": "c41f093a",
   "metadata": {
    "gradient": {
     "editing": false,
     "id": "c41f093a",
     "kernelId": "97f72fa4-7fd5-407b-9cf3-b4f4f8636b8a"
    },
    "papermill": {
     "duration": 0.051418,
     "end_time": "2021-12-29T02:42:41.077696",
     "exception": false,
     "start_time": "2021-12-29T02:42:41.026278",
     "status": "completed"
    },
    "tags": []
   },
   "source": [
    "### check if all users are included in the training set"
   ]
  },
  {
   "cell_type": "code",
   "execution_count": null,
   "id": "1d56cc1f",
   "metadata": {
    "execution": {
     "iopub.execute_input": "2021-12-29T02:42:47.446855Z",
     "iopub.status.busy": "2021-12-29T02:42:47.445330Z",
     "iopub.status.idle": "2021-12-29T02:43:02.939167Z",
     "shell.execute_reply": "2021-12-29T02:43:02.938685Z",
     "shell.execute_reply.started": "2021-12-29T00:43:45.513876Z"
    },
    "gradient": {
     "editing": false,
     "id": "1d56cc1f",
     "kernelId": "97f72fa4-7fd5-407b-9cf3-b4f4f8636b8a"
    },
    "papermill": {
     "duration": 21.810564,
     "end_time": "2021-12-29T02:43:02.939356",
     "exception": false,
     "start_time": "2021-12-29T02:42:41.128792",
     "status": "completed"
    },
    "tags": []
   },
   "outputs": [
    {
     "data": {
      "text/plain": [
       "(150245, 150245)"
      ]
     },
     "execution_count": 17,
     "metadata": {},
     "output_type": "execute_result"
    }
   ],
   "source": [
    "df_filtered['User'].unique().shape[0], df_train['User'].unique().shape[0]"
   ]
  },
  {
   "cell_type": "markdown",
   "id": "057e5d4e",
   "metadata": {
    "gradient": {
     "editing": false,
     "id": "057e5d4e",
     "kernelId": "97f72fa4-7fd5-407b-9cf3-b4f4f8636b8a"
    },
    "papermill": {
     "duration": 0.05081,
     "end_time": "2021-12-29T02:43:03.042983",
     "exception": false,
     "start_time": "2021-12-29T02:43:02.992173",
     "status": "completed"
    },
    "tags": []
   },
   "source": [
    "### check if all movies are included in the training set"
   ]
  },
  {
   "cell_type": "code",
   "execution_count": null,
   "id": "61e6dc3f",
   "metadata": {
    "execution": {
     "iopub.execute_input": "2021-12-29T02:43:03.154462Z",
     "iopub.status.busy": "2021-12-29T02:43:03.153368Z",
     "iopub.status.idle": "2021-12-29T02:43:03.650839Z",
     "shell.execute_reply": "2021-12-29T02:43:03.651385Z",
     "shell.execute_reply.started": "2021-12-29T00:44:08.295587Z"
    },
    "gradient": {
     "editing": false,
     "id": "61e6dc3f",
     "kernelId": "97f72fa4-7fd5-407b-9cf3-b4f4f8636b8a"
    },
    "papermill": {
     "duration": 0.556067,
     "end_time": "2021-12-29T02:43:03.651571",
     "exception": false,
     "start_time": "2021-12-29T02:43:03.095504",
     "status": "completed"
    },
    "tags": []
   },
   "outputs": [
    {
     "data": {
      "text/plain": [
       "(7125, 7125)"
      ]
     },
     "execution_count": 18,
     "metadata": {},
     "output_type": "execute_result"
    }
   ],
   "source": [
    "df_filtered['Movie'].unique().shape[0], df_train['Movie'].unique().shape[0]"
   ]
  },
  {
   "cell_type": "markdown",
   "id": "d025f0f6",
   "metadata": {
    "gradient": {
     "editing": false,
     "id": "d025f0f6",
     "kernelId": "97f72fa4-7fd5-407b-9cf3-b4f4f8636b8a"
    },
    "papermill": {
     "duration": 0.051602,
     "end_time": "2021-12-29T02:43:03.756113",
     "exception": false,
     "start_time": "2021-12-29T02:43:03.704511",
     "status": "completed"
    },
    "tags": []
   },
   "source": [
    "**delete df_filtered now to save memory**"
   ]
  },
  {
   "cell_type": "code",
   "execution_count": null,
   "id": "f198f20f",
   "metadata": {
    "execution": {
     "iopub.execute_input": "2021-12-29T02:43:04.228831Z",
     "iopub.status.busy": "2021-12-29T02:43:03.969396Z",
     "iopub.status.idle": "2021-12-29T02:43:04.233142Z",
     "shell.execute_reply": "2021-12-29T02:43:04.234495Z",
     "shell.execute_reply.started": "2021-12-29T00:44:08.627314Z"
    },
    "gradient": {
     "editing": false,
     "id": "f198f20f",
     "kernelId": "97f72fa4-7fd5-407b-9cf3-b4f4f8636b8a"
    },
    "papermill": {
     "duration": 0.374883,
     "end_time": "2021-12-29T02:43:04.234763",
     "exception": false,
     "start_time": "2021-12-29T02:43:03.859880",
     "status": "completed"
    },
    "tags": []
   },
   "outputs": [],
   "source": [
    "del df_filtered\n",
    "_=gc.collect()"
   ]
  },
  {
   "cell_type": "markdown",
   "id": "35a03668",
   "metadata": {
    "gradient": {
     "editing": false,
     "id": "35a03668",
     "kernelId": "97f72fa4-7fd5-407b-9cf3-b4f4f8636b8a"
    },
    "papermill": {
     "duration": 0.086198,
     "end_time": "2021-12-29T02:43:04.414257",
     "exception": false,
     "start_time": "2021-12-29T02:43:04.328059",
     "status": "completed"
    },
    "tags": []
   },
   "source": [
    "## global recommender system using weighted rating"
   ]
  },
  {
   "cell_type": "markdown",
   "id": "edecd44d",
   "metadata": {
    "gradient": {
     "editing": false,
     "id": "edecd44d",
     "kernelId": "97f72fa4-7fd5-407b-9cf3-b4f4f8636b8a"
    },
    "papermill": {
     "duration": 0.052339,
     "end_time": "2021-12-29T02:43:04.520679",
     "exception": false,
     "start_time": "2021-12-29T02:43:04.468340",
     "status": "completed"
    },
    "tags": []
   },
   "source": [
    "Weighted Rating Formula\n",
    "\n",
    "weighted rating (𝑊𝑅)=(𝑣/(𝑣+𝑚))𝑅+(𝑚/(𝑣+𝑚))𝐶\n",
    "\n",
    "where:\n",
    "\n",
    "𝑅 = average for the movie (mean) = (Rating)\n",
    "\n",
    "𝑣 = number of votes for the movie = (votes)\n",
    "\n",
    "𝑚 = minimum votes required\n",
    "\n",
    "𝐶 = the mean vote across the whole report"
   ]
  },
  {
   "cell_type": "code",
   "execution_count": null,
   "id": "a0274625",
   "metadata": {
    "execution": {
     "iopub.execute_input": "2021-12-29T02:43:04.630446Z",
     "iopub.status.busy": "2021-12-29T02:43:04.629339Z",
     "iopub.status.idle": "2021-12-29T02:43:17.897552Z",
     "shell.execute_reply": "2021-12-29T02:43:17.898081Z",
     "shell.execute_reply.started": "2021-12-29T00:44:08.847771Z"
    },
    "gradient": {
     "editing": false,
     "id": "a0274625",
     "kernelId": "97f72fa4-7fd5-407b-9cf3-b4f4f8636b8a"
    },
    "papermill": {
     "duration": 13.325323,
     "end_time": "2021-12-29T02:43:17.898323",
     "exception": false,
     "start_time": "2021-12-29T02:43:04.573000",
     "status": "completed"
    },
    "tags": []
   },
   "outputs": [],
   "source": [
    "# Number of minimum votes to be considered\n",
    "m = 1000\n",
    "\n",
    "# Mean rating for all movies\n",
    "C = df_train['Rating'].mean()\n",
    "\n",
    "# Mean rating for all movies separately\n",
    "R = df_train.groupby(['Movie']).mean()['Rating'].values\n",
    "\n",
    "# Rating freqency for all movies separately\n",
    "v = df_train.groupby(['Movie']).count()['Rating'].values"
   ]
  },
  {
   "cell_type": "code",
   "execution_count": null,
   "id": "60ebbe08",
   "metadata": {
    "execution": {
     "iopub.execute_input": "2021-12-29T02:43:18.012313Z",
     "iopub.status.busy": "2021-12-29T02:43:18.009624Z",
     "iopub.status.idle": "2021-12-29T02:43:18.169471Z",
     "shell.execute_reply": "2021-12-29T02:43:18.168879Z",
     "shell.execute_reply.started": "2021-12-29T00:44:21.254703Z"
    },
    "gradient": {
     "editing": false,
     "id": "60ebbe08",
     "kernelId": "97f72fa4-7fd5-407b-9cf3-b4f4f8636b8a"
    },
    "papermill": {
     "duration": 0.215795,
     "end_time": "2021-12-29T02:43:18.169620",
     "exception": false,
     "start_time": "2021-12-29T02:43:17.953825",
     "status": "completed"
    },
    "tags": []
   },
   "outputs": [],
   "source": [
    "# Weighted formula to compute the weighted rating\n",
    "weighted_score = v/(v+m)*R+m/(v+m)*C\n",
    "del m, C, R, v\n",
    "_=gc.collect()"
   ]
  },
  {
   "cell_type": "code",
   "execution_count": null,
   "id": "139b0617",
   "metadata": {
    "execution": {
     "iopub.execute_input": "2021-12-29T02:43:18.284524Z",
     "iopub.status.busy": "2021-12-29T02:43:18.283399Z",
     "iopub.status.idle": "2021-12-29T02:43:18.542521Z",
     "shell.execute_reply": "2021-12-29T02:43:18.543104Z",
     "shell.execute_reply.started": "2021-12-29T00:44:21.479115Z"
    },
    "gradient": {
     "editing": false,
     "id": "139b0617",
     "kernelId": "97f72fa4-7fd5-407b-9cf3-b4f4f8636b8a"
    },
    "papermill": {
     "duration": 0.318298,
     "end_time": "2021-12-29T02:43:18.543329",
     "exception": false,
     "start_time": "2021-12-29T02:43:18.225031",
     "status": "completed"
    },
    "tags": []
   },
   "outputs": [
    {
     "data": {
      "text/html": [
       "<div>\n",
       "<style scoped>\n",
       "    .dataframe tbody tr th:only-of-type {\n",
       "        vertical-align: middle;\n",
       "    }\n",
       "\n",
       "    .dataframe tbody tr th {\n",
       "        vertical-align: top;\n",
       "    }\n",
       "\n",
       "    .dataframe thead th {\n",
       "        text-align: right;\n",
       "    }\n",
       "</style>\n",
       "<table border=\"1\" class=\"dataframe\">\n",
       "  <thead>\n",
       "    <tr style=\"text-align: right;\">\n",
       "      <th></th>\n",
       "      <th>weighted score</th>\n",
       "    </tr>\n",
       "    <tr>\n",
       "      <th>Id</th>\n",
       "      <th></th>\n",
       "    </tr>\n",
       "  </thead>\n",
       "  <tbody>\n",
       "    <tr>\n",
       "      <th>3</th>\n",
       "      <td>3.606174</td>\n",
       "    </tr>\n",
       "    <tr>\n",
       "      <th>5</th>\n",
       "      <td>3.697078</td>\n",
       "    </tr>\n",
       "    <tr>\n",
       "      <th>6</th>\n",
       "      <td>3.380697</td>\n",
       "    </tr>\n",
       "    <tr>\n",
       "      <th>8</th>\n",
       "      <td>3.182964</td>\n",
       "    </tr>\n",
       "    <tr>\n",
       "      <th>16</th>\n",
       "      <td>3.231614</td>\n",
       "    </tr>\n",
       "  </tbody>\n",
       "</table>\n",
       "</div>"
      ],
      "text/plain": [
       "    weighted score\n",
       "Id                \n",
       "3         3.606174\n",
       "5         3.697078\n",
       "6         3.380697\n",
       "8         3.182964\n",
       "16        3.231614"
      ]
     },
     "metadata": {},
     "output_type": "display_data"
    }
   ],
   "source": [
    "# convert weighted_score into a dataframe\n",
    "index=np.sort(df_train['Movie'].unique())\n",
    "weighted_mean = pd.DataFrame(weighted_score, index = index, columns = ['weighted score'])\n",
    "weighted_mean.index.name = 'Id'\n",
    "display(weighted_mean.head(5))\n",
    "\n",
    "del index, weighted_score"
   ]
  },
  {
   "cell_type": "code",
   "execution_count": null,
   "id": "f730968a",
   "metadata": {
    "execution": {
     "iopub.execute_input": "2021-12-29T02:43:18.655332Z",
     "iopub.status.busy": "2021-12-29T02:43:18.654532Z",
     "iopub.status.idle": "2021-12-29T02:43:18.675067Z",
     "shell.execute_reply": "2021-12-29T02:43:18.674584Z",
     "shell.execute_reply.started": "2021-12-29T00:44:21.89989Z"
    },
    "gradient": {
     "editing": false,
     "id": "f730968a",
     "kernelId": "97f72fa4-7fd5-407b-9cf3-b4f4f8636b8a"
    },
    "papermill": {
     "duration": 0.077976,
     "end_time": "2021-12-29T02:43:18.675223",
     "exception": false,
     "start_time": "2021-12-29T02:43:18.597247",
     "status": "completed"
    },
    "tags": []
   },
   "outputs": [
    {
     "name": "stdout",
     "output_type": "stream",
     "text": [
      "(7125, 1)\n",
      "(17770, 2)\n",
      "(7125, 3)\n"
     ]
    },
    {
     "data": {
      "text/html": [
       "<div>\n",
       "<style scoped>\n",
       "    .dataframe tbody tr th:only-of-type {\n",
       "        vertical-align: middle;\n",
       "    }\n",
       "\n",
       "    .dataframe tbody tr th {\n",
       "        vertical-align: top;\n",
       "    }\n",
       "\n",
       "    .dataframe thead th {\n",
       "        text-align: right;\n",
       "    }\n",
       "</style>\n",
       "<table border=\"1\" class=\"dataframe\">\n",
       "  <thead>\n",
       "    <tr style=\"text-align: right;\">\n",
       "      <th></th>\n",
       "      <th>weighted score</th>\n",
       "      <th>Year</th>\n",
       "      <th>Name</th>\n",
       "    </tr>\n",
       "    <tr>\n",
       "      <th>Id</th>\n",
       "      <th></th>\n",
       "      <th></th>\n",
       "      <th></th>\n",
       "    </tr>\n",
       "  </thead>\n",
       "  <tbody>\n",
       "    <tr>\n",
       "      <th>3</th>\n",
       "      <td>3.606174</td>\n",
       "      <td>1997.0</td>\n",
       "      <td>Character</td>\n",
       "    </tr>\n",
       "    <tr>\n",
       "      <th>5</th>\n",
       "      <td>3.697078</td>\n",
       "      <td>2004.0</td>\n",
       "      <td>The Rise and Fall of ECW</td>\n",
       "    </tr>\n",
       "    <tr>\n",
       "      <th>6</th>\n",
       "      <td>3.380697</td>\n",
       "      <td>1997.0</td>\n",
       "      <td>Sick</td>\n",
       "    </tr>\n",
       "    <tr>\n",
       "      <th>8</th>\n",
       "      <td>3.182964</td>\n",
       "      <td>2004.0</td>\n",
       "      <td>What the #$*! Do We Know!?</td>\n",
       "    </tr>\n",
       "    <tr>\n",
       "      <th>16</th>\n",
       "      <td>3.231614</td>\n",
       "      <td>1996.0</td>\n",
       "      <td>Screamers</td>\n",
       "    </tr>\n",
       "  </tbody>\n",
       "</table>\n",
       "</div>"
      ],
      "text/plain": [
       "    weighted score    Year                        Name\n",
       "Id                                                    \n",
       "3         3.606174  1997.0                   Character\n",
       "5         3.697078  2004.0    The Rise and Fall of ECW\n",
       "6         3.380697  1997.0                        Sick\n",
       "8         3.182964  2004.0  What the #$*! Do We Know!?\n",
       "16        3.231614  1996.0                   Screamers"
      ]
     },
     "metadata": {},
     "output_type": "display_data"
    }
   ],
   "source": [
    "# Combine the aggregated dataframes (wighted_mean & movie_titles)\n",
    "combined_df = weighted_mean.join(movie_titles)\n",
    "print(weighted_mean.shape)\n",
    "print(movie_titles.shape)\n",
    "print(combined_df.shape)\n",
    "display(combined_df.head(5))\n",
    "\n",
    "del weighted_mean"
   ]
  },
  {
   "cell_type": "markdown",
   "id": "037dfacd",
   "metadata": {
    "gradient": {
     "editing": false,
     "id": "037dfacd",
     "kernelId": "97f72fa4-7fd5-407b-9cf3-b4f4f8636b8a"
    },
    "papermill": {
     "duration": 0.051877,
     "end_time": "2021-12-29T02:43:18.780942",
     "exception": false,
     "start_time": "2021-12-29T02:43:18.729065",
     "status": "completed"
    },
    "tags": []
   },
   "source": [
    "### evaluation RMSE and MAE"
   ]
  },
  {
   "cell_type": "code",
   "execution_count": null,
   "id": "ed7e5e79",
   "metadata": {
    "execution": {
     "iopub.execute_input": "2021-12-29T02:43:18.898432Z",
     "iopub.status.busy": "2021-12-29T02:43:18.897473Z",
     "iopub.status.idle": "2021-12-29T02:43:18.932950Z",
     "shell.execute_reply": "2021-12-29T02:43:18.933541Z",
     "shell.execute_reply.started": "2021-12-29T00:44:21.946469Z"
    },
    "gradient": {
     "editing": false,
     "id": "ed7e5e79",
     "kernelId": "97f72fa4-7fd5-407b-9cf3-b4f4f8636b8a"
    },
    "papermill": {
     "duration": 0.099415,
     "end_time": "2021-12-29T02:43:18.933731",
     "exception": false,
     "start_time": "2021-12-29T02:43:18.834316",
     "status": "completed"
    },
    "tags": []
   },
   "outputs": [
    {
     "data": {
      "text/html": [
       "<div>\n",
       "<style scoped>\n",
       "    .dataframe tbody tr th:only-of-type {\n",
       "        vertical-align: middle;\n",
       "    }\n",
       "\n",
       "    .dataframe tbody tr th {\n",
       "        vertical-align: top;\n",
       "    }\n",
       "\n",
       "    .dataframe thead th {\n",
       "        text-align: right;\n",
       "    }\n",
       "</style>\n",
       "<table border=\"1\" class=\"dataframe\">\n",
       "  <thead>\n",
       "    <tr style=\"text-align: right;\">\n",
       "      <th></th>\n",
       "      <th>User</th>\n",
       "      <th>Rating</th>\n",
       "      <th>weighted score</th>\n",
       "      <th>Year</th>\n",
       "      <th>Name</th>\n",
       "    </tr>\n",
       "  </thead>\n",
       "  <tbody>\n",
       "    <tr>\n",
       "      <th>6</th>\n",
       "      <td>404378</td>\n",
       "      <td>5.0</td>\n",
       "      <td>3.380697</td>\n",
       "      <td>1997.0</td>\n",
       "      <td>Sick</td>\n",
       "    </tr>\n",
       "    <tr>\n",
       "      <th>8</th>\n",
       "      <td>2570542</td>\n",
       "      <td>5.0</td>\n",
       "      <td>3.182964</td>\n",
       "      <td>2004.0</td>\n",
       "      <td>What the #$*! Do We Know!?</td>\n",
       "    </tr>\n",
       "    <tr>\n",
       "      <th>8</th>\n",
       "      <td>2005193</td>\n",
       "      <td>4.0</td>\n",
       "      <td>3.182964</td>\n",
       "      <td>2004.0</td>\n",
       "      <td>What the #$*! Do We Know!?</td>\n",
       "    </tr>\n",
       "    <tr>\n",
       "      <th>8</th>\n",
       "      <td>162279</td>\n",
       "      <td>5.0</td>\n",
       "      <td>3.182964</td>\n",
       "      <td>2004.0</td>\n",
       "      <td>What the #$*! Do We Know!?</td>\n",
       "    </tr>\n",
       "    <tr>\n",
       "      <th>8</th>\n",
       "      <td>2148613</td>\n",
       "      <td>4.0</td>\n",
       "      <td>3.182964</td>\n",
       "      <td>2004.0</td>\n",
       "      <td>What the #$*! Do We Know!?</td>\n",
       "    </tr>\n",
       "  </tbody>\n",
       "</table>\n",
       "</div>"
      ],
      "text/plain": [
       "      User  Rating  weighted score    Year                        Name\n",
       "6   404378     5.0        3.380697  1997.0                        Sick\n",
       "8  2570542     5.0        3.182964  2004.0  What the #$*! Do We Know!?\n",
       "8  2005193     4.0        3.182964  2004.0  What the #$*! Do We Know!?\n",
       "8   162279     5.0        3.182964  2004.0  What the #$*! Do We Know!?\n",
       "8  2148613     4.0        3.182964  2004.0  What the #$*! Do We Know!?"
      ]
     },
     "execution_count": 24,
     "metadata": {},
     "output_type": "execute_result"
    }
   ],
   "source": [
    "# Join labels and predictions based on mean movie rating\n",
    "predictions_df = df_test.set_index('Movie').join(combined_df)\n",
    "predictions_df.head(5)"
   ]
  },
  {
   "cell_type": "code",
   "execution_count": null,
   "id": "9ca00feb",
   "metadata": {
    "execution": {
     "iopub.execute_input": "2021-12-29T02:43:19.050802Z",
     "iopub.status.busy": "2021-12-29T02:43:19.049450Z",
     "iopub.status.idle": "2021-12-29T02:43:19.057651Z",
     "shell.execute_reply": "2021-12-29T02:43:19.058085Z",
     "shell.execute_reply.started": "2021-12-29T00:44:22.083419Z"
    },
    "gradient": {
     "editing": false,
     "id": "9ca00feb",
     "kernelId": "97f72fa4-7fd5-407b-9cf3-b4f4f8636b8a"
    },
    "papermill": {
     "duration": 0.069115,
     "end_time": "2021-12-29T02:43:19.058223",
     "exception": false,
     "start_time": "2021-12-29T02:43:18.989108",
     "status": "completed"
    },
    "tags": []
   },
   "outputs": [
    {
     "name": "stdout",
     "output_type": "stream",
     "text": [
      "The RMSE Value for the Mean Rating Recommender: 0.9917835737069347\n",
      "The MAE Value for the Mean Rating Recommender: 0.7980064023152397\n"
     ]
    }
   ],
   "source": [
    "# Compute RMSE and MAE\n",
    "y_true = predictions_df['Rating']\n",
    "y_pred = predictions_df['weighted score']\n",
    "\n",
    "rmse = np.sqrt(mean_squared_error(y_true=y_true, y_pred=y_pred))\n",
    "mae = mean_absolute_error(y_true=y_true, y_pred=y_pred)\n",
    "print(\"The RMSE Value for the Mean Rating Recommender:\", rmse)\n",
    "print(\"The MAE Value for the Mean Rating Recommender:\", mae)\n",
    "\n",
    "del predictions_df, y_true, y_pred, rmse, mae"
   ]
  },
  {
   "cell_type": "markdown",
   "id": "c6f4f37d",
   "metadata": {
    "gradient": {
     "editing": false,
     "id": "c6f4f37d",
     "kernelId": "97f72fa4-7fd5-407b-9cf3-b4f4f8636b8a"
    },
    "papermill": {
     "duration": 0.055183,
     "end_time": "2021-12-29T02:43:19.169883",
     "exception": false,
     "start_time": "2021-12-29T02:43:19.114700",
     "status": "completed"
    },
    "tags": []
   },
   "source": [
    "### at this stage, non-deleted variables are: df_train, df_val, df_test, combined_df"
   ]
  },
  {
   "cell_type": "markdown",
   "id": "820c684f",
   "metadata": {
    "gradient": {
     "editing": false,
     "id": "820c684f",
     "kernelId": "97f72fa4-7fd5-407b-9cf3-b4f4f8636b8a"
    },
    "papermill": {
     "duration": 0.056681,
     "end_time": "2021-12-29T02:43:19.281792",
     "exception": false,
     "start_time": "2021-12-29T02:43:19.225111",
     "status": "completed"
    },
    "tags": []
   },
   "source": [
    "### evaluation mean average precision at cutoff k"
   ]
  },
  {
   "cell_type": "markdown",
   "id": "c6192e4b",
   "metadata": {
    "gradient": {
     "editing": false,
     "id": "c6192e4b",
     "kernelId": "97f72fa4-7fd5-407b-9cf3-b4f4f8636b8a"
    },
    "papermill": {
     "duration": 0.056204,
     "end_time": "2021-12-29T02:43:19.392460",
     "exception": false,
     "start_time": "2021-12-29T02:43:19.336256",
     "status": "completed"
    },
    "tags": []
   },
   "source": [
    "**first define an ordered dict that stores movie id and weighted average movie score from high to low**"
   ]
  },
  {
   "cell_type": "code",
   "execution_count": null,
   "id": "61d2e01d",
   "metadata": {
    "execution": {
     "iopub.execute_input": "2021-12-29T02:43:19.511238Z",
     "iopub.status.busy": "2021-12-29T02:43:19.510196Z",
     "iopub.status.idle": "2021-12-29T02:43:19.816540Z",
     "shell.execute_reply": "2021-12-29T02:43:19.815756Z",
     "shell.execute_reply.started": "2021-12-29T00:44:22.110909Z"
    },
    "gradient": {
     "editing": false,
     "id": "61d2e01d",
     "kernelId": "97f72fa4-7fd5-407b-9cf3-b4f4f8636b8a"
    },
    "papermill": {
     "duration": 0.367995,
     "end_time": "2021-12-29T02:43:19.816691",
     "exception": false,
     "start_time": "2021-12-29T02:43:19.448696",
     "status": "completed"
    },
    "tags": []
   },
   "outputs": [],
   "source": [
    "from collections import OrderedDict\n",
    "temp=combined_df.reset_index()[['Id','weighted score']].sort_values('weighted score', ascending=False)\n",
    "\n",
    "# {movie_id: weighted_score, ....}\n",
    "rank_dic=OrderedDict()\n",
    "for i in range(temp.shape[0]):\n",
    "    rank_dic[temp.iloc[i,0]]=temp.iloc[i,1]\n",
    "\n",
    "del temp"
   ]
  },
  {
   "cell_type": "markdown",
   "id": "ad9f876b",
   "metadata": {
    "gradient": {
     "editing": false,
     "id": "ad9f876b",
     "kernelId": "97f72fa4-7fd5-407b-9cf3-b4f4f8636b8a"
    },
    "papermill": {
     "duration": 0.057432,
     "end_time": "2021-12-29T02:43:19.933407",
     "exception": false,
     "start_time": "2021-12-29T02:43:19.875975",
     "status": "completed"
    },
    "tags": []
   },
   "source": [
    "**define the function that calculates map@k**"
   ]
  },
  {
   "cell_type": "code",
   "execution_count": null,
   "id": "511d2924",
   "metadata": {
    "execution": {
     "iopub.execute_input": "2021-12-29T02:43:20.053618Z",
     "iopub.status.busy": "2021-12-29T02:43:20.052525Z",
     "iopub.status.idle": "2021-12-29T02:43:20.054902Z",
     "shell.execute_reply": "2021-12-29T02:43:20.055476Z",
     "shell.execute_reply.started": "2021-12-29T00:44:22.597782Z"
    },
    "gradient": {
     "editing": false,
     "id": "511d2924",
     "kernelId": "97f72fa4-7fd5-407b-9cf3-b4f4f8636b8a"
    },
    "papermill": {
     "duration": 0.066223,
     "end_time": "2021-12-29T02:43:20.055624",
     "exception": false,
     "start_time": "2021-12-29T02:43:19.989401",
     "status": "completed"
    },
    "tags": []
   },
   "outputs": [],
   "source": [
    "def average_precision_at_k(rel: [int], pred: [int], k: int) -> float:\n",
    "    # this function works only for a single user\n",
    "    # rel is an list of movie id's for all relevant movies in the test set \n",
    "    # pred is the prediction of the model excluding those ratings already in the training set\n",
    "    # pred is a list of movie id's whose scores are ranked from high to low\n",
    "    # len(pred) should be large enough for k\n",
    "    # k is the cutoff\n",
    "    temp=0\n",
    "    true_positive=0\n",
    "    for i in range(min(k,len(pred))):\n",
    "        if pred[i] in rel:\n",
    "            true_positive+=1\n",
    "            temp+=true_positive/(i+1)\n",
    "    return temp/len(rel)"
   ]
  },
  {
   "cell_type": "markdown",
   "id": "79148ae9",
   "metadata": {
    "gradient": {
     "editing": false,
     "id": "79148ae9",
     "kernelId": "97f72fa4-7fd5-407b-9cf3-b4f4f8636b8a"
    },
    "papermill": {
     "duration": 0.056581,
     "end_time": "2021-12-29T02:43:20.168730",
     "exception": false,
     "start_time": "2021-12-29T02:43:20.112149",
     "status": "completed"
    },
    "tags": []
   },
   "source": [
    "**list of unique users in the test**"
   ]
  },
  {
   "cell_type": "code",
   "execution_count": null,
   "id": "700ba817",
   "metadata": {
    "execution": {
     "iopub.execute_input": "2021-12-29T02:43:20.288348Z",
     "iopub.status.busy": "2021-12-29T02:43:20.287451Z",
     "iopub.status.idle": "2021-12-29T02:43:20.342629Z",
     "shell.execute_reply": "2021-12-29T02:43:20.342021Z",
     "shell.execute_reply.started": "2021-12-29T00:44:22.679242Z"
    },
    "gradient": {
     "editing": false,
     "id": "700ba817",
     "kernelId": "97f72fa4-7fd5-407b-9cf3-b4f4f8636b8a"
    },
    "papermill": {
     "duration": 0.117016,
     "end_time": "2021-12-29T02:43:20.342764",
     "exception": false,
     "start_time": "2021-12-29T02:43:20.225748",
     "status": "completed"
    },
    "tags": []
   },
   "outputs": [],
   "source": [
    "test_user_ids={}\n",
    "for ele in list(df_test['User'].unique()):\n",
    "    test_user_ids[ele]=True"
   ]
  },
  {
   "cell_type": "markdown",
   "id": "9669e56b",
   "metadata": {
    "gradient": {
     "editing": false,
     "id": "9669e56b",
     "kernelId": "97f72fa4-7fd5-407b-9cf3-b4f4f8636b8a"
    },
    "papermill": {
     "duration": 0.05471,
     "end_time": "2021-12-29T02:43:20.453901",
     "exception": false,
     "start_time": "2021-12-29T02:43:20.399191",
     "status": "completed"
    },
    "tags": []
   },
   "source": [
    "**create dictionaries that store movie id's and the average ratings of users in the train set**"
   ]
  },
  {
   "cell_type": "code",
   "execution_count": null,
   "id": "0d7058cd",
   "metadata": {
    "execution": {
     "iopub.execute_input": "2021-12-29T02:43:20.580901Z",
     "iopub.status.busy": "2021-12-29T02:43:20.579482Z",
     "iopub.status.idle": "2021-12-29T03:40:28.414905Z",
     "shell.execute_reply": "2021-12-29T03:40:28.415649Z",
     "shell.execute_reply.started": "2021-12-29T00:44:22.720128Z"
    },
    "gradient": {
     "editing": false,
     "id": "0d7058cd",
     "kernelId": "97f72fa4-7fd5-407b-9cf3-b4f4f8636b8a"
    },
    "papermill": {
     "duration": 3427.907924,
     "end_time": "2021-12-29T03:40:28.415955",
     "exception": false,
     "start_time": "2021-12-29T02:43:20.508031",
     "status": "completed"
    },
    "tags": []
   },
   "outputs": [
    {
     "name": "stdout",
     "output_type": "stream",
     "text": [
      "0 percent of job done\n",
      "1 percent of job done\n",
      "2 percent of job done\n",
      "3 percent of job done\n",
      "4 percent of job done\n",
      "5 percent of job done\n",
      "6 percent of job done\n",
      "7 percent of job done\n",
      "8 percent of job done\n",
      "9 percent of job done\n",
      "10 percent of job done\n",
      "11 percent of job done\n",
      "12 percent of job done\n",
      "13 percent of job done\n",
      "14 percent of job done\n",
      "15 percent of job done\n",
      "16 percent of job done\n",
      "17 percent of job done\n",
      "18 percent of job done\n",
      "19 percent of job done\n",
      "20 percent of job done\n",
      "21 percent of job done\n",
      "22 percent of job done\n",
      "23 percent of job done\n",
      "24 percent of job done\n",
      "25 percent of job done\n",
      "26 percent of job done\n",
      "27 percent of job done\n",
      "28 percent of job done\n",
      "29 percent of job done\n",
      "30 percent of job done\n",
      "31 percent of job done\n",
      "32 percent of job done\n",
      "33 percent of job done\n",
      "34 percent of job done\n",
      "35 percent of job done\n",
      "36 percent of job done\n",
      "37 percent of job done\n",
      "38 percent of job done\n",
      "39 percent of job done\n",
      "40 percent of job done\n",
      "41 percent of job done\n",
      "42 percent of job done\n",
      "43 percent of job done\n",
      "44 percent of job done\n",
      "45 percent of job done\n",
      "46 percent of job done\n",
      "47 percent of job done\n",
      "48 percent of job done\n",
      "49 percent of job done\n",
      "50 percent of job done\n",
      "51 percent of job done\n",
      "52 percent of job done\n",
      "53 percent of job done\n",
      "54 percent of job done\n",
      "55 percent of job done\n",
      "56 percent of job done\n",
      "57 percent of job done\n",
      "58 percent of job done\n",
      "59 percent of job done\n",
      "60 percent of job done\n",
      "61 percent of job done\n",
      "62 percent of job done\n",
      "63 percent of job done\n",
      "64 percent of job done\n",
      "65 percent of job done\n",
      "66 percent of job done\n",
      "67 percent of job done\n",
      "68 percent of job done\n",
      "69 percent of job done\n",
      "70 percent of job done\n",
      "71 percent of job done\n",
      "72 percent of job done\n",
      "73 percent of job done\n",
      "74 percent of job done\n",
      "75 percent of job done\n",
      "76 percent of job done\n",
      "77 percent of job done\n",
      "78 percent of job done\n",
      "79 percent of job done\n",
      "80 percent of job done\n",
      "81 percent of job done\n",
      "82 percent of job done\n",
      "83 percent of job done\n",
      "84 percent of job done\n",
      "85 percent of job done\n",
      "86 percent of job done\n",
      "87 percent of job done\n",
      "88 percent of job done\n",
      "89 percent of job done\n",
      "90 percent of job done\n",
      "91 percent of job done\n",
      "92 percent of job done\n",
      "93 percent of job done\n",
      "94 percent of job done\n",
      "95 percent of job done\n",
      "96 percent of job done\n",
      "97 percent of job done\n",
      "98 percent of job done\n",
      "99 percent of job done\n",
      "100 percent of job done\n"
     ]
    }
   ],
   "source": [
    "# {user_id: [movie_id_1, movie_id_2, ...], ...}\n",
    "train_movie_ids={}\n",
    "# {user_id: average_rating, ...}\n",
    "train_movie_average_ratings={}\n",
    "ct=0\n",
    "\n",
    "for i in range(df_train.shape[0]):\n",
    "    if i % (df_train.shape[0]//100)==0: \n",
    "        print(str(ct)+' percent of job done')\n",
    "        ct+=1\n",
    "        \n",
    "    user = df_train.iloc[i, 0]\n",
    "    if user in test_user_ids:\n",
    "        try:\n",
    "            train_movie_ids[user].append(df_train.iloc[i,2])\n",
    "            train_movie_average_ratings[user]+=df_train.iloc[i,1]\n",
    "        except:\n",
    "            train_movie_ids[user]=[df_train.iloc[i,2]]\n",
    "            train_movie_average_ratings[user]=df_train.iloc[i,1]\n",
    "\n",
    "del user"
   ]
  },
  {
   "cell_type": "markdown",
   "id": "a19be8ff",
   "metadata": {
    "gradient": {
     "editing": false,
     "id": "a19be8ff",
     "kernelId": "97f72fa4-7fd5-407b-9cf3-b4f4f8636b8a"
    },
    "papermill": {
     "duration": 0.097357,
     "end_time": "2021-12-29T03:40:28.614081",
     "exception": false,
     "start_time": "2021-12-29T03:40:28.516724",
     "status": "completed"
    },
    "tags": []
   },
   "source": [
    "**divide the sum of ratings by the number of movies to get average rating for each user**"
   ]
  },
  {
   "cell_type": "code",
   "execution_count": null,
   "id": "ba60418c",
   "metadata": {
    "execution": {
     "iopub.execute_input": "2021-12-29T03:40:28.848509Z",
     "iopub.status.busy": "2021-12-29T03:40:28.812889Z",
     "iopub.status.idle": "2021-12-29T03:40:28.985152Z",
     "shell.execute_reply": "2021-12-29T03:40:28.984488Z",
     "shell.execute_reply.started": "2021-12-29T00:46:22.452833Z"
    },
    "gradient": {
     "editing": false,
     "id": "ba60418c",
     "kernelId": "97f72fa4-7fd5-407b-9cf3-b4f4f8636b8a"
    },
    "papermill": {
     "duration": 0.272812,
     "end_time": "2021-12-29T03:40:28.985436",
     "exception": false,
     "start_time": "2021-12-29T03:40:28.712624",
     "status": "completed"
    },
    "tags": []
   },
   "outputs": [],
   "source": [
    "for key in test_user_ids:\n",
    "    train_movie_average_ratings[key]/=len(train_movie_ids[key])"
   ]
  },
  {
   "cell_type": "markdown",
   "id": "59e6b3bb",
   "metadata": {
    "gradient": {
     "editing": false,
     "id": "59e6b3bb",
     "kernelId": "97f72fa4-7fd5-407b-9cf3-b4f4f8636b8a"
    },
    "papermill": {
     "duration": 0.097028,
     "end_time": "2021-12-29T03:40:29.178064",
     "exception": false,
     "start_time": "2021-12-29T03:40:29.081036",
     "status": "completed"
    },
    "tags": []
   },
   "source": [
    "**test_movie_ids is a dicitionary that stores positively rated movies in the test sets for each user in the test sets**"
   ]
  },
  {
   "cell_type": "code",
   "execution_count": null,
   "id": "0031e2ea",
   "metadata": {
    "execution": {
     "iopub.execute_input": "2021-12-29T03:40:29.413762Z",
     "iopub.status.busy": "2021-12-29T03:40:29.398793Z",
     "iopub.status.idle": "2021-12-29T03:40:41.160010Z",
     "shell.execute_reply": "2021-12-29T03:40:41.159406Z",
     "shell.execute_reply.started": "2021-12-29T00:46:22.454875Z"
    },
    "gradient": {
     "editing": false,
     "id": "0031e2ea",
     "kernelId": "97f72fa4-7fd5-407b-9cf3-b4f4f8636b8a"
    },
    "papermill": {
     "duration": 11.88404,
     "end_time": "2021-12-29T03:40:41.160194",
     "exception": false,
     "start_time": "2021-12-29T03:40:29.276154",
     "status": "completed"
    },
    "tags": []
   },
   "outputs": [],
   "source": [
    "# {user_id: [movie_id_1, movie_id_2, ...], ...}\n",
    "test_movie_ids={}\n",
    "\n",
    "for i in range(df_test.shape[0]):\n",
    "    user=df_test.iloc[i,0]\n",
    "    if df_test.iloc[i,1]>train_movie_average_ratings[user]:\n",
    "        try:\n",
    "            test_movie_ids[user].append(df_test.iloc[i,2])\n",
    "        except:\n",
    "            test_movie_ids[user]=[df_test.iloc[i,2]]"
   ]
  },
  {
   "cell_type": "markdown",
   "id": "07db0ba5",
   "metadata": {
    "gradient": {
     "editing": false,
     "id": "07db0ba5",
     "kernelId": "97f72fa4-7fd5-407b-9cf3-b4f4f8636b8a"
    },
    "papermill": {
     "duration": 0.095699,
     "end_time": "2021-12-29T03:40:41.351433",
     "exception": false,
     "start_time": "2021-12-29T03:40:41.255734",
     "status": "completed"
    },
    "tags": []
   },
   "source": [
    "**loop through all users in test set and apply the function we defined**"
   ]
  },
  {
   "cell_type": "code",
   "execution_count": null,
   "id": "d0eec468",
   "metadata": {
    "execution": {
     "iopub.execute_input": "2021-12-29T03:40:41.611905Z",
     "iopub.status.busy": "2021-12-29T03:40:41.590342Z",
     "iopub.status.idle": "2021-12-29T03:41:38.548043Z",
     "shell.execute_reply": "2021-12-29T03:41:38.547463Z",
     "shell.execute_reply.started": "2021-12-29T00:46:22.456956Z"
    },
    "gradient": {
     "editing": false,
     "id": "d0eec468",
     "kernelId": "97f72fa4-7fd5-407b-9cf3-b4f4f8636b8a"
    },
    "papermill": {
     "duration": 57.101521,
     "end_time": "2021-12-29T03:41:38.548205",
     "exception": false,
     "start_time": "2021-12-29T03:40:41.446684",
     "status": "completed"
    },
    "tags": []
   },
   "outputs": [],
   "source": [
    "# result stores average precision at k for users in test set\n",
    "result=[]\n",
    "k=100\n",
    "\n",
    "for user in test_movie_ids:\n",
    "    \n",
    "    rel=test_movie_ids[user]\n",
    "    copy_dic=rank_dic.copy()\n",
    "    for ele in train_movie_ids[user]:\n",
    "        copy_dic.pop(ele)\n",
    "    pred=list(copy_dic.keys())\n",
    "    result.append(average_precision_at_k(rel, pred, k))"
   ]
  },
  {
   "cell_type": "code",
   "execution_count": null,
   "id": "7501538e",
   "metadata": {
    "execution": {
     "iopub.execute_input": "2021-12-29T03:41:38.757023Z",
     "iopub.status.busy": "2021-12-29T03:41:38.755545Z",
     "iopub.status.idle": "2021-12-29T03:41:38.759918Z",
     "shell.execute_reply": "2021-12-29T03:41:38.759229Z",
     "shell.execute_reply.started": "2021-12-29T00:46:22.458752Z"
    },
    "gradient": {
     "editing": false,
     "id": "7501538e",
     "kernelId": "97f72fa4-7fd5-407b-9cf3-b4f4f8636b8a"
    },
    "papermill": {
     "duration": 0.115046,
     "end_time": "2021-12-29T03:41:38.760136",
     "exception": false,
     "start_time": "2021-12-29T03:41:38.645090",
     "status": "completed"
    },
    "tags": []
   },
   "outputs": [
    {
     "name": "stdout",
     "output_type": "stream",
     "text": [
      "there are 66852 users in the test set\n",
      "there are 24851 users whose ratings in the test set are all negative\n",
      "mean average precision is 0.013133213156647231\n"
     ]
    }
   ],
   "source": [
    "print('there are {} users in the test set'.format(len(test_user_ids)))\n",
    "print('there are {} users whose ratings in the test set are all negative'.format(len(test_user_ids)-len(test_movie_ids)))\n",
    "print('mean average precision is {}'.format(sum(result)/len(result)))"
   ]
  },
  {
   "cell_type": "markdown",
   "id": "b094802b",
   "metadata": {
    "gradient": {
     "editing": false,
     "id": "b094802b",
     "kernelId": "97f72fa4-7fd5-407b-9cf3-b4f4f8636b8a"
    },
    "papermill": {
     "duration": 0.097199,
     "end_time": "2021-12-29T03:41:38.954637",
     "exception": false,
     "start_time": "2021-12-29T03:41:38.857438",
     "status": "completed"
    },
    "tags": []
   },
   "source": [
    "###  at this stage, non-deleted variables are: \n",
    "### df_train, df_val, df_test, combined_df\n",
    "### test_user_ids, test_movie_ids, train_movie_ids, train_movie_average_ratings"
   ]
  },
  {
   "cell_type": "code",
   "execution_count": null,
   "id": "3d6e5d1e",
   "metadata": {
    "execution": {
     "iopub.execute_input": "2021-12-29T03:41:41.423356Z",
     "iopub.status.busy": "2021-12-29T03:41:41.421178Z",
     "iopub.status.idle": "2021-12-29T03:42:02.175379Z",
     "shell.execute_reply": "2021-12-29T03:42:02.174702Z",
     "shell.execute_reply.started": "2021-12-29T00:46:22.461228Z"
    },
    "gradient": {
     "editing": false,
     "id": "3d6e5d1e",
     "kernelId": "97f72fa4-7fd5-407b-9cf3-b4f4f8636b8a"
    },
    "papermill": {
     "duration": 23.123185,
     "end_time": "2021-12-29T03:42:02.175616",
     "exception": false,
     "start_time": "2021-12-29T03:41:39.052431",
     "status": "completed"
    },
    "tags": []
   },
   "outputs": [],
   "source": [
    "df_train.to_pickle('df_train.pkl')\n",
    "df_val.to_pickle('df_val.pkl')\n",
    "df_test.to_pickle('df_test.pkl')\n",
    "df_stacking.to_pickle('df_stacking.pkl')\n",
    "combined_df.to_pickle('combined_df.pkl')"
   ]
  },
  {
   "cell_type": "code",
   "execution_count": null,
   "id": "4a7368a5",
   "metadata": {
    "execution": {
     "iopub.execute_input": "2021-12-29T03:42:02.382884Z",
     "iopub.status.busy": "2021-12-29T03:42:02.381845Z",
     "iopub.status.idle": "2021-12-29T03:42:02.416460Z",
     "shell.execute_reply": "2021-12-29T03:42:02.417022Z",
     "shell.execute_reply.started": "2021-12-29T00:46:22.463232Z"
    },
    "gradient": {
     "editing": false,
     "id": "4a7368a5",
     "kernelId": "97f72fa4-7fd5-407b-9cf3-b4f4f8636b8a"
    },
    "papermill": {
     "duration": 0.144044,
     "end_time": "2021-12-29T03:42:02.417351",
     "exception": false,
     "start_time": "2021-12-29T03:42:02.273307",
     "status": "completed"
    },
    "tags": []
   },
   "outputs": [],
   "source": [
    "test_user_ids_list=list(test_user_ids.keys())\n",
    "\n",
    "with open('test_user_ids_list.txt', 'wb') as fp:\n",
    "    pickle.dump(test_user_ids_list, fp)"
   ]
  },
  {
   "cell_type": "code",
   "execution_count": null,
   "id": "43be8693",
   "metadata": {
    "execution": {
     "iopub.execute_input": "2021-12-29T03:42:02.626822Z",
     "iopub.status.busy": "2021-12-29T03:42:02.625424Z",
     "iopub.status.idle": "2021-12-29T03:42:05.206753Z",
     "shell.execute_reply": "2021-12-29T03:42:05.207408Z",
     "shell.execute_reply.started": "2021-12-29T00:46:22.465121Z"
    },
    "gradient": {
     "editing": false,
     "id": "43be8693",
     "kernelId": "97f72fa4-7fd5-407b-9cf3-b4f4f8636b8a"
    },
    "papermill": {
     "duration": 2.693593,
     "end_time": "2021-12-29T03:42:05.207728",
     "exception": false,
     "start_time": "2021-12-29T03:42:02.514135",
     "status": "completed"
    },
    "tags": []
   },
   "outputs": [],
   "source": [
    "test_movie_ids_list=[]\n",
    "for key in test_movie_ids:\n",
    "    test_movie_ids_list.append([key, test_movie_ids[key]])\n",
    "    \n",
    "with open('test_movie_ids_list.txt', 'wb') as fp:\n",
    "    pickle.dump(test_movie_ids_list, fp)"
   ]
  },
  {
   "cell_type": "code",
   "execution_count": null,
   "id": "77f4b1b2",
   "metadata": {
    "execution": {
     "iopub.execute_input": "2021-12-29T03:42:06.144895Z",
     "iopub.status.busy": "2021-12-29T03:42:06.143663Z",
     "iopub.status.idle": "2021-12-29T03:44:24.075546Z",
     "shell.execute_reply": "2021-12-29T03:44:24.074733Z",
     "shell.execute_reply.started": "2021-12-29T00:46:22.467084Z"
    },
    "gradient": {
     "editing": false,
     "id": "77f4b1b2",
     "kernelId": "97f72fa4-7fd5-407b-9cf3-b4f4f8636b8a"
    },
    "papermill": {
     "duration": 138.767152,
     "end_time": "2021-12-29T03:44:24.075776",
     "exception": false,
     "start_time": "2021-12-29T03:42:05.308624",
     "status": "completed"
    },
    "tags": []
   },
   "outputs": [],
   "source": [
    "train_movie_ids_list=[]\n",
    "for key in train_movie_ids:\n",
    "    train_movie_ids_list.append([key, train_movie_ids[key]])\n",
    "    \n",
    "with open('train_movie_ids_list.txt', 'wb') as fp:\n",
    "    pickle.dump(train_movie_ids_list, fp)"
   ]
  },
  {
   "cell_type": "code",
   "execution_count": null,
   "id": "4a8a534a",
   "metadata": {
    "execution": {
     "iopub.execute_input": "2021-12-29T03:44:24.283836Z",
     "iopub.status.busy": "2021-12-29T03:44:24.282470Z",
     "iopub.status.idle": "2021-12-29T03:44:26.935770Z",
     "shell.execute_reply": "2021-12-29T03:44:26.934970Z",
     "shell.execute_reply.started": "2021-12-29T00:46:22.468988Z"
    },
    "gradient": {
     "editing": false,
     "id": "4a8a534a",
     "kernelId": "97f72fa4-7fd5-407b-9cf3-b4f4f8636b8a"
    },
    "papermill": {
     "duration": 2.763047,
     "end_time": "2021-12-29T03:44:26.935991",
     "exception": false,
     "start_time": "2021-12-29T03:44:24.172944",
     "status": "completed"
    },
    "tags": []
   },
   "outputs": [],
   "source": [
    "train_movie_average_ratings_list=[]\n",
    "for key in train_movie_average_ratings:\n",
    "    train_movie_average_ratings_list.append([key, train_movie_average_ratings[key]])\n",
    "    \n",
    "with open('train_movie_average_ratings_list.txt', 'wb') as fp:\n",
    "    pickle.dump(train_movie_average_ratings_list, fp)"
   ]
  },
  {
   "cell_type": "code",
   "execution_count": null,
   "id": "d92db41f",
   "metadata": {
    "gradient": {
     "editing": false,
     "id": "d92db41f",
     "kernelId": "97f72fa4-7fd5-407b-9cf3-b4f4f8636b8a"
    }
   },
   "outputs": [],
   "source": []
  }
 ],
 "metadata": {
  "kernelspec": {
   "display_name": "Python 3 (ipykernel)",
   "language": "python",
   "name": "python3"
  },
  "language_info": {
   "codemirror_mode": {
    "name": "ipython",
    "version": 3
   },
   "file_extension": ".py",
   "mimetype": "text/x-python",
   "name": "python",
   "nbconvert_exporter": "python",
   "pygments_lexer": "ipython3",
   "version": "3.8.10"
  },
  "papermill": {
   "default_parameters": {},
   "duration": 3861.349838,
   "end_time": "2021-12-29T03:44:29.854232",
   "environment_variables": {},
   "exception": null,
   "input_path": "__notebook__.ipynb",
   "output_path": "__notebook__.ipynb",
   "parameters": {},
   "start_time": "2021-12-29T02:40:08.504394",
   "version": "2.3.3"
  }
 },
 "nbformat": 4,
 "nbformat_minor": 5
}
