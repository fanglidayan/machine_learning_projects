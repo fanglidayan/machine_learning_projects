{
 "cells": [
  {
   "cell_type": "code",
   "execution_count": 26,
   "id": "8357a8e0",
   "metadata": {},
   "outputs": [],
   "source": [
    "class Solution():\n",
    "    def binary_search(self, nums, target):\n",
    "        start, end=0, len(nums)-1       \n",
    "        while start!=end:\n",
    "            mid=(start+end)//2\n",
    "            if target==nums[mid]:\n",
    "                return mid\n",
    "            elif target<nums[mid]:\n",
    "                end=mid-1\n",
    "            else:\n",
    "                start=mid+1\n",
    "        return start\n",
    "    \n",
    "    \n",
    "    def mean(self, nums):\n",
    "        leng=len(nums)\n",
    "        if leng%2==0:\n",
    "            return (nums[leng//2]+nums[leng//2-1])/2\n",
    "        else:\n",
    "            return nums[leng//2]\n",
    "                 \n",
    "    def output_median(self, nums):\n",
    "        original=list(nums)\n",
    "        nums.sort()\n",
    "        result=[]\n",
    "        for i in range(len(original)):\n",
    "            result.append(self.mean(nums))\n",
    "            ind=self.binary_search(nums, original[-1-i])\n",
    "            nums.pop(ind)\n",
    "            \n",
    "        result.reverse()\n",
    "        return result"
   ]
  },
  {
   "cell_type": "code",
   "execution_count": 31,
   "id": "a97c3f4d",
   "metadata": {},
   "outputs": [
    {
     "name": "stdout",
     "output_type": "stream",
     "text": [
      "[1, 1.5, 2, 2.5, 3, 3.5, 4, 4.5, 5, 5.5, 6]\n"
     ]
    }
   ],
   "source": [
    "sol=Solution()\n",
    "nums=[1,2,3,4,5,6,7,8,9,100,1000]\n",
    "print(sol.output_median(nums))"
   ]
  },
  {
   "cell_type": "code",
   "execution_count": 21,
   "id": "c746291a",
   "metadata": {},
   "outputs": [],
   "source": [
    "def search(nums, target):\n",
    "    start, end=0, len(nums)-1       \n",
    "    while start!=end:\n",
    "        mid=(start+end)//2\n",
    "        if target==nums[mid]:\n",
    "            return mid\n",
    "        elif target<nums[mid]:\n",
    "            end=mid-1\n",
    "        else:\n",
    "            start=mid+1\n",
    "    return start"
   ]
  },
  {
   "cell_type": "code",
   "execution_count": 22,
   "id": "9045807a",
   "metadata": {},
   "outputs": [
    {
     "data": {
      "text/plain": [
       "7"
      ]
     },
     "execution_count": 22,
     "metadata": {},
     "output_type": "execute_result"
    }
   ],
   "source": [
    "search([1,2,3,4,5,6,7,8,100,1000,10000],8)"
   ]
  },
  {
   "cell_type": "code",
   "execution_count": 25,
   "id": "f490a573",
   "metadata": {},
   "outputs": [
    {
     "data": {
      "text/plain": [
       "3.0"
      ]
     },
     "execution_count": 25,
     "metadata": {},
     "output_type": "execute_result"
    }
   ],
   "source": [
    "6/2"
   ]
  },
  {
   "cell_type": "code",
   "execution_count": null,
   "id": "8e542011",
   "metadata": {},
   "outputs": [],
   "source": []
  }
 ],
 "metadata": {
  "kernelspec": {
   "display_name": "Python 3",
   "language": "python",
   "name": "python3"
  },
  "language_info": {
   "codemirror_mode": {
    "name": "ipython",
    "version": 3
   },
   "file_extension": ".py",
   "mimetype": "text/x-python",
   "name": "python",
   "nbconvert_exporter": "python",
   "pygments_lexer": "ipython3",
   "version": "3.8.8"
  }
 },
 "nbformat": 4,
 "nbformat_minor": 5
}
