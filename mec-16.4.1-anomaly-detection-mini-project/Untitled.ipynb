{
 "cells": [
  {
   "cell_type": "code",
   "execution_count": 2,
   "id": "52b71419",
   "metadata": {},
   "outputs": [],
   "source": [
    "import pandas as pd\n",
    "import numpy as np\n",
    "aaa=[1,2,3,4,5]\n",
    "aaa=np.array(aaa)\n",
    "aaa_df=pd.DataFrame(aaa)"
   ]
  },
  {
   "cell_type": "code",
   "execution_count": 3,
   "id": "23ea2870",
   "metadata": {},
   "outputs": [
    {
     "data": {
      "text/html": [
       "<div>\n",
       "<style scoped>\n",
       "    .dataframe tbody tr th:only-of-type {\n",
       "        vertical-align: middle;\n",
       "    }\n",
       "\n",
       "    .dataframe tbody tr th {\n",
       "        vertical-align: top;\n",
       "    }\n",
       "\n",
       "    .dataframe thead th {\n",
       "        text-align: right;\n",
       "    }\n",
       "</style>\n",
       "<table border=\"1\" class=\"dataframe\">\n",
       "  <thead>\n",
       "    <tr style=\"text-align: right;\">\n",
       "      <th></th>\n",
       "      <th>0</th>\n",
       "    </tr>\n",
       "  </thead>\n",
       "  <tbody>\n",
       "    <tr>\n",
       "      <th>0</th>\n",
       "      <td>1</td>\n",
       "    </tr>\n",
       "    <tr>\n",
       "      <th>1</th>\n",
       "      <td>2</td>\n",
       "    </tr>\n",
       "    <tr>\n",
       "      <th>2</th>\n",
       "      <td>3</td>\n",
       "    </tr>\n",
       "    <tr>\n",
       "      <th>3</th>\n",
       "      <td>4</td>\n",
       "    </tr>\n",
       "    <tr>\n",
       "      <th>4</th>\n",
       "      <td>5</td>\n",
       "    </tr>\n",
       "  </tbody>\n",
       "</table>\n",
       "</div>"
      ],
      "text/plain": [
       "   0\n",
       "0  1\n",
       "1  2\n",
       "2  3\n",
       "3  4\n",
       "4  5"
      ]
     },
     "execution_count": 3,
     "metadata": {},
     "output_type": "execute_result"
    }
   ],
   "source": [
    "aaa_df"
   ]
  },
  {
   "cell_type": "code",
   "execution_count": 7,
   "id": "d369888d",
   "metadata": {},
   "outputs": [
    {
     "data": {
      "text/plain": [
       "array([1, 3, 4, 5])"
      ]
     },
     "execution_count": 7,
     "metadata": {},
     "output_type": "execute_result"
    }
   ],
   "source": [
    "aaa[[True,False,True,True,True]]"
   ]
  },
  {
   "cell_type": "code",
   "execution_count": 9,
   "id": "77a9d0d1",
   "metadata": {},
   "outputs": [
    {
     "data": {
      "text/plain": [
       "pandas.core.frame.DataFrame"
      ]
     },
     "execution_count": 9,
     "metadata": {},
     "output_type": "execute_result"
    }
   ],
   "source": [
    "aaa_df[]"
   ]
  },
  {
   "cell_type": "code",
   "execution_count": 10,
   "id": "19873632",
   "metadata": {},
   "outputs": [],
   "source": [
    "class Node():\n",
    "    def __init__(self,val=None,nex=None):\n",
    "        self.val=val\n",
    "        self.nex=nex\n",
    "node=Node()"
   ]
  },
  {
   "cell_type": "code",
   "execution_count": 15,
   "id": "eb5db31d",
   "metadata": {},
   "outputs": [],
   "source": [
    "node.val=1\n",
    "node.nex=Node()"
   ]
  },
  {
   "cell_type": "code",
   "execution_count": 16,
   "id": "aab891b5",
   "metadata": {},
   "outputs": [],
   "source": [
    "node.nex.val=2"
   ]
  },
  {
   "cell_type": "code",
   "execution_count": 17,
   "id": "f7bf3749",
   "metadata": {},
   "outputs": [
    {
     "data": {
      "text/plain": [
       "__main__.Node"
      ]
     },
     "execution_count": 17,
     "metadata": {},
     "output_type": "execute_result"
    }
   ],
   "source": [
    "type(node.nex)wk"
   ]
  },
  {
   "cell_type": "code",
   "execution_count": null,
   "id": "33613cd0",
   "metadata": {},
   "outputs": [],
   "source": []
  }
 ],
 "metadata": {
  "kernelspec": {
   "display_name": "Python 3",
   "language": "python",
   "name": "python3"
  },
  "language_info": {
   "codemirror_mode": {
    "name": "ipython",
    "version": 3
   },
   "file_extension": ".py",
   "mimetype": "text/x-python",
   "name": "python",
   "nbconvert_exporter": "python",
   "pygments_lexer": "ipython3",
   "version": "3.8.8"
  }
 },
 "nbformat": 4,
 "nbformat_minor": 5
}
