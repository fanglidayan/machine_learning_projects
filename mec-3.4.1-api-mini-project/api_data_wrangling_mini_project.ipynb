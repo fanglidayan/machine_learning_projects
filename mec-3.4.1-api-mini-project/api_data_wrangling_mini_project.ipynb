{
 "cells": [
  {
   "cell_type": "markdown",
   "metadata": {},
   "source": [
    "Homework done by Fanglida Yan"
   ]
  },
  {
   "cell_type": "markdown",
   "metadata": {},
   "source": [
    "This exercise will require you to pull some data from the Qunadl API. Qaundl is currently the most widely used aggregator of financial market data."
   ]
  },
  {
   "cell_type": "markdown",
   "metadata": {},
   "source": [
    "As a first step, you will need to register a free account on the http://www.quandl.com website."
   ]
  },
  {
   "cell_type": "markdown",
   "metadata": {},
   "source": [
    "After you register, you will be provided with a unique API key, that you should store:"
   ]
  },
  {
   "cell_type": "code",
   "execution_count": 1,
   "metadata": {},
   "outputs": [],
   "source": [
    "# Store the API key as a string - according to PEP8, constants are always named in all upper case\n",
    "API_KEY = 'dbemfzVpR8AC5GAVmg9n'"
   ]
  },
  {
   "cell_type": "markdown",
   "metadata": {},
   "source": [
    "Qaundl has a large number of data sources, but, unfortunately, most of them require a Premium subscription. Still, there are also a good number of free datasets."
   ]
  },
  {
   "cell_type": "markdown",
   "metadata": {},
   "source": [
    "For this mini project, we will focus on equities data from the Frankfurt Stock Exhange (FSE), which is available for free. We'll try and analyze the stock prices of a company called Carl Zeiss Meditec, which manufactures tools for eye examinations, as well as medical lasers for laser eye surgery: https://www.zeiss.com/meditec/int/home.html. The company is listed under the stock ticker AFX_X."
   ]
  },
  {
   "cell_type": "markdown",
   "metadata": {},
   "source": [
    "You can find the detailed Quandl API instructions here: https://docs.quandl.com/docs/time-series"
   ]
  },
  {
   "cell_type": "markdown",
   "metadata": {},
   "source": [
    "While there is a dedicated Python package for connecting to the Quandl API, we would prefer that you use the *requests* package, which can be easily downloaded using *pip* or *conda*. You can find the documentation for the package here: http://docs.python-requests.org/en/master/ "
   ]
  },
  {
   "cell_type": "markdown",
   "metadata": {},
   "source": [
    "Finally, apart from the *requests* package, you are encouraged to not use any third party Python packages, such as *pandas*, and instead focus on what's available in the Python Standard Library (the *collections* module might come in handy: https://pymotw.com/3/collections/).\n",
    "Also, since you won't have access to DataFrames, you are encouraged to us Python's native data structures - preferably dictionaries, though some questions can also be answered using lists.\n",
    "You can read more on these data structures here: https://docs.python.org/3/tutorial/datastructures.html"
   ]
  },
  {
   "cell_type": "markdown",
   "metadata": {},
   "source": [
    "Keep in mind that the JSON responses you will be getting from the API map almost one-to-one to Python's dictionaries. Unfortunately, they can be very nested, so make sure you read up on indexing dictionaries in the documentation provided above."
   ]
  },
  {
   "cell_type": "code",
   "execution_count": 3,
   "metadata": {},
   "outputs": [],
   "source": [
    "# First, import the relevant modules\n",
    "\n",
    "import json\n",
    "import urllib.request"
   ]
  },
  {
   "cell_type": "code",
   "execution_count": 107,
   "metadata": {},
   "outputs": [],
   "source": [
    "# Now, call the Quandl API and pull out a small sample of the data (only one day) to get a glimpse\n",
    "# into the JSON structure that will be returned\n",
    "data = json.loads(urllib.request.urlopen(\"https://www.quandl.com/api/v3/datasets/WIKI/FB/data.json?start_data=2017-03-03&end_date=2017-12-22&api_key=dbemfzVpR8AC5GAVmg9n\").read().\\\n",
    "                  decode('utf8'))"
   ]
  },
  {
   "cell_type": "code",
   "execution_count": 82,
   "metadata": {},
   "outputs": [
    {
     "name": "stdout",
     "output_type": "stream",
     "text": [
      "<class 'dict'>\n",
      "<built-in method keys of dict object at 0x7fa7f606a540>\n"
     ]
    }
   ],
   "source": [
    "# Inspect the JSON structure of the object you created, and take note of how nested it is,\n",
    "# as well as the overall structure\n",
    "print(type(data))\n",
    "print(data.keys)"
   ]
  },
  {
   "cell_type": "code",
   "execution_count": 108,
   "metadata": {},
   "outputs": [
    {
     "name": "stdout",
     "output_type": "stream",
     "text": [
      "['Date', 'Open', 'High', 'Low', 'Close', 'Volume', 'Ex-Dividend', 'Split Ratio', 'Adj. Open', 'Adj. High', 'Adj. Low', 'Adj. Close', 'Adj. Volume']\n",
      "\n",
      "\n",
      "['2012-05-18', 42.05, 45.0, 38.0, 38.2318, 573576400.0, 0.0, 1.0, 42.05, 45.0, 38.0, 38.2318, 573576400.0]\n"
     ]
    }
   ],
   "source": [
    "print(data['dataset_data']['column_names'])\n",
    "print('\\n')\n",
    "print(data['dataset_data']['data'][-1])"
   ]
  },
  {
   "cell_type": "markdown",
   "metadata": {},
   "source": [
    "These are your tasks for this mini project:\n",
    "\n",
    "1. Collect data from the Franfurt Stock Exchange, for the ticker AFX_X, for the whole year 2017 (keep in mind that the date format is YYYY-MM-DD).\n",
    "2. Convert the returned JSON object into a Python dictionary.\n",
    "3. Calculate what the highest and lowest opening prices were for the stock in this period.\n",
    "4. What was the largest change in any one day (based on High and Low price)?\n",
    "5. What was the largest change between any two days (based on Closing Price)?\n",
    "6. What was the average daily trading volume during this year?\n",
    "7. (Optional) What was the median trading volume during this year. (Note: you may need to implement your own function for calculating the median.)"
   ]
  },
  {
   "cell_type": "markdown",
   "metadata": {},
   "source": [
    "***1. Collect data from the Franfurt Stock Exchange, for the ticker AFX_X, for the whole year 2017 (keep in mind that the date format is YYYY-MM-DD). <br>\n",
    "2. Convert the returned JSON object into a Python dictionary.***"
   ]
  },
  {
   "cell_type": "code",
   "execution_count": 116,
   "metadata": {},
   "outputs": [],
   "source": [
    "data = json.loads(urllib.request.urlopen(\"https://www.quandl.com/api/v3/datasets/FSE/AFX_X/data.json?start_data=2017-01-01&end_data=2017-12-31&api_key=dbemfzVpR8AC5GAVmg9n\").read().\\\n",
    "                  decode('utf8'))"
   ]
  },
  {
   "cell_type": "code",
   "execution_count": 135,
   "metadata": {},
   "outputs": [
    {
     "data": {
      "text/plain": [
       "['Date',\n",
       " 'Open',\n",
       " 'High',\n",
       " 'Low',\n",
       " 'Close',\n",
       " 'Change',\n",
       " 'Traded Volume',\n",
       " 'Turnover',\n",
       " 'Last Price of the Day',\n",
       " 'Daily Traded Units',\n",
       " 'Daily Turnover']"
      ]
     },
     "execution_count": 135,
     "metadata": {},
     "output_type": "execute_result"
    }
   ],
   "source": [
    "data['dataset_data']['column_names']"
   ]
  },
  {
   "cell_type": "code",
   "execution_count": 122,
   "metadata": {},
   "outputs": [
    {
     "data": {
      "text/plain": [
       "'2020'"
      ]
     },
     "execution_count": 122,
     "metadata": {},
     "output_type": "execute_result"
    }
   ],
   "source": [
    "data['dataset_data']['data'][0][0][:4]"
   ]
  },
  {
   "cell_type": "code",
   "execution_count": 126,
   "metadata": {},
   "outputs": [
    {
     "name": "stdout",
     "output_type": "stream",
     "text": [
      "['2017-01-02', 34.99, 35.94, 34.99, 35.8, None, 44700.0, 1590561.0, None, None, None]\n",
      "['2017-12-29', 51.76, 51.94, 51.45, 51.76, None, 34640.0, 1792304.0, None, None, None]\n"
     ]
    }
   ],
   "source": [
    "store=[]\n",
    "for ele in data['dataset_data']['data']:\n",
    "    if ele[0][:4]=='2017':\n",
    "        store.append(ele)\n",
    "print(store[-1])\n",
    "print(store[0])"
   ]
  },
  {
   "cell_type": "code",
   "execution_count": 131,
   "metadata": {},
   "outputs": [
    {
     "data": {
      "text/plain": [
       "[['2017-01-02',\n",
       "  34.99,\n",
       "  35.94,\n",
       "  34.99,\n",
       "  35.8,\n",
       "  None,\n",
       "  44700.0,\n",
       "  1590561.0,\n",
       "  None,\n",
       "  None,\n",
       "  None],\n",
       " ['2017-01-03',\n",
       "  35.9,\n",
       "  35.93,\n",
       "  35.34,\n",
       "  35.48,\n",
       "  None,\n",
       "  70618.0,\n",
       "  2515473.0,\n",
       "  None,\n",
       "  None,\n",
       "  None],\n",
       " ['2017-01-04',\n",
       "  35.48,\n",
       "  35.51,\n",
       "  34.75,\n",
       "  35.19,\n",
       "  None,\n",
       "  54408.0,\n",
       "  1906810.0,\n",
       "  None,\n",
       "  None,\n",
       "  None],\n",
       " ['2017-01-05',\n",
       "  35.02,\n",
       "  35.2,\n",
       "  34.73,\n",
       "  35.06,\n",
       "  None,\n",
       "  48412.0,\n",
       "  1692326.0,\n",
       "  None,\n",
       "  None,\n",
       "  None],\n",
       " ['2017-01-06',\n",
       "  34.91,\n",
       "  35.21,\n",
       "  34.91,\n",
       "  35.04,\n",
       "  None,\n",
       "  27507.0,\n",
       "  964046.0,\n",
       "  None,\n",
       "  None,\n",
       "  None],\n",
       " ['2017-01-09',\n",
       "  35.29,\n",
       "  35.35,\n",
       "  34.43,\n",
       "  34.67,\n",
       "  None,\n",
       "  62225.0,\n",
       "  2157182.0,\n",
       "  None,\n",
       "  None,\n",
       "  None],\n",
       " ['2017-01-10',\n",
       "  34.8,\n",
       "  34.98,\n",
       "  34.46,\n",
       "  34.91,\n",
       "  None,\n",
       "  43976.0,\n",
       "  1528055.0,\n",
       "  None,\n",
       "  None,\n",
       "  None],\n",
       " ['2017-01-11',\n",
       "  34.95,\n",
       "  36.0,\n",
       "  34.84,\n",
       "  35.42,\n",
       "  None,\n",
       "  123530.0,\n",
       "  4369079.0,\n",
       "  None,\n",
       "  None,\n",
       "  None],\n",
       " ['2017-01-12',\n",
       "  35.38,\n",
       "  35.38,\n",
       "  34.31,\n",
       "  34.9,\n",
       "  None,\n",
       "  163860.0,\n",
       "  5703427.0,\n",
       "  None,\n",
       "  None,\n",
       "  None],\n",
       " ['2017-01-13',\n",
       "  34.98,\n",
       "  34.98,\n",
       "  34.6,\n",
       "  34.85,\n",
       "  None,\n",
       "  59367.0,\n",
       "  2065534.0,\n",
       "  None,\n",
       "  None,\n",
       "  None]]"
      ]
     },
     "execution_count": 131,
     "metadata": {},
     "output_type": "execute_result"
    }
   ],
   "source": [
    "def sorta(ele):\n",
    "    return ele[0]\n",
    "store.sort(key=sorta)\n",
    "store[:10]"
   ]
  },
  {
   "cell_type": "markdown",
   "metadata": {},
   "source": [
    "***3. Calculate what the highest and lowest opening prices were for the stock in this period.***"
   ]
  },
  {
   "cell_type": "code",
   "execution_count": 140,
   "metadata": {},
   "outputs": [
    {
     "name": "stdout",
     "output_type": "stream",
     "text": [
      "53.11\n",
      "34.0\n"
     ]
    }
   ],
   "source": [
    "mini=34.99\n",
    "maxi=34.99\n",
    "for ele in store:\n",
    "    try:\n",
    "        if ele[1]>maxi:\n",
    "            maxi=ele[1]\n",
    "    except:\n",
    "        None\n",
    "    try:\n",
    "        if ele[1]<mini:\n",
    "            mini=ele[1]\n",
    "    except:\n",
    "        None\n",
    "print(maxi) # maximum\n",
    "print(mini) # minimum"
   ]
  },
  {
   "cell_type": "markdown",
   "metadata": {},
   "source": [
    "***4. What was the largest change in any one day (based on High and Low price)?***"
   ]
  },
  {
   "cell_type": "code",
   "execution_count": 141,
   "metadata": {},
   "outputs": [
    {
     "name": "stdout",
     "output_type": "stream",
     "text": [
      "2.8100000000000023\n"
     ]
    }
   ],
   "source": [
    "change=0\n",
    "for ele in store:\n",
    "    try:\n",
    "        change=max(change,ele[2]-ele[3])\n",
    "    except:\n",
    "        None\n",
    "print(change) # the largest daily change"
   ]
  },
  {
   "cell_type": "markdown",
   "metadata": {},
   "source": [
    "***5. What was the largest change between any two days (based on Closing Price)?***"
   ]
  },
  {
   "cell_type": "code",
   "execution_count": 143,
   "metadata": {},
   "outputs": [
    {
     "name": "stdout",
     "output_type": "stream",
     "text": [
      "2.559999999999995\n"
     ]
    }
   ],
   "source": [
    "change=0\n",
    "for i in range(len(store)-1):\n",
    "    try:\n",
    "        change=max(abs(store[i+1][4]-store[i][4]),change)\n",
    "    except:\n",
    "        None\n",
    "print(change) # the largest change between two consequtive days (based on closing price)"
   ]
  },
  {
   "cell_type": "markdown",
   "metadata": {},
   "source": [
    "***6. What was the average daily trading volume during this year?***"
   ]
  },
  {
   "cell_type": "code",
   "execution_count": 145,
   "metadata": {},
   "outputs": [
    {
     "name": "stdout",
     "output_type": "stream",
     "text": [
      "89124.33725490196\n"
     ]
    }
   ],
   "source": [
    "tot=0\n",
    "cot=0\n",
    "for ele in store:\n",
    "    try:\n",
    "        tot+=ele[6]\n",
    "        cot+=1\n",
    "    except:\n",
    "        None\n",
    "print(tot/cot) # average daily trading volume for the year 2017"
   ]
  },
  {
   "cell_type": "markdown",
   "metadata": {},
   "source": [
    "***7. (Optional) What was the median trading volume during this year.***"
   ]
  },
  {
   "cell_type": "code",
   "execution_count": 149,
   "metadata": {},
   "outputs": [
    {
     "data": {
      "text/plain": [
       "255"
      ]
     },
     "execution_count": 149,
     "metadata": {},
     "output_type": "execute_result"
    }
   ],
   "source": [
    "temp=[]\n",
    "for ele in store:\n",
    "    if ele[6]!=None:\n",
    "        temp.append(ele[6])\n",
    "temp.sort()\n",
    "len(temp)"
   ]
  },
  {
   "cell_type": "code",
   "execution_count": 151,
   "metadata": {},
   "outputs": [
    {
     "data": {
      "text/plain": [
       "76286.0"
      ]
     },
     "execution_count": 151,
     "metadata": {},
     "output_type": "execute_result"
    }
   ],
   "source": [
    "temp[int((255-1)/2)] # median "
   ]
  },
  {
   "cell_type": "code",
   "execution_count": null,
   "metadata": {},
   "outputs": [],
   "source": []
  }
 ],
 "metadata": {
  "kernelspec": {
   "display_name": "Python 3",
   "language": "python",
   "name": "python3"
  },
  "language_info": {
   "codemirror_mode": {
    "name": "ipython",
    "version": 3
   },
   "file_extension": ".py",
   "mimetype": "text/x-python",
   "name": "python",
   "nbconvert_exporter": "python",
   "pygments_lexer": "ipython3",
   "version": "3.9.0"
  }
 },
 "nbformat": 4,
 "nbformat_minor": 2
}
